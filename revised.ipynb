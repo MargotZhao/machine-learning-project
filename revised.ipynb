{
 "cells": [
  {
   "cell_type": "code",
   "execution_count": 1,
   "id": "81e6fd92-b91c-4db0-8de6-e5a880bdda76",
   "metadata": {},
   "outputs": [],
   "source": [
    "import pandas as pd\n",
    "import numpy as np\n",
    "import matplotlib.pyplot as plt\n",
    "import seaborn as sns"
   ]
  },
  {
   "cell_type": "code",
   "execution_count": 2,
   "id": "7a1e85db-ccb5-483a-b94c-61ba34f2d52d",
   "metadata": {},
   "outputs": [
    {
     "name": "stderr",
     "output_type": "stream",
     "text": [
      "/var/folders/2d/d0kzt8513jx2wgn4ml9fmy0w0000gn/T/ipykernel_42580/2095908849.py:3: DtypeWarning: Columns (24,25,28,32,45) have mixed types. Specify dtype option on import or set low_memory=False.\n",
      "  companies = pd.read_csv('anonymized_hubspot_companies.csv')\n"
     ]
    }
   ],
   "source": [
    "tickets = pd.read_csv('anonymized_hubspot_tickets.csv')\n",
    "deals = pd.read_csv('anonymized_hubspot_deals.csv')\n",
    "companies = pd.read_csv('anonymized_hubspot_companies.csv')"
   ]
  },
  {
   "cell_type": "code",
   "execution_count": 3,
   "id": "f04b71e8-03b8-47d7-a063-a7028da9206a",
   "metadata": {},
   "outputs": [
    {
     "data": {
      "text/plain": [
       "593"
      ]
     },
     "execution_count": 3,
     "metadata": {},
     "output_type": "execute_result"
    }
   ],
   "source": [
    "len(deals)"
   ]
  },
  {
   "cell_type": "code",
   "execution_count": 4,
   "id": "6965fc2c-b197-4a63-861c-62f842f2fe8c",
   "metadata": {},
   "outputs": [
    {
     "data": {
      "text/plain": [
       "19851"
      ]
     },
     "execution_count": 4,
     "metadata": {},
     "output_type": "execute_result"
    }
   ],
   "source": [
    "len(companies)"
   ]
  },
  {
   "cell_type": "code",
   "execution_count": 5,
   "id": "74c01060-b0cd-40c8-b6a4-7b00cb265dd4",
   "metadata": {},
   "outputs": [
    {
     "data": {
      "text/plain": [
       "79"
      ]
     },
     "execution_count": 5,
     "metadata": {},
     "output_type": "execute_result"
    }
   ],
   "source": [
    "len(tickets)"
   ]
  },
  {
   "cell_type": "code",
   "execution_count": 6,
   "id": "7d31b61e-5ae4-4a2d-909f-fc1e60fb1adc",
   "metadata": {},
   "outputs": [
    {
     "data": {
      "text/html": [
       "<div>\n",
       "<style scoped>\n",
       "    .dataframe tbody tr th:only-of-type {\n",
       "        vertical-align: middle;\n",
       "    }\n",
       "\n",
       "    .dataframe tbody tr th {\n",
       "        vertical-align: top;\n",
       "    }\n",
       "\n",
       "    .dataframe thead th {\n",
       "        text-align: right;\n",
       "    }\n",
       "</style>\n",
       "<table border=\"1\" class=\"dataframe\">\n",
       "  <thead>\n",
       "    <tr style=\"text-align: right;\">\n",
       "      <th></th>\n",
       "      <th>Create date</th>\n",
       "      <th>Ticket Tags</th>\n",
       "      <th>Stage Date - Project Launch</th>\n",
       "      <th>Associated Contact</th>\n",
       "      <th>Category</th>\n",
       "      <th>Target Launch Date</th>\n",
       "      <th>Kickoff Call</th>\n",
       "      <th>Close date</th>\n",
       "      <th>Pipeline</th>\n",
       "      <th>Stage Date - Project Initiation</th>\n",
       "      <th>Stage Date - Planning Phase</th>\n",
       "      <th>Ticket status</th>\n",
       "      <th>Stage Date - Execution</th>\n",
       "      <th>Time to first agent email reply (HH:mm:ss)</th>\n",
       "      <th>Last CES survey rating</th>\n",
       "      <th>Priority</th>\n",
       "      <th>Associated Company</th>\n",
       "      <th>Who will be creating the Syms?</th>\n",
       "      <th>Stage Date - Closure Phase</th>\n",
       "      <th>Stage Date - Monitoring and Control Phase</th>\n",
       "      <th>Associated Company (Primary)</th>\n",
       "      <th>Response time (HH:mm:ss)</th>\n",
       "      <th>Ticket ID</th>\n",
       "      <th>Time to close (HH:mm:ss)</th>\n",
       "      <th>Associated Deal</th>\n",
       "      <th>Library index approved</th>\n",
       "      <th>Training: General Overview</th>\n",
       "      <th>Latest Milestone</th>\n",
       "      <th>Training: Deployment/User Management Training</th>\n",
       "      <th>Requirements for the Trial</th>\n",
       "      <th>Training: Sym Building 101</th>\n",
       "      <th>Last modified date</th>\n",
       "      <th>Type</th>\n",
       "      <th>Trial End Date</th>\n",
       "      <th>Training: Sym Building 201</th>\n",
       "      <th>Stage Date - Converted Won</th>\n",
       "      <th>Latest Milestone Update Date</th>\n",
       "      <th>Ticket name</th>\n",
       "      <th>Trial Overview</th>\n",
       "      <th>Trial Start Date</th>\n",
       "      <th>1st Syms presented for review</th>\n",
       "      <th>Project Launch Day</th>\n",
       "      <th>Training: Reporting</th>\n",
       "      <th>Construction of 1st Sym begun</th>\n",
       "      <th>Trial Required</th>\n",
       "      <th>Was the sym QAed?</th>\n",
       "    </tr>\n",
       "  </thead>\n",
       "  <tbody>\n",
       "    <tr>\n",
       "      <th>0</th>\n",
       "      <td>2023-12-18 15:02</td>\n",
       "      <td>NaN</td>\n",
       "      <td>NaN</td>\n",
       "      <td>Contact_b6d930b5</td>\n",
       "      <td>NaN</td>\n",
       "      <td>NaN</td>\n",
       "      <td>2023-12-27</td>\n",
       "      <td>2024-01-29 11:50</td>\n",
       "      <td>Project Success Plan</td>\n",
       "      <td>2023-12-18</td>\n",
       "      <td>NaN</td>\n",
       "      <td>Converted-Won</td>\n",
       "      <td>2024-01-02</td>\n",
       "      <td>NaN</td>\n",
       "      <td>NaN</td>\n",
       "      <td>NaN</td>\n",
       "      <td>Company_67d87cec</td>\n",
       "      <td>NaN</td>\n",
       "      <td>2024-01-29</td>\n",
       "      <td>NaN</td>\n",
       "      <td>Company_67d87cec</td>\n",
       "      <td>NaN</td>\n",
       "      <td>2193923207</td>\n",
       "      <td>1004:48:10</td>\n",
       "      <td>Deal_67d87cec</td>\n",
       "      <td>No</td>\n",
       "      <td>NaN</td>\n",
       "      <td>NaN</td>\n",
       "      <td>NaN</td>\n",
       "      <td>Coaching</td>\n",
       "      <td>NaN</td>\n",
       "      <td>2025-02-14 13:39</td>\n",
       "      <td>NaN</td>\n",
       "      <td>NaN</td>\n",
       "      <td>NaN</td>\n",
       "      <td>2024-02-06</td>\n",
       "      <td>NaN</td>\n",
       "      <td>Ticket_4baf7886</td>\n",
       "      <td>NaN</td>\n",
       "      <td>NaN</td>\n",
       "      <td>NaN</td>\n",
       "      <td>NaN</td>\n",
       "      <td>NaN</td>\n",
       "      <td>2023-12-27</td>\n",
       "      <td>NaN</td>\n",
       "      <td>NaN</td>\n",
       "    </tr>\n",
       "    <tr>\n",
       "      <th>1</th>\n",
       "      <td>2024-10-30 12:31</td>\n",
       "      <td>NaN</td>\n",
       "      <td>NaN</td>\n",
       "      <td>Contact_aa84b2e1</td>\n",
       "      <td>NaN</td>\n",
       "      <td>NaN</td>\n",
       "      <td>NaN</td>\n",
       "      <td>2025-02-10 11:18</td>\n",
       "      <td>Project Success Plan</td>\n",
       "      <td>NaN</td>\n",
       "      <td>NaN</td>\n",
       "      <td>Lost</td>\n",
       "      <td>NaN</td>\n",
       "      <td>49:24:00</td>\n",
       "      <td>NaN</td>\n",
       "      <td>NaN</td>\n",
       "      <td>Company_7588d0d5</td>\n",
       "      <td>NaN</td>\n",
       "      <td>NaN</td>\n",
       "      <td>NaN</td>\n",
       "      <td>Company_67d87cec</td>\n",
       "      <td>49:24:00</td>\n",
       "      <td>15899166073</td>\n",
       "      <td>2471:47:33</td>\n",
       "      <td>NaN</td>\n",
       "      <td>NaN</td>\n",
       "      <td>NaN</td>\n",
       "      <td>NaN</td>\n",
       "      <td>NaN</td>\n",
       "      <td>NaN</td>\n",
       "      <td>NaN</td>\n",
       "      <td>2025-02-14 13:39</td>\n",
       "      <td>NaN</td>\n",
       "      <td>2024-11-07</td>\n",
       "      <td>NaN</td>\n",
       "      <td>NaN</td>\n",
       "      <td>NaN</td>\n",
       "      <td>Ticket_88dda9e1</td>\n",
       "      <td>NaN</td>\n",
       "      <td>2024-11-05</td>\n",
       "      <td>NaN</td>\n",
       "      <td>NaN</td>\n",
       "      <td>NaN</td>\n",
       "      <td>NaN</td>\n",
       "      <td>NaN</td>\n",
       "      <td>NaN</td>\n",
       "    </tr>\n",
       "  </tbody>\n",
       "</table>\n",
       "</div>"
      ],
      "text/plain": [
       "        Create date  Ticket Tags Stage Date - Project Launch  \\\n",
       "0  2023-12-18 15:02          NaN                         NaN   \n",
       "1  2024-10-30 12:31          NaN                         NaN   \n",
       "\n",
       "  Associated Contact  Category Target Launch Date Kickoff Call  \\\n",
       "0   Contact_b6d930b5       NaN                NaN   2023-12-27   \n",
       "1   Contact_aa84b2e1       NaN                NaN          NaN   \n",
       "\n",
       "         Close date              Pipeline Stage Date - Project Initiation  \\\n",
       "0  2024-01-29 11:50  Project Success Plan                      2023-12-18   \n",
       "1  2025-02-10 11:18  Project Success Plan                             NaN   \n",
       "\n",
       "   Stage Date - Planning Phase  Ticket status Stage Date - Execution  \\\n",
       "0                          NaN  Converted-Won             2024-01-02   \n",
       "1                          NaN           Lost                    NaN   \n",
       "\n",
       "  Time to first agent email reply (HH:mm:ss)  Last CES survey rating Priority  \\\n",
       "0                                        NaN                     NaN      NaN   \n",
       "1                                   49:24:00                     NaN      NaN   \n",
       "\n",
       "  Associated Company Who will be creating the Syms?  \\\n",
       "0   Company_67d87cec                            NaN   \n",
       "1   Company_7588d0d5                            NaN   \n",
       "\n",
       "  Stage Date - Closure Phase  Stage Date - Monitoring and Control Phase  \\\n",
       "0                 2024-01-29                                        NaN   \n",
       "1                        NaN                                        NaN   \n",
       "\n",
       "  Associated Company (Primary) Response time (HH:mm:ss)    Ticket ID  \\\n",
       "0             Company_67d87cec                      NaN   2193923207   \n",
       "1             Company_67d87cec                 49:24:00  15899166073   \n",
       "\n",
       "  Time to close (HH:mm:ss) Associated Deal Library index approved  \\\n",
       "0               1004:48:10   Deal_67d87cec                     No   \n",
       "1               2471:47:33             NaN                    NaN   \n",
       "\n",
       "  Training: General Overview Latest Milestone  \\\n",
       "0                        NaN              NaN   \n",
       "1                        NaN              NaN   \n",
       "\n",
       "  Training: Deployment/User Management Training Requirements for the Trial  \\\n",
       "0                                           NaN                   Coaching   \n",
       "1                                           NaN                        NaN   \n",
       "\n",
       "  Training: Sym Building 101 Last modified date Type Trial End Date  \\\n",
       "0                        NaN   2025-02-14 13:39  NaN            NaN   \n",
       "1                        NaN   2025-02-14 13:39  NaN     2024-11-07   \n",
       "\n",
       "  Training: Sym Building 201 Stage Date - Converted Won  \\\n",
       "0                        NaN                 2024-02-06   \n",
       "1                        NaN                        NaN   \n",
       "\n",
       "  Latest Milestone Update Date      Ticket name Trial Overview  \\\n",
       "0                          NaN  Ticket_4baf7886            NaN   \n",
       "1                          NaN  Ticket_88dda9e1            NaN   \n",
       "\n",
       "  Trial Start Date 1st Syms presented for review Project Launch Day  \\\n",
       "0              NaN                           NaN                NaN   \n",
       "1       2024-11-05                           NaN                NaN   \n",
       "\n",
       "  Training: Reporting Construction of 1st Sym begun Trial Required  \\\n",
       "0                 NaN                    2023-12-27            NaN   \n",
       "1                 NaN                           NaN            NaN   \n",
       "\n",
       "   Was the sym QAed?  \n",
       "0                NaN  \n",
       "1                NaN  "
      ]
     },
     "execution_count": 6,
     "metadata": {},
     "output_type": "execute_result"
    }
   ],
   "source": [
    "pd.set_option('display.max_columns', None)\n",
    "tickets.head(n = 2)"
   ]
  },
  {
   "cell_type": "code",
   "execution_count": 7,
   "id": "07b892a6-121b-4fbe-929f-85f8576f554d",
   "metadata": {},
   "outputs": [],
   "source": [
    "# EDA for deals"
   ]
  },
  {
   "cell_type": "code",
   "execution_count": 8,
   "id": "8a75abd8-acb4-4f76-b8d6-11aac9119baa",
   "metadata": {},
   "outputs": [
    {
     "name": "stdout",
     "output_type": "stream",
     "text": [
      "Columns to drop (over 90% missing):\n",
      "['Cumulative time in \"Closed Lost (Sales Pipeline)\" (HH:mm:ss)', 'Annual contract value', 'Annual recurring revenue', 'Monthly recurring revenue', 'Forecast probability', 'Cumulative time in \"Closed Trial (Sales Pipeline)\" (HH:mm:ss)', 'Total contract value', 'Cumulative time in \"Closed Won (Sales Pipeline)\" (HH:mm:ss)']\n"
     ]
    }
   ],
   "source": [
    "# 1. Drop Columns with >95% Missing Values\n",
    "# Identify columns with >95% missing values\n",
    "high_missing_cols = deals.columns[deals.isnull().mean() > 0.95]\n",
    "print(\"Columns to drop (over 90% missing):\")\n",
    "print(high_missing_cols.tolist())\n",
    "\n",
    "# Drop them\n",
    "deals_cleaned = deals.drop(columns=high_missing_cols)"
   ]
  },
  {
   "cell_type": "code",
   "execution_count": 9,
   "id": "8b8b7263-0088-4096-9d13-bf9fc7d87d3c",
   "metadata": {},
   "outputs": [
    {
     "name": "stdout",
     "output_type": "stream",
     "text": [
      "Missing in 'Amount': 0.03372681281618887\n",
      "count        573.000000\n",
      "mean       40013.277487\n",
      "std        77441.027305\n",
      "min            0.000000\n",
      "25%         4800.000000\n",
      "50%        24000.000000\n",
      "75%        50000.000000\n",
      "max      1000000.000000\n",
      "Name: Amount, dtype: float64\n"
     ]
    },
    {
     "data": {
      "image/png": "[encoded data removed]",
      "text/plain": [
       "<Figure size 640x480 with 1 Axes>"
      ]
     },
     "metadata": {},
     "output_type": "display_data"
    }
   ],
   "source": [
    "#2. Check and Visualize Amount Field\n",
    "import matplotlib.pyplot as plt\n",
    "import seaborn as sns\n",
    "\n",
    "# Check missing % and basic stats\n",
    "print(\"Missing in 'Amount':\", deals_cleaned['Amount'].isnull().mean())\n",
    "print(deals_cleaned['Amount'].describe())\n",
    "\n",
    "# Distribution plot\n",
    "sns.histplot(deals_cleaned['Amount'].dropna(), kde=True)\n",
    "plt.title(\"Distribution of Deal Amounts\")\n",
    "plt.xlabel(\"Amount\")\n",
    "plt.ylabel(\"Frequency\")\n",
    "plt.show()\n"
   ]
  },
  {
   "cell_type": "code",
   "execution_count": 10,
   "id": "0f313640-f9d8-4d72-b82c-09dd17555c9a",
   "metadata": {},
   "outputs": [
    {
     "name": "stdout",
     "output_type": "stream",
     "text": [
      "count     593.000000\n",
      "mean      153.819562\n",
      "std       134.044086\n",
      "min         0.000000\n",
      "25%        89.000000\n",
      "50%       128.000000\n",
      "75%       167.000000\n",
      "max      1045.000000\n",
      "Name: Days to close, dtype: float64\n"
     ]
    },
    {
     "data": {
      "image/png": "[encoded data removed]",
      "text/plain": [
       "<Figure size 640x480 with 1 Axes>"
      ]
     },
     "metadata": {},
     "output_type": "display_data"
    }
   ],
   "source": [
    "# 3. Check for Outliers in Days to Close\n",
    "# Basic stats\n",
    "print(deals_cleaned['Days to close'].describe())\n",
    "\n",
    "# Boxplot to check for outliers\n",
    "sns.boxplot(x=deals_cleaned['Days to close'])\n",
    "plt.title(\"Outliers in Days to Close\")\n",
    "plt.show()\n"
   ]
  },
  {
   "cell_type": "code",
   "execution_count": 11,
   "id": "45b12143-b11f-4369-b202-fa0cde8b7261",
   "metadata": {},
   "outputs": [
    {
     "data": {
      "image/png": "[encoded data removed]",
      "text/plain": [
       "<Figure size 640x480 with 1 Axes>"
      ]
     },
     "metadata": {},
     "output_type": "display_data"
    }
   ],
   "source": [
    "# 4. Explore Deal Probability vs. Outcome\n",
    "# Boxplot of probability by deal outcome\n",
    "sns.boxplot(x=deals_cleaned['Is Closed Won'], y=deals_cleaned['Deal probability'])\n",
    "plt.title(\"Deal Probability vs Closed Won\")\n",
    "plt.xlabel(\"Is Closed Won\")\n",
    "plt.ylabel(\"Deal Probability\")\n",
    "plt.show()\n"
   ]
  },
  {
   "cell_type": "code",
   "execution_count": 12,
   "id": "527044c4-2ba0-4391-b9ab-a1d42fb1e75e",
   "metadata": {},
   "outputs": [],
   "source": [
    "# EDA for tickets"
   ]
  },
  {
   "cell_type": "code",
   "execution_count": 13,
   "id": "ce629f20-72a0-4fc8-9681-e7aa3b89ebbb",
   "metadata": {},
   "outputs": [
    {
     "name": "stdout",
     "output_type": "stream",
     "text": [
      "Dropped columns: ['Ticket Tags', 'Category', 'Stage Date - Planning Phase', 'Last CES survey rating', 'Priority', 'Who will be creating the Syms?', 'Stage Date - Monitoring and Control Phase', 'Type', 'Trial Required', 'Was the sym QAed?']\n",
      "  Time to close (HH:mm:ss) Response time (HH:mm:ss)  \\\n",
      "0               1004:48:10                      NaN   \n",
      "1               2471:47:33                 49:24:00   \n",
      "2                      NaN               1516:30:41   \n",
      "3               2853:51:33                 26:25:51   \n",
      "4                      NaN                 13:32:11   \n",
      "\n",
      "  Time to first agent email reply (HH:mm:ss)  \n",
      "0                                        NaN  \n",
      "1                                   49:24:00  \n",
      "2                                 1516:30:41  \n",
      "3                                   26:25:51  \n",
      "4                                   13:32:11  \n",
      "Tickets with associated deal: 58\n",
      "Tickets without associated deal: 21\n",
      "Training: Sym Building 201                       75.949367\n",
      "Training: Reporting                              69.620253\n",
      "Training: Sym Building 101                       68.354430\n",
      "Training: Deployment/User Management Training    67.088608\n",
      "Training: General Overview                       64.556962\n",
      "dtype: float64\n"
     ]
    }
   ],
   "source": [
    "# 1. Drop columns with >95% missing\n",
    "high_missing = tickets.columns[tickets.isnull().mean() > 0.95]\n",
    "tickets_cleaned = tickets.drop(columns=high_missing)\n",
    "print(\"Dropped columns:\", list(high_missing))\n",
    "\n",
    "# 2. Check time-related fields\n",
    "time_fields = ['Time to close (HH:mm:ss)', 'Response time (HH:mm:ss)', 'Time to first agent email reply (HH:mm:ss)']\n",
    "print(tickets_cleaned[time_fields].head())\n",
    "\n",
    "# 3. Associated Deal analysis\n",
    "print(\"Tickets with associated deal:\", tickets_cleaned['Associated Deal'].notnull().sum())\n",
    "print(\"Tickets without associated deal:\", tickets_cleaned['Associated Deal'].isnull().sum())\n",
    "\n",
    "# 4. Training completion overview\n",
    "training_cols = [col for col in tickets.columns if \"Training\" in col]\n",
    "training_missing = tickets[training_cols].isnull().mean() * 100\n",
    "print(training_missing.sort_values(ascending=False))\n"
   ]
  },
  {
   "cell_type": "code",
   "execution_count": 14,
   "id": "cefd0163-65e7-4e54-ad12-43c9b3aaa015",
   "metadata": {},
   "outputs": [],
   "source": [
    "# EDA for companies"
   ]
  },
  {
   "cell_type": "code",
   "execution_count": 15,
   "id": "9f654a43-d82f-42a1-aa09-ab9ab03bd0fc",
   "metadata": {},
   "outputs": [
    {
     "name": "stdout",
     "output_type": "stream",
     "text": [
      "Dropped columns: ['Parent Company', 'Target Account', 'Total Agents', 'Close Date', '# of Agents Total', 'Revenue range', '# of Agents Contracted', 'Primary Company', 'Industry group', 'LMS System', 'SymTrain Use Cases', 'Associated Company', 'BPO', 'SSO Application', 'SymTrain Product', 'Contract End Date', 'SSO Implemented?', 'BPO Program', 'WFM', 'BPO Program Tier']\n"
     ]
    }
   ],
   "source": [
    "# 1. Drop High-Missing Columns\n",
    "high_missing_cols = companies.columns[companies.isnull().mean() > 0.95]\n",
    "companies_cleaned = companies.drop(columns=high_missing_cols)\n",
    "print(\"Dropped columns:\", list(high_missing_cols))"
   ]
  },
  {
   "cell_type": "code",
   "execution_count": 16,
   "id": "34a620ab-95ae-4d1a-9d70-dcb4c445b434",
   "metadata": {},
   "outputs": [
    {
     "name": "stdout",
     "output_type": "stream",
     "text": [
      "Industry\n",
      "Computer Software                   1216\n",
      "Hospital & Health Care              1197\n",
      "Insurance                           1024\n",
      "Banking                              901\n",
      "NaN                                  774\n",
      "Financial Services                   712\n",
      "Professional Training & Coaching     669\n",
      "Higher Education                     645\n",
      "Technology                           594\n",
      "Construction                         505\n",
      "Name: count, dtype: int64\n"
     ]
    },
    {
     "data": {
      "image/png": "[encoded data removed]",
      "text/plain": [
       "<Figure size 640x480 with 1 Axes>"
      ]
     },
     "metadata": {},
     "output_type": "display_data"
    }
   ],
   "source": [
    "# 2. Explore Industry and Size\n",
    "# Industry distribution\n",
    "print(companies['Industry'].value_counts(dropna=False).head(10))\n",
    "\n",
    "# Number of employees distribution\n",
    "import seaborn as sns\n",
    "import matplotlib.pyplot as plt\n",
    "\n",
    "sns.histplot(companies['Number of Employees'].dropna(), bins=30)\n",
    "plt.title(\"Distribution of Company Size\")\n",
    "plt.xlabel(\"Number of Employees\")\n",
    "plt.show()\n"
   ]
  },
  {
   "cell_type": "code",
   "execution_count": 17,
   "id": "8407555d-8c3b-4cbe-b277-77e2f660744c",
   "metadata": {},
   "outputs": [
    {
     "name": "stdout",
     "output_type": "stream",
     "text": [
      "Country/Region\n",
      "united states     14670\n",
      "canada              927\n",
      "united kingdom      470\n",
      "india               382\n",
      "australia           226\n",
      "germany             208\n",
      "france              190\n",
      "japan               162\n",
      "switzerland         127\n",
      "singapore            87\n",
      "Name: count, dtype: int64\n"
     ]
    }
   ],
   "source": [
    "# 3. Standardize Country/Region\n",
    "# Check unique values and casing\n",
    "print(companies['Country/Region'].str.strip().str.lower().value_counts().head(10))"
   ]
  },
  {
   "cell_type": "code",
   "execution_count": 18,
   "id": "8f8068b8-527f-4a09-aeeb-17dbaef50f41",
   "metadata": {},
   "outputs": [
    {
     "name": "stdout",
     "output_type": "stream",
     "text": [
      "0                                             Route 53\n",
      "2    Youtube; App Nexus; Google Tag Manager; Facebo...\n",
      "3    Postmark; Facebook Advertiser; Salesforce; Goo...\n",
      "4    Microsoft Office 365; Google Tag Manager; Reca...\n",
      "6    Youtube; Apache; Google Maps; Wordpress; Tawk;...\n",
      "Name: Web Technologies, dtype: object\n"
     ]
    }
   ],
   "source": [
    "# 4. Parse Web Technologies (example split by comma)\n",
    "# View how web technologies look\n",
    "print(companies['Web Technologies'].dropna().head())\n",
    "\n",
    "# Convert to lists\n",
    "companies['Web_Tech_List'] = companies['Web Technologies'].dropna().apply(lambda x: [tech.strip() for tech in str(x).split(',')])"
   ]
  },
  {
   "cell_type": "code",
   "execution_count": 19,
   "id": "b69bad08-da7e-43f1-b0d7-a4dc4f69235c",
   "metadata": {},
   "outputs": [
    {
     "name": "stdout",
     "output_type": "stream",
     "text": [
      "BPO\n",
      "NaN                                                                         19770\n",
      "Etech                                                                          38\n",
      "Startek                                                                        11\n",
      "Redial                                                                          7\n",
      "Arise                                                                           3\n",
      "Alorica                                                                         3\n",
      "Everise                                                                         3\n",
      "Lean                                                                            2\n",
      "DialAmerica                                                                     2\n",
      "TTEC                                                                            2\n",
      "ERC                                                                             2\n",
      "Other                                                                           2\n",
      "Startek; Etech                                                                  1\n",
      "Continuum; TTEC                                                                 1\n",
      "Concentrix; Qualfon                                                             1\n",
      "Alorica; Concentrix; Continuum; Etech; Qualfon; Televista; Startek; TTEC        1\n",
      "Startek; ERC; Other                                                             1\n",
      "PDC                                                                             1\n",
      "Name: count, dtype: int64\n",
      "BPO Program\n",
      "NaN    19837\n",
      "Yes       14\n",
      "Name: count, dtype: int64\n"
     ]
    }
   ],
   "source": [
    "# 5. Explore BPO Flag Inconsistencies\n",
    "print(companies['BPO'].value_counts(dropna=False))\n",
    "print(companies['BPO Program'].value_counts(dropna=False))\n"
   ]
  },
  {
   "cell_type": "code",
   "execution_count": 20,
   "id": "9f67bbbd-8dc9-4952-a848-d7946d79d923",
   "metadata": {},
   "outputs": [
    {
     "name": "stdout",
     "output_type": "stream",
     "text": [
      "Total tickets with non-null 'Associated Deal': 79\n",
      "Matching deals found in deals_cleaned dataset: 38\n"
     ]
    }
   ],
   "source": [
    "# Ensure deal identifier fields are strings\n",
    "tickets_cleaned['Associated Deal'] = tickets_cleaned['Associated Deal'].astype(str)\n",
    "deals_cleaned['Deal Name'] = deals_cleaned['Deal Name'].astype(str)\n",
    "\n",
    "# Find tickets whose 'Associated Deal' matches a 'Deal Name'\n",
    "overlapping_deals = tickets_cleaned[tickets_cleaned['Associated Deal'].isin(deals_cleaned['Deal Name'])]\n",
    "\n",
    "# Summary stats\n",
    "overlap_count = overlapping_deals['Associated Deal'].nunique()\n",
    "total_tickets_with_deals = tickets_cleaned['Associated Deal'].notnull().sum()\n",
    "\n",
    "print(\"Total tickets with non-null 'Associated Deal':\", total_tickets_with_deals)\n",
    "print(\"Matching deals found in deals_cleaned dataset:\", overlap_count)\n"
   ]
  },
  {
   "cell_type": "code",
   "execution_count": 21,
   "id": "a1bfd8bb-e243-4b2f-b4fd-f6e2c7ab84dd",
   "metadata": {},
   "outputs": [],
   "source": [
    "# Merge tickets and deals"
   ]
  },
  {
   "cell_type": "code",
   "execution_count": 22,
   "id": "d9333e7b-f3d8-4663-be49-7bb550a835b2",
   "metadata": {},
   "outputs": [
    {
     "name": "stdout",
     "output_type": "stream",
     "text": [
      "✅ Merge Summary:\n",
      "Tickets with mapped deal: 58\n",
      "Merged Rows: 57\n",
      "Unique Ticket IDs in Merge: 56\n",
      "Unique Deal Names in Merge: 38\n"
     ]
    }
   ],
   "source": [
    "import json\n",
    "\n",
    "# Step 1: Load mapping file (CompanyToTickets)\n",
    "with open('mappings.json', 'r') as f:\n",
    "    mappings = json.load(f)\n",
    "\n",
    "# Load mappings.json\n",
    "with open(\"mappings.json\", \"r\") as f:\n",
    "    mappings = json.load(f)\n",
    "\n",
    "# Extract TicketToDeal mapping\n",
    "ticket_to_deal = mappings[\"TicketToDeal\"]\n",
    "\n",
    "# Map ticket IDs to Deal Names\n",
    "tickets_cleaned[\"Ticket ID\"] = tickets_cleaned[\"Ticket ID\"].astype(str)\n",
    "deals_cleaned[\"Deal Name\"] = deals_cleaned[\"Deal Name\"].astype(str)\n",
    "tickets_cleaned[\"Mapped Deal Name\"] = tickets_cleaned[\"Ticket ID\"].map(ticket_to_deal)\n",
    "\n",
    "# Merge using Deal Name (not Record ID!)\n",
    "merged_tickets_deals = pd.merge(\n",
    "    tickets_cleaned,\n",
    "    deals_cleaned,\n",
    "    left_on=\"Mapped Deal Name\",\n",
    "    right_on=\"Deal Name\",\n",
    "    how=\"inner\",\n",
    "    suffixes=(\"_ticket\", \"_deal\")\n",
    ")\n",
    "\n",
    "# Optional: Summary of the merge\n",
    "merge_report = {\n",
    "    \"Tickets with mapped deal\": tickets_cleaned[\"Mapped Deal Name\"].notnull().sum(),\n",
    "    \"Merged Rows\": merged_tickets_deals.shape[0],\n",
    "    \"Unique Ticket IDs in Merge\": merged_tickets_deals[\"Ticket ID\"].nunique(),\n",
    "    \"Unique Deal Names in Merge\": merged_tickets_deals[\"Deal Name\"].nunique()\n",
    "}\n",
    "\n",
    "print(\"✅ Merge Summary:\")\n",
    "for k, v in merge_report.items():\n",
    "    print(f\"{k}: {v}\")"
   ]
  },
  {
   "cell_type": "code",
   "execution_count": 23,
   "id": "4c52f019",
   "metadata": {},
   "outputs": [],
   "source": [
    "#export to csv file\n",
    "merged_tickets_deals.to_csv(\"eda_merge_with_clusters.csv\", index=False)\n"
   ]
  },
  {
   "cell_type": "code",
   "execution_count": 24,
   "id": "93e5bc37-5b86-4969-a95d-2c9b5388d46f",
   "metadata": {},
   "outputs": [
    {
     "name": "stdout",
     "output_type": "stream",
     "text": [
      "📊 Merge Quality Report\n",
      "Tickets with mapped deals: 58\n",
      "Merged rows: 57\n",
      "Unique ticket IDs in merged data: 56\n",
      "Unique deal names in merged data: 38\n",
      "Duplicate ticket IDs in merged data: 1\n",
      "Deals linked to multiple tickets: 10\n",
      "Closed Won deals (if available): 31\n"
     ]
    }
   ],
   "source": [
    "# Check the merge quality\n",
    "# Check total number of tickets that had a mapping\n",
    "total_mapped_tickets = tickets_cleaned[\"Mapped Deal Name\"].notnull().sum()\n",
    "\n",
    "# Check how many tickets successfully merged\n",
    "total_merged_rows = merged_tickets_deals.shape[0]\n",
    "unique_ticket_ids = merged_tickets_deals[\"Ticket ID\"].nunique()\n",
    "unique_deal_names = merged_tickets_deals[\"Deal Name\"].nunique()\n",
    "\n",
    "# Check for duplicates (1 ticket → multiple deal rows)\n",
    "duplicate_ticket_ids = merged_tickets_deals[\"Ticket ID\"].duplicated().sum()\n",
    "\n",
    "# Check for deals associated with multiple tickets\n",
    "deal_to_ticket_counts = merged_tickets_deals[\"Mapped Deal Name\"].value_counts()\n",
    "deals_with_multiple_tickets = (deal_to_ticket_counts > 1).sum()\n",
    "\n",
    "# Optional: Check how many merged deals are Closed Won\n",
    "if \"Is Closed Won\" in merged_tickets_deals.columns:\n",
    "    closed_won_count = merged_tickets_deals[\"Is Closed Won\"].sum()\n",
    "else:\n",
    "    closed_won_count = \"Not Available\"\n",
    "\n",
    "# Compile report\n",
    "merge_quality_report = {\n",
    "    \"Tickets with mapped deals\": total_mapped_tickets,\n",
    "    \"Merged rows\": total_merged_rows,\n",
    "    \"Unique ticket IDs in merged data\": unique_ticket_ids,\n",
    "    \"Unique deal names in merged data\": unique_deal_names,\n",
    "    \"Duplicate ticket IDs in merged data\": duplicate_ticket_ids,\n",
    "    \"Deals linked to multiple tickets\": deals_with_multiple_tickets,\n",
    "    \"Closed Won deals (if available)\": closed_won_count\n",
    "}\n",
    "\n",
    "# Display report\n",
    "print(\"📊 Merge Quality Report\")\n",
    "for key, value in merge_quality_report.items():\n",
    "    print(f\"{key}: {value}\")\n"
   ]
  },
  {
   "cell_type": "markdown",
   "id": "65fa4243-5477-41b7-ac42-85cb0a8b8b08",
   "metadata": {},
   "source": [
    "# Problems to solve in the Final Report and Posisble Solutions:\n",
    "\n"
   ]
  },
  {
   "cell_type": "code",
   "execution_count": 25,
   "id": "d0295cc3-6a99-4bbc-8f91-b10a5c5466b9",
   "metadata": {},
   "outputs": [],
   "source": [
    "import pandas as pd\n",
    "\n",
    "# Define the left column (objectives) and right column (model suggestions)\n",
    "objectives = [\n",
    "    \"Segment prospective customers based on company characteristics and provide tailored outreach strategies\",\n",
    "    \"Guide sales progression through pipeline stages with specific actions for each stage\",\n",
    "    \"Predict deal outcomes based on company profile and deal characteristics\",\n",
    "    \"Optimize implementation handoffs between sales and customer success\",\n",
    "    \"Recommend resource allocation based on customer segment and complexity\",\n",
    "    \"Present insights through an interactive dashboard for sales team usage\",\n",
    "    \"Process data through an ETL pipeline to keep recommendations current\",\n",
    "    \"Deploy as a containerized application for consistent environment setup\"\n",
    "]\n",
    "\n",
    "model_suggestions = [\n",
    "    \"Clustering (KMeans, DBSCAN), EDA\",\n",
    "    'Look into the ticket data and the deals data, is all steps always needed for a successful deal? Is training always needed for upsell and new customers? ',\n",
    "    \"Classification models (Logistic Regression, Random Forest, XGBoost, Neural Network for Binary classification)\",\n",
    "    \" \",\n",
    "    \"complexity can be measured by total tickets needed for each deal, average resolution time needed, etc, does different segments of customers have the\"\n",
    "     \"same implementation complexity?  Does different segments of customers requires same actions?\",\n",
    "    \"Streamlit\",\n",
    "    \"ETL frameworks (Pandas pipelines), data cleaning scripts\",\n",
    "    \"Docker, Docker Compose, Kubernetes for containerization and deployment\"\n",
    "]\n",
    "\n",
    "# Create the dataframe\n",
    "df = pd.DataFrame({\n",
    "    \"Project Objective\": objectives,\n",
    "    \"Suggested Models / Tools\": model_suggestions\n",
    "})\n",
    "\n"
   ]
  },
  {
   "cell_type": "code",
   "execution_count": 26,
   "id": "8e892ba3-18e3-4eae-9816-e2b915b772b8",
   "metadata": {},
   "outputs": [
    {
     "data": {
      "text/html": [
       "<div>\n",
       "<style scoped>\n",
       "    .dataframe tbody tr th:only-of-type {\n",
       "        vertical-align: middle;\n",
       "    }\n",
       "\n",
       "    .dataframe tbody tr th {\n",
       "        vertical-align: top;\n",
       "    }\n",
       "\n",
       "    .dataframe thead th {\n",
       "        text-align: right;\n",
       "    }\n",
       "</style>\n",
       "<table border=\"1\" class=\"dataframe\">\n",
       "  <thead>\n",
       "    <tr style=\"text-align: right;\">\n",
       "      <th></th>\n",
       "      <th>Project Objective</th>\n",
       "      <th>Suggested Models / Tools</th>\n",
       "    </tr>\n",
       "  </thead>\n",
       "  <tbody>\n",
       "    <tr>\n",
       "      <th>0</th>\n",
       "      <td>Segment prospective customers based on company...</td>\n",
       "      <td>Clustering (KMeans, DBSCAN), EDA</td>\n",
       "    </tr>\n",
       "    <tr>\n",
       "      <th>1</th>\n",
       "      <td>Guide sales progression through pipeline stage...</td>\n",
       "      <td>Look into the ticket data and the deals data, ...</td>\n",
       "    </tr>\n",
       "    <tr>\n",
       "      <th>2</th>\n",
       "      <td>Predict deal outcomes based on company profile...</td>\n",
       "      <td>Classification models (Logistic Regression, Ra...</td>\n",
       "    </tr>\n",
       "    <tr>\n",
       "      <th>3</th>\n",
       "      <td>Optimize implementation handoffs between sales...</td>\n",
       "      <td></td>\n",
       "    </tr>\n",
       "    <tr>\n",
       "      <th>4</th>\n",
       "      <td>Recommend resource allocation based on custome...</td>\n",
       "      <td>complexity can be measured by total tickets ne...</td>\n",
       "    </tr>\n",
       "    <tr>\n",
       "      <th>5</th>\n",
       "      <td>Present insights through an interactive dashbo...</td>\n",
       "      <td>Streamlit</td>\n",
       "    </tr>\n",
       "    <tr>\n",
       "      <th>6</th>\n",
       "      <td>Process data through an ETL pipeline to keep r...</td>\n",
       "      <td>ETL frameworks (Pandas pipelines), data cleani...</td>\n",
       "    </tr>\n",
       "    <tr>\n",
       "      <th>7</th>\n",
       "      <td>Deploy as a containerized application for cons...</td>\n",
       "      <td>Docker, Docker Compose, Kubernetes for contain...</td>\n",
       "    </tr>\n",
       "  </tbody>\n",
       "</table>\n",
       "</div>"
      ],
      "text/plain": [
       "                                   Project Objective  \\\n",
       "0  Segment prospective customers based on company...   \n",
       "1  Guide sales progression through pipeline stage...   \n",
       "2  Predict deal outcomes based on company profile...   \n",
       "3  Optimize implementation handoffs between sales...   \n",
       "4  Recommend resource allocation based on custome...   \n",
       "5  Present insights through an interactive dashbo...   \n",
       "6  Process data through an ETL pipeline to keep r...   \n",
       "7  Deploy as a containerized application for cons...   \n",
       "\n",
       "                            Suggested Models / Tools  \n",
       "0                   Clustering (KMeans, DBSCAN), EDA  \n",
       "1  Look into the ticket data and the deals data, ...  \n",
       "2  Classification models (Logistic Regression, Ra...  \n",
       "3                                                     \n",
       "4  complexity can be measured by total tickets ne...  \n",
       "5                                          Streamlit  \n",
       "6  ETL frameworks (Pandas pipelines), data cleani...  \n",
       "7  Docker, Docker Compose, Kubernetes for contain...  "
      ]
     },
     "execution_count": 26,
     "metadata": {},
     "output_type": "execute_result"
    }
   ],
   "source": [
    "df"
   ]
  },
  {
   "cell_type": "markdown",
   "id": "bfd20748",
   "metadata": {},
   "source": [
    "# Sales Insights Modeling Pipeline\n",
    "\n",
    "This notebook demonstrates an end‐to‐end modeling pipeline for analyzing sales data. It is divided into several sections:\n",
    "\n",
    "1. **Imports & Helper Functions:** Load required libraries and define helper functions.\n",
    "2. **ETL Pipeline:** Load and preprocess the merged data.\n",
    "3. **Clustering Models:** Segment customers using KMeans and DBSCAN.\n",
    "4. **Classification Models:** Predict deal outcomes using Logistic Regression, Random Forest, and XGBoost.\n",
    "5. **Interactive Dashboard:** Visualize insights using Streamlit.\n",
    "\n",
    "Each section is explained below.\n"
   ]
  },
  {
   "cell_type": "code",
   "execution_count": 27,
   "id": "314affe6",
   "metadata": {},
   "outputs": [],
   "source": [
    "# Import libraries\n",
    "import pandas as pd\n",
    "import numpy as np\n",
    "import matplotlib.pyplot as plt\n",
    "import streamlit as st  # For interactive dashboard\n",
    "from sklearn.model_selection import train_test_split\n",
    "from sklearn.preprocessing import StandardScaler\n",
    "from sklearn.cluster import KMeans, DBSCAN\n",
    "from sklearn.linear_model import LogisticRegression\n",
    "from sklearn.ensemble import RandomForestClassifier\n",
    "import xgboost as xgb\n",
    "from sklearn.metrics import accuracy_score, classification_report\n",
    "\n",
    "# Helper function to convert HH:mm:ss to seconds\n",
    "def hhmmss_to_seconds(time_str):\n",
    "    \"\"\"Convert a time string in HH:mm:ss format to total seconds.\"\"\"\n",
    "    try:\n",
    "        h, m, s = map(int, time_str.split(':'))\n",
    "        return h * 3600 + m * 60 + s\n",
    "    except Exception:\n",
    "        return np.nan\n"
   ]
  },
  {
   "cell_type": "markdown",
   "id": "582c413f",
   "metadata": {},
   "source": [
    "## ETL Pipeline\n",
    "This section loads the CSV file containing the merged data (named `eda_merge_with_clusters.csv`) into a DataFrame (`merged_tickets_deals`). It also performs simple preprocessing:\n",
    "- Fills missing values.\n",
    "- Converts time strings (e.g., \"Time to close (HH:mm:ss)\") to seconds.\n"
   ]
  },
  {
   "cell_type": "code",
   "execution_count": 28,
   "id": "a3092314",
   "metadata": {},
   "outputs": [
    {
     "name": "stdout",
     "output_type": "stream",
     "text": [
      "Columns in the dataset:\n",
      "['Create date', 'Stage Date - Project Launch', 'Associated Contact', 'Target Launch Date', 'Kickoff Call', 'Close date', 'Pipeline_ticket', 'Stage Date - Project Initiation', 'Ticket status', 'Stage Date - Execution', 'Time to first agent email reply (HH:mm:ss)', 'Associated Company_ticket', 'Stage Date - Closure Phase', 'Associated Company (Primary)_ticket', 'Response time (HH:mm:ss)', 'Ticket ID', 'Time to close (HH:mm:ss)', 'Associated Deal', 'Library index approved', 'Training: General Overview', 'Latest Milestone', 'Training: Deployment/User Management Training', 'Requirements for the Trial', 'Training: Sym Building 101', 'Last modified date', 'Trial End Date_ticket', 'Training: Sym Building 201', 'Stage Date - Converted Won', 'Latest Milestone Update Date', 'Ticket name', 'Trial Overview', 'Trial Start Date', '1st Syms presented for review', 'Project Launch Day', 'Training: Reporting', 'Construction of 1st Sym begun', 'Mapped Deal Name', 'Weighted amount', 'Deal Description', 'Cumulative time in \"BANT Deal. Pain ID\\'ed (Sales Pipeline)\" (HH:mm:ss)', 'Cumulative time in \"Opportunity (Sales Pipeline)\" (HH:mm:ss)', 'Days to close', 'Deal Score', 'Close Date', 'Deal source attribution 2', 'Cumulative time in \"In Trial - Trial in Progress (Sales Pipeline)\" (HH:mm:ss)', 'Contract Start Date', 'Cumulative time in \"Partner Referrals  (Sales Pipeline)\" (HH:mm:ss)', 'Cumulative time in \"Deep Dive. PSP Drafted (Sales Pipeline)\" (HH:mm:ss)', 'Pipeline_deal', 'Record ID', 'Forecast category', 'Original Traffic Source', 'Associated Company_deal', 'Deal owner', 'Is Closed (numeric)', 'Amount in company currency', 'Deal probability', 'Associated Company (Primary)_deal', 'Is Closed Won', 'Contract End Date', 'Last Activity Date', 'Contract Term (Months)', 'Trial Start date', 'Is closed lost', 'Weighted amount in company currency', 'Is Deal Closed?', 'Trial End Date_deal', 'Deal Name', 'Amount', 'Forecast amount', 'Cumulative time in \"Negotiation (Sales Pipeline)\" (HH:mm:ss)', 'Is Open (numeric)', 'Cumulative time in \"Renewals  (Sales Pipeline)\" (HH:mm:ss)', 'Create Date', 'Cumulative time in \"Contract Sent (Sales Pipeline)\" (HH:mm:ss)', 'Last Modified Date', 'Deal Stage', 'Deal Type', 'time_to_close_seconds']\n"
     ]
    },
    {
     "name": "stderr",
     "output_type": "stream",
     "text": [
      "/var/folders/2d/d0kzt8513jx2wgn4ml9fmy0w0000gn/T/ipykernel_42580/2028780136.py:10: FutureWarning: DataFrame.fillna with 'method' is deprecated and will raise in a future version. Use obj.ffill() or obj.bfill() instead.\n",
      "  merged_tickets_deals.fillna(method='ffill', inplace=True)\n",
      "/var/folders/2d/d0kzt8513jx2wgn4ml9fmy0w0000gn/T/ipykernel_42580/2028780136.py:10: FutureWarning: Downcasting object dtype arrays on .fillna, .ffill, .bfill is deprecated and will change in a future version. Call result.infer_objects(copy=False) instead. To opt-in to the future behavior, set `pd.set_option('future.no_silent_downcasting', True)`\n",
      "  merged_tickets_deals.fillna(method='ffill', inplace=True)\n"
     ]
    }
   ],
   "source": [
    "def etl_pipeline(file_path):\n",
    "    \"\"\"\n",
    "    Load and process the merged data.\n",
    "    \n",
    "    - Reads CSV data into a DataFrame named merged_tickets_deals.\n",
    "    - Fills missing values.\n",
    "    - Converts \"Time to close (HH:mm:ss)\" into seconds.\n",
    "    \"\"\"\n",
    "\n",
    "    merged_tickets_deals.fillna(method='ffill', inplace=True)\n",
    "    \n",
    "    # Convert \"Time to close (HH:mm:ss)\" to seconds if available\n",
    "    if \"Time to close (HH:mm:ss)\" in merged_tickets_deals.columns:\n",
    "        merged_tickets_deals[\"time_to_close_seconds\"] = merged_tickets_deals[\"Time to close (HH:mm:ss)\"].apply(hhmmss_to_seconds)\n",
    "    else:\n",
    "        merged_tickets_deals[\"time_to_close_seconds\"] = np.nan\n",
    "\n",
    "    print(\"Columns in the dataset:\")\n",
    "    print(merged_tickets_deals.columns.tolist())\n",
    "    \n",
    "    return merged_tickets_deals\n",
    "\n",
    "merged_tickets_deals = etl_pipeline(\"eda_merge_with_clusters.csv\")\n"
   ]
  },
  {
   "cell_type": "markdown",
   "id": "1d4e1bcd",
   "metadata": {},
   "source": [
    "## Clustering Models\n",
    "In this section, we segment the data using two unsupervised clustering techniques:\n",
    "- **KMeans:** Groups companies based on numeric features such as weighted amount, deal probability, deal score, days to close, and time-to-close (in seconds).\n",
    "- **DBSCAN:** Provides an alternative clustering method that can identify clusters of arbitrary shape and filter noise.\n",
    "\n",
    "Adjust the feature list as needed based on your data.\n"
   ]
  },
  {
   "cell_type": "code",
   "execution_count": 29,
   "id": "bb884bd8",
   "metadata": {},
   "outputs": [],
   "source": [
    "# def clustering_model(merged_tickets_deals):\n",
    "#     \"\"\"\n",
    "#     Apply clustering to segment companies.\n",
    "    \n",
    "#     Features used:\n",
    "#       - 'Weighted amount in company currency'\n",
    "#       - 'Deal probability'\n",
    "#       - 'Deal Score'\n",
    "#       - 'Days to close'\n",
    "#       - 'time_to_close_seconds'\n",
    "#     \"\"\"\n",
    "#     features = ['Weighted amount in company currency', 'Deal probability', 'Deal Score', 'Days to close', 'time_to_close_seconds']\n",
    "#     # Drop rows with missing values in the selected features\n",
    "#     X = merged_tickets_deals[features].dropna()\n",
    "#     scaler = StandardScaler()\n",
    "#     X_scaled = scaler.fit_transform(X)\n",
    "    \n",
    "#     # --- KMeans Clustering ---\n",
    "#     kmeans = KMeans(n_clusters=3, random_state=42)\n",
    "#     clusters = kmeans.fit_predict(X_scaled)\n",
    "#     # Assign clusters to the original DataFrame for rows with valid data\n",
    "#     merged_tickets_deals.loc[X.index, 'kmeans_cluster'] = clusters\n",
    "    \n",
    "#     # --- DBSCAN Clustering ---\n",
    "#     dbscan = DBSCAN(eps=0.5, min_samples=5)\n",
    "#     db_clusters = dbscan.fit_predict(X_scaled)\n",
    "#     merged_tickets_deals.loc[X.index, 'dbscan_cluster'] = db_clusters\n",
    "    \n",
    "#     return merged_tickets_deals, kmeans, dbscan\n",
    "\n",
    "\n",
    "# merged_tickets_deals, kmeans_model, dbscan_model = clustering_model(merged_tickets_deals)\n",
    "\n",
    "# # Cluster counts\n",
    "# print(\"KMeans cluster counts:\")\n",
    "# print(merged_tickets_deals['kmeans_cluster'].value_counts())\n",
    "\n",
    "# print(\"\\nDBSCAN cluster counts:\")\n",
    "# print(merged_tickets_deals['dbscan_cluster'].value_counts())\n",
    "\n",
    "# # KMeans inertia\n",
    "# print(\"\\nKMeans Inertia:\", kmeans_model.inertia_)\n",
    "\n"
   ]
  },
  {
   "cell_type": "code",
   "execution_count": 30,
   "id": "b6dcc4a4",
   "metadata": {},
   "outputs": [
    {
     "name": "stdout",
     "output_type": "stream",
     "text": [
      "KMeans cluster counts:\n",
      "kmeans_cluster\n",
      "1.0    37\n",
      "0.0    10\n",
      "2.0     9\n",
      "Name: count, dtype: int64\n",
      "\n",
      "DBSCAN cluster counts:\n",
      "dbscan_cluster\n",
      "-1.0    32\n",
      " 0.0    19\n",
      " 1.0     5\n",
      "Name: count, dtype: int64\n",
      "\n",
      "KMeans Inertia: 75.66134240544112\n"
     ]
    }
   ],
   "source": [
    "def clustering_model(merged_tickets_deals):\n",
    "    \"\"\"\n",
    "    Apply clustering to segment companies.\n",
    "    \n",
    "    Features used:\n",
    "      - 'Deal probability'\n",
    "      - 'Deal Score'\n",
    "      - 'Days to close'\n",
    "    \"\"\"\n",
    "    features = ['Deal probability', 'Deal Score', 'Days to close']\n",
    "    # Drop rows with missing values in the selected features\n",
    "    X = merged_tickets_deals[features].dropna()\n",
    "    scaler = StandardScaler()\n",
    "    X_scaled = scaler.fit_transform(X)\n",
    "    \n",
    "    # --- KMeans Clustering ---\n",
    "    kmeans = KMeans(n_clusters=3, random_state=42)\n",
    "    clusters = kmeans.fit_predict(X_scaled)\n",
    "    # Assign clusters to the original DataFrame for rows with valid data\n",
    "    merged_tickets_deals.loc[X.index, 'kmeans_cluster'] = clusters\n",
    "    \n",
    "    # --- DBSCAN Clustering ---\n",
    "    dbscan = DBSCAN(eps=0.5, min_samples=5)\n",
    "    db_clusters = dbscan.fit_predict(X_scaled)\n",
    "    merged_tickets_deals.loc[X.index, 'dbscan_cluster'] = db_clusters\n",
    "    \n",
    "    return merged_tickets_deals, kmeans, dbscan\n",
    "\n",
    "\n",
    "merged_tickets_deals, kmeans_model, dbscan_model = clustering_model(merged_tickets_deals)\n",
    "\n",
    "# Cluster counts\n",
    "print(\"KMeans cluster counts:\")\n",
    "print(merged_tickets_deals['kmeans_cluster'].value_counts())\n",
    "\n",
    "print(\"\\nDBSCAN cluster counts:\")\n",
    "print(merged_tickets_deals['dbscan_cluster'].value_counts())\n",
    "\n",
    "# KMeans inertia\n",
    "print(\"\\nKMeans Inertia:\", kmeans_model.inertia_)"
   ]
  },
  {
   "cell_type": "markdown",
   "id": "ef411014",
   "metadata": {},
   "source": [
    "The kmeans cluster shows: Balanced distribution, with all clusters having a meaningful number of points.\n",
    "\n",
    "DBSCAN identified some structure, with ~56% as noise (acceptable), and two small but valid clusters.\n",
    "\n",
    "Lower inertia = tighter clusters = potentially better KMeans performance (though inertia alone doesn't prove cluster quality)."
   ]
  },
  {
   "cell_type": "code",
   "execution_count": 31,
   "id": "06c58f13",
   "metadata": {},
   "outputs": [
    {
     "name": "stdout",
     "output_type": "stream",
     "text": [
      "['Create date', 'Stage Date - Project Launch', 'Associated Contact', 'Target Launch Date', 'Kickoff Call', 'Close date', 'Pipeline_ticket', 'Stage Date - Project Initiation', 'Ticket status', 'Stage Date - Execution', 'Time to first agent email reply (HH:mm:ss)', 'Associated Company_ticket', 'Stage Date - Closure Phase', 'Associated Company (Primary)_ticket', 'Response time (HH:mm:ss)', 'Ticket ID', 'Time to close (HH:mm:ss)', 'Associated Deal', 'Library index approved', 'Training: General Overview', 'Latest Milestone', 'Training: Deployment/User Management Training', 'Requirements for the Trial', 'Training: Sym Building 101', 'Last modified date', 'Trial End Date_ticket', 'Training: Sym Building 201', 'Stage Date - Converted Won', 'Latest Milestone Update Date', 'Ticket name', 'Trial Overview', 'Trial Start Date', '1st Syms presented for review', 'Project Launch Day', 'Training: Reporting', 'Construction of 1st Sym begun', 'Mapped Deal Name', 'Weighted amount', 'Deal Description', 'Cumulative time in \"BANT Deal. Pain ID\\'ed (Sales Pipeline)\" (HH:mm:ss)', 'Cumulative time in \"Opportunity (Sales Pipeline)\" (HH:mm:ss)', 'Days to close', 'Deal Score', 'Close Date', 'Deal source attribution 2', 'Cumulative time in \"In Trial - Trial in Progress (Sales Pipeline)\" (HH:mm:ss)', 'Contract Start Date', 'Cumulative time in \"Partner Referrals  (Sales Pipeline)\" (HH:mm:ss)', 'Cumulative time in \"Deep Dive. PSP Drafted (Sales Pipeline)\" (HH:mm:ss)', 'Pipeline_deal', 'Record ID', 'Forecast category', 'Original Traffic Source', 'Associated Company_deal', 'Deal owner', 'Is Closed (numeric)', 'Amount in company currency', 'Deal probability', 'Associated Company (Primary)_deal', 'Is Closed Won', 'Contract End Date', 'Last Activity Date', 'Contract Term (Months)', 'Trial Start date', 'Is closed lost', 'Weighted amount in company currency', 'Is Deal Closed?', 'Trial End Date_deal', 'Deal Name', 'Amount', 'Forecast amount', 'Cumulative time in \"Negotiation (Sales Pipeline)\" (HH:mm:ss)', 'Is Open (numeric)', 'Cumulative time in \"Renewals  (Sales Pipeline)\" (HH:mm:ss)', 'Create Date', 'Cumulative time in \"Contract Sent (Sales Pipeline)\" (HH:mm:ss)', 'Last Modified Date', 'Deal Stage', 'Deal Type', 'time_to_close_seconds', 'kmeans_cluster', 'dbscan_cluster']\n"
     ]
    }
   ],
   "source": [
    "print(merged_tickets_deals.columns.tolist())\n"
   ]
  },
  {
   "cell_type": "markdown",
   "id": "9feff498",
   "metadata": {},
   "source": [
    "## Classification Models\n",
    "Here we build classification models to predict deal outcomes. We assume that the binary target column `Is Closed Won` exists in the data.\n",
    "The models used are:\n",
    "- **Logistic Regression:** A linear model for binary classification.\n",
    "- **Random Forest:** An ensemble method that builds multiple decision trees.\n",
    "- **XGBoost:** A gradient boosting model optimized for performance.\n",
    "\n",
    "The feature set is the same as used in clustering, and we drop rows with missing values.\n"
   ]
  },
  {
   "cell_type": "code",
   "execution_count": 32,
   "id": "97d31de9",
   "metadata": {},
   "outputs": [
    {
     "name": "stdout",
     "output_type": "stream",
     "text": [
      "\n",
      "--- Logistic Regression ---\n",
      "Accuracy: 0.9166666666666666\n",
      "              precision    recall  f1-score   support\n",
      "\n",
      "         0.0       1.00      0.67      0.80         3\n",
      "         1.0       0.90      1.00      0.95         9\n",
      "\n",
      "    accuracy                           0.92        12\n",
      "   macro avg       0.95      0.83      0.87        12\n",
      "weighted avg       0.92      0.92      0.91        12\n",
      "\n",
      "Confusion Matrix:\n",
      " [[2 1]\n",
      " [0 9]]\n"
     ]
    }
   ],
   "source": [
    "from sklearn.metrics import confusion_matrix, classification_report, accuracy_score\n",
    "from sklearn.linear_model import LogisticRegression\n",
    "from sklearn.model_selection import train_test_split\n",
    "from sklearn.preprocessing import StandardScaler\n",
    "\n",
    "def classification_model_log_reg(merged_tickets_deals):\n",
    "    # Define the feature list\n",
    "    features = [\n",
    "        'Deal Score',\n",
    "        'Deal probability',\n",
    "        'Days to close',\n",
    "        'Amount',\n",
    "        'Weighted amount',\n",
    "        'Forecast amount'\n",
    "    ]\n",
    "    \n",
    "    # Drop rows missing any of the features or target\n",
    "    data = merged_tickets_deals[features + ['Is Closed (numeric)']].dropna()\n",
    "    X = data[features]\n",
    "    y = data['Is Closed (numeric)']\n",
    "    \n",
    "    # Split data into training and test sets\n",
    "    X_train, X_test, y_train, y_test = train_test_split(X, y, test_size=0.2, random_state=42)\n",
    "    \n",
    "    # Scale features for models that require scaling\n",
    "    scaler = StandardScaler()\n",
    "    X_train_scaled = scaler.fit_transform(X_train)\n",
    "    X_test_scaled = scaler.transform(X_test)\n",
    "    \n",
    "    # --- Logistic Regression ---\n",
    "    log_reg = LogisticRegression(random_state=42, max_iter=1000)\n",
    "    log_reg.fit(X_train_scaled, y_train)\n",
    "    y_pred = log_reg.predict(X_test_scaled)\n",
    "    \n",
    "    # Print evaluation results\n",
    "    print(\"\\n--- Logistic Regression ---\")\n",
    "    acc = accuracy_score(y_test, y_pred)\n",
    "    print(\"Accuracy:\", acc)\n",
    "    print(classification_report(y_test, y_pred))\n",
    "    print(\"Confusion Matrix:\\n\", confusion_matrix(y_test, y_pred))\n",
    "    \n",
    "    return log_reg, (X_test_scaled, y_test), y_pred\n",
    "\n",
    "# Call the logistic regression function to see output\n",
    "results = classification_model_log_reg(merged_tickets_deals)\n"
   ]
  },
  {
   "cell_type": "code",
   "execution_count": 33,
   "id": "c8c3d867",
   "metadata": {},
   "outputs": [
    {
     "name": "stdout",
     "output_type": "stream",
     "text": [
      "--- Random Forest (5-fold CV) ---\n",
      "Accuracy: 0.95\n",
      "\n",
      "              precision    recall  f1-score   support\n",
      "\n",
      "           0       0.93      1.00      0.97        43\n",
      "           1       1.00      0.79      0.88        14\n",
      "\n",
      "    accuracy                           0.95        57\n",
      "   macro avg       0.97      0.89      0.92        57\n",
      "weighted avg       0.95      0.95      0.95        57\n",
      "\n",
      "Confusion Matrix:\n",
      "[[43  0]\n",
      " [ 3 11]]\n",
      "\n"
     ]
    }
   ],
   "source": [
    "import numpy as np\n",
    "import pandas as pd\n",
    "from sklearn.model_selection import cross_val_predict, StratifiedKFold\n",
    "from sklearn.pipeline import Pipeline\n",
    "from sklearn.impute import SimpleImputer\n",
    "from sklearn.preprocessing import StandardScaler\n",
    "from sklearn.metrics import classification_report, confusion_matrix\n",
    "from sklearn.ensemble import RandomForestClassifier\n",
    "\n",
    "# 1) HELPER FUNCTION TO PRINT OUTPUT\n",
    "def print_cv_classification_output(model_name, y_true, y_pred):\n",
    "    \"\"\"\n",
    "    Prints a classification report and confusion matrix in a readable format,\n",
    "    similar to the style of your Logistic Regression output.\n",
    "    \"\"\"\n",
    "    accuracy = np.mean(y_pred == y_true)\n",
    "    print(f\"--- {model_name} ---\")\n",
    "    print(f\"Accuracy: {accuracy:.2f}\\n\")\n",
    "    \n",
    "    # Print standard classification report with 2 decimal digits\n",
    "    print(classification_report(y_true, y_pred, digits=2))\n",
    "    \n",
    "    # Print confusion matrix\n",
    "    cm = confusion_matrix(y_true, y_pred)\n",
    "    print(\"Confusion Matrix:\")\n",
    "    print(cm)\n",
    "    print()\n",
    "\n",
    "# 2) DEFINE YOUR DATA (EXAMPLE: from merged_tickets_deals)\n",
    "#    Make sure merged_tickets_deals is already in your environment.\n",
    "features = [\n",
    "    'Weighted amount in company currency',\n",
    "    'Deal probability',\n",
    "    'Deal Score',\n",
    "    'Days to close',\n",
    "    'time_to_close_seconds'\n",
    "]\n",
    "\n",
    "# Optionally include 'cluster' if it exists\n",
    "if 'cluster' in merged_tickets_deals.columns:\n",
    "    features.append('cluster')\n",
    "\n",
    "X = merged_tickets_deals[features]\n",
    "y = merged_tickets_deals['Is Open (numeric)']\n",
    "\n",
    "# Filter out rows where the target is missing\n",
    "valid_rows = y.notna()\n",
    "X = X[valid_rows]\n",
    "y = y[valid_rows].astype(int)\n",
    "\n",
    "# 3) DEFINE A PIPELINE FOR RANDOM FOREST\n",
    "pipeline_rf = Pipeline(steps=[\n",
    "    ('imputer', SimpleImputer(strategy='mean')),\n",
    "    ('scaler', StandardScaler()),\n",
    "    ('classifier', RandomForestClassifier(n_estimators=100, max_depth=5, random_state=42))\n",
    "])\n",
    "\n",
    "# 4) CREATE OUT-OF-FOLD PREDICTIONS USING 5-FOLD CV\n",
    "#    cross_val_predict returns predictions for each data point, resulting from each fold.\n",
    "cv = StratifiedKFold(n_splits=5, shuffle=True, random_state=42)\n",
    "y_pred_rf = cross_val_predict(pipeline_rf, X, y, cv=cv)\n",
    "\n",
    "# 5) PRINT CLASSIFICATION REPORT & CONFUSION MATRIX\n",
    "print_cv_classification_output(\"Random Forest (5-fold CV)\", y, y_pred_rf)\n"
   ]
  },
  {
   "cell_type": "code",
   "execution_count": 34,
   "id": "198d15fe",
   "metadata": {},
   "outputs": [
    {
     "name": "stdout",
     "output_type": "stream",
     "text": [
      "--- XGBoost (5-fold CV) ---\n",
      "Accuracy: 0.98\n",
      "\n",
      "              precision    recall  f1-score   support\n",
      "\n",
      "           0       0.98      1.00      0.99        43\n",
      "           1       1.00      0.93      0.96        14\n",
      "\n",
      "    accuracy                           0.98        57\n",
      "   macro avg       0.99      0.96      0.98        57\n",
      "weighted avg       0.98      0.98      0.98        57\n",
      "\n",
      "Confusion Matrix:\n",
      "[[43  0]\n",
      " [ 1 13]]\n",
      "\n"
     ]
    }
   ],
   "source": [
    "import numpy as np\n",
    "import pandas as pd\n",
    "from sklearn.model_selection import cross_val_predict, StratifiedKFold\n",
    "from sklearn.pipeline import Pipeline\n",
    "from sklearn.impute import SimpleImputer\n",
    "from sklearn.preprocessing import StandardScaler\n",
    "from sklearn.metrics import classification_report, confusion_matrix\n",
    "from xgboost import XGBClassifier\n",
    "\n",
    "# Helper function to print the classification report and confusion matrix\n",
    "def print_cv_classification_output(model_name, y_true, y_pred):\n",
    "    accuracy = np.mean(y_pred == y_true)\n",
    "    print(f\"--- {model_name} ---\")\n",
    "    print(f\"Accuracy: {accuracy:.2f}\\n\")\n",
    "    print(classification_report(y_true, y_pred, digits=2))\n",
    "    cm = confusion_matrix(y_true, y_pred)\n",
    "    print(\"Confusion Matrix:\")\n",
    "    print(cm)\n",
    "    print()\n",
    "\n",
    "# Define feature list\n",
    "features = [\n",
    "    'Weighted amount in company currency',\n",
    "    'Deal probability',\n",
    "    'Deal Score',\n",
    "    'Days to close',\n",
    "    'time_to_close_seconds'\n",
    "]\n",
    "\n",
    "# Optionally include 'cluster' if it exists in the merged_tickets_deals DataFrame\n",
    "if 'cluster' in merged_tickets_deals.columns:\n",
    "    features.append('cluster')\n",
    "\n",
    "# Extract features and target from merged_tickets_deals, and remove rows where the target is missing.\n",
    "X = merged_tickets_deals[features]\n",
    "y = merged_tickets_deals['Is Open (numeric)']\n",
    "\n",
    "# Keep only rows where y is not missing, and cast y to integer.\n",
    "valid_rows = y.notna()\n",
    "X = X[valid_rows]\n",
    "y = y[valid_rows].astype(int)\n",
    "\n",
    "# Define the XGBoost pipeline\n",
    "pipeline_xgb = Pipeline(steps=[\n",
    "    ('imputer', SimpleImputer(strategy='mean')),\n",
    "    ('scaler', StandardScaler()),\n",
    "    ('classifier', XGBClassifier(\n",
    "        n_estimators=20,       # Fewer trees for faster training\n",
    "        max_depth=3,           # Shallower trees to reduce overfitting\n",
    "        learning_rate=0.1,\n",
    "        eval_metric='logloss',\n",
    "        objective='binary:logistic',  # Binary classification objective\n",
    "        random_state=42,\n",
    "        verbosity=0            # Suppress messages\n",
    "    ))\n",
    "])\n",
    "\n",
    "# Set up 5-fold stratified cross-validation\n",
    "cv = StratifiedKFold(n_splits=5, shuffle=True, random_state=42)\n",
    "\n",
    "# Generate out-of-fold predictions using cross_val_predict\n",
    "y_pred_xgb = cross_val_predict(pipeline_xgb, X, y, cv=cv)\n",
    "\n",
    "# Print the combined cross-validated classification report and confusion matrix for XGBoost\n",
    "print_cv_classification_output(\"XGBoost (5-fold CV)\", y, y_pred_xgb)\n"
   ]
  },
  {
   "cell_type": "markdown",
   "id": "b99d4f91",
   "metadata": {},
   "source": [
    "## Interactive Dashboard with Streamlit\n",
    "This section creates an interactive dashboard that:\n",
    "- Displays cluster summaries and distributions.\n",
    "- Plots a scatter plot for visualizing the relationship between weighted deal amount and time to close.\n",
    "- Provides resource allocation recommendations based on average time to close per cluster.\n",
    "\n",
    "Run this cell using Streamlit to launch your dashboard.\n"
   ]
  },
  {
   "cell_type": "code",
   "execution_count": 37,
   "id": "ab15658f",
   "metadata": {},
   "outputs": [
    {
     "name": "stdout",
     "output_type": "stream",
     "text": [
      "Overwriting mid.py\n"
     ]
    }
   ],
   "source": [
    "%%writefile mid.py\n",
    "import streamlit as st\n",
    "import pandas as pd\n",
    "import numpy as np\n",
    "import matplotlib.pyplot as plt\n",
    "from sklearn.metrics import confusion_matrix, classification_report, accuracy_score\n",
    "from sklearn.linear_model import LogisticRegression\n",
    "from sklearn.model_selection import train_test_split\n",
    "from sklearn.preprocessing import StandardScaler\n",
    "\n",
    "def classification_model_log_reg(df):\n",
    "    \"\"\"\n",
    "    Performs Logistic Regression on the given DataFrame.\n",
    "    Expects the DataFrame to have the following columns:\n",
    "        - 'Deal Score'\n",
    "        - 'Deal probability'\n",
    "        - 'Days to close'\n",
    "        - 'Amount'\n",
    "        - 'Weighted amount'\n",
    "        - 'Forecast amount'\n",
    "        - 'Is Closed (numeric)'\n",
    "    Rows with missing values for any of these columns will be dropped.\n",
    "    Returns the trained model, test data & predictions, accuracy, classification report, and confusion matrix.\n",
    "    \"\"\"\n",
    "    # Define the features and target\n",
    "    features = [\n",
    "        'Deal Score',\n",
    "        'Deal probability',\n",
    "        'Days to close',\n",
    "        'Amount',\n",
    "        'Weighted amount',\n",
    "        'Forecast amount'\n",
    "    ]\n",
    "    \n",
    "    required_cols = features + ['Is Closed (numeric)']\n",
    "    missing_cols = [col for col in required_cols if col not in df.columns]\n",
    "    if missing_cols:\n",
    "        st.error(\"The following required columns are missing: \" + \", \".join(missing_cols))\n",
    "        return None\n",
    "    \n",
    "    # Drop rows with missing values in required columns\n",
    "    data = df[required_cols].dropna()\n",
    "    X = data[features]\n",
    "    y = data['Is Closed (numeric)']\n",
    "    \n",
    "    # Split into train/test sets\n",
    "    X_train, X_test, y_train, y_test = train_test_split(\n",
    "        X, y, test_size=0.2, random_state=42\n",
    "    )\n",
    "    \n",
    "    # Scale features\n",
    "    scaler = StandardScaler()\n",
    "    X_train_scaled = scaler.fit_transform(X_train)\n",
    "    X_test_scaled = scaler.transform(X_test)\n",
    "    \n",
    "    # Train Logistic Regression model\n",
    "    log_reg = LogisticRegression(random_state=42, max_iter=1000)\n",
    "    log_reg.fit(X_train_scaled, y_train)\n",
    "    y_pred = log_reg.predict(X_test_scaled)\n",
    "    \n",
    "    # Evaluation\n",
    "    acc = accuracy_score(y_test, y_pred)\n",
    "    clf_report = classification_report(y_test, y_pred)\n",
    "    cm = confusion_matrix(y_test, y_pred)\n",
    "    \n",
    "    return log_reg, (X_test_scaled, y_test), y_pred, acc, clf_report, cm\n",
    "\n",
    "def plot_confusion_matrix(cm):\n",
    "    \"\"\"Creates and returns a matplotlib figure for the confusion matrix.\"\"\"\n",
    "    fig, ax = plt.subplots()\n",
    "    cax = ax.matshow(cm, cmap=plt.cm.Blues)\n",
    "    fig.colorbar(cax)\n",
    "    ax.set_xlabel(\"Predicted\", fontsize=12)\n",
    "    ax.set_ylabel(\"True\", fontsize=12)\n",
    "    ax.set_title(\"Confusion Matrix\", fontsize=14)\n",
    "    \n",
    "    # Annotate each cell with its count\n",
    "    for (i, j), z in np.ndenumerate(cm):\n",
    "        ax.text(j, i, str(z), ha='center', va='center', color='red', fontsize=12)\n",
    "    \n",
    "    return fig\n",
    "\n",
    "def main():\n",
    "    st.title(\"Logistic Regression Classification Model\")\n",
    "    st.write(\"Upload a CSV file containing your data (with required columns) to perform Logistic Regression.\")\n",
    "    \n",
    "    uploaded_file = st.file_uploader(\"Choose a CSV file\", type=[\"csv\"])\n",
    "    \n",
    "    if uploaded_file is not None:\n",
    "        # Read CSV file into DataFrame\n",
    "        df = pd.read_csv(\"eda_merge_with_clusters.csv\")\n",
    "        st.write(\"### Data Preview\")\n",
    "        st.dataframe(df.head())\n",
    "        \n",
    "        # Run the logistic regression model on the uploaded data\n",
    "        result = classification_model_log_reg(df)\n",
    "        if result is not None:\n",
    "            log_reg, test_data, y_pred, acc, clf_report, cm = result\n",
    "            st.write(\"### Classification Report\")\n",
    "            st.text(clf_report)\n",
    "            st.write(\"**Accuracy:** {:.2f}\".format(acc))\n",
    "            st.write(\"### Confusion Matrix\")\n",
    "            fig = plot_confusion_matrix(cm)\n",
    "            st.pyplot(fig)\n",
    "    else:\n",
    "        st.info(\"Please upload a CSV file to begin.\")\n",
    "\n",
    "if __name__ == \"__main__\":\n",
    "    main()\n"
   ]
  },
  {
   "cell_type": "markdown",
   "id": "f2766b89-31a5-4a1b-9ca1-ce9acd3f8873",
   "metadata": {},
   "source": [
    "### Possible Q&A\n",
    "\n",
    "\n",
    "\n",
    "### Q1: What does it mean by ‘customer segment and complexity’ in the requirement *“Recommend resource allocation based on customer segment and complexity”*? Also, what are the actions to take at each stage — aren’t those actions fixed?\n",
    "\n",
    "**A1:**  \n",
    "Customer segment and implementation complexity can be evaluated primarily through the **ticket data**. Some useful indicators include:\n",
    "\n",
    "- Number of support tickets generated per implementation (more tickets may indicate higher complexity)\n",
    "- Average resolution time for implementation-related issues\n",
    "- Whether SSO (Single Sign-On) was required and whether it accelerated or delayed implementation\n",
    "\n",
    "You can quantify **implementation complexity** by engineering a feature that aggregates these signals.\n",
    "\n",
    "\n",
    "### Q2: What are the actions to take at each stage — aren’t those actions fixed?\n",
    "\n",
    "**A:**  \n",
    "Yes, the standard actions for each stage are typically fixed. However, the ticket and deal data may reveal valuable insights that can help **adapt or skip certain stages** under specific conditions. For example:\n",
    "\n",
    "- If the deal is an **upsell** to an existing customer, the **training stage** may not be necessary, as the customer is already familiar with the product.\n",
    "- What does historical data show? Have some successful deals **skipped onboarding or negotiation** and still closed faster or more successfully?\n",
    "\n",
    "\n",
    "\n",
    "\n"
   ]
  },
  {
   "attachments": {},
   "cell_type": "markdown",
   "id": "a38b6078-8967-436d-b740-062691731942",
   "metadata": {},
   "source": [
    "# Final Report Format\n",
    "\n",
    "1. Title Page (project title, course name, group member name and VUID)\n",
    "2. Introduction\n",
    "3. Data Overview & Exploration\n",
    "4. Data Processing\n",
    "5. Model Deployment\n",
    "6. Dashboard & Visualization\n",
    "7. Deployment & Technical Implementation\n",
    "8. Business Insights & Recommendations\n",
    "9. Conclusion & Future Work\n",
    "10. References (if applicable) \n"
   ]
  },
  {
   "cell_type": "code",
   "execution_count": null,
   "id": "af137bfb-a91f-4157-b9b0-7a2d4fdec827",
   "metadata": {},
   "outputs": [],
   "source": []
  }
 ],
 "metadata": {
  "kernelspec": {
   "display_name": "Python 3",
   "language": "python",
   "name": "python3"
  },
  "language_info": {
   "codemirror_mode": {
    "name": "ipython",
    "version": 3
   },
   "file_extension": ".py",
   "mimetype": "text/x-python",
   "name": "python",
   "nbconvert_exporter": "python",
   "pygments_lexer": "ipython3",
   "version": "3.10.16"
  }
 },
 "nbformat": 4,
 "nbformat_minor": 5
}
