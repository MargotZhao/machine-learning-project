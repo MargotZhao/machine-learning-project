{
  "cells": [
    {
      "cell_type": "markdown",
      "metadata": {
        "id": "view-in-github",
        "colab_type": "text"
      },
      "source": [
        "<a href=\"https://colab.research.google.com/github/MargotZhao/machine-learning-project/blob/main/ml_presentation.ipynb\" target=\"_parent\"><img src=\"https://colab.research.google.com/assets/colab-badge.svg\" alt=\"Open In Colab\"/></a>"
      ]
    },
    {
      "cell_type": "code",
      "execution_count": null,
      "id": "3f532104",
      "metadata": {
        "id": "3f532104"
      },
      "outputs": [],
      "source": [
        "import pandas as pd\n",
        "import numpy as np\n",
        "import matplotlib.pyplot as plt\n",
        "import seaborn as sns"
      ]
    },
    {
      "cell_type": "code",
      "execution_count": null,
      "id": "8e38d10f",
      "metadata": {
        "id": "8e38d10f",
        "outputId": "c47600ae-d731-4b1b-a4f9-3d5ad15df98e"
      },
      "outputs": [
        {
          "name": "stdout",
          "output_type": "stream",
          "text": [
            "C:\\Users\\zhaos\\Downloads\n"
          ]
        }
      ],
      "source": [
        "cd C:\\\\Users\\\\zhaos\\\\Downloads"
      ]
    },
    {
      "cell_type": "code",
      "execution_count": null,
      "id": "31d7c479",
      "metadata": {
        "id": "31d7c479",
        "outputId": "dada438e-b1e1-4c18-a14b-7ff2ddcca4c1"
      },
      "outputs": [
        {
          "name": "stderr",
          "output_type": "stream",
          "text": [
            "C:\\Users\\zhaos\\AppData\\Local\\Temp\\ipykernel_56988\\2095908849.py:3: DtypeWarning: Columns (24,25,28,32,45) have mixed types. Specify dtype option on import or set low_memory=False.\n",
            "  companies = pd.read_csv('anonymized_hubspot_companies.csv')\n"
          ]
        }
      ],
      "source": [
        "tickets = pd.read_csv('anonymized_hubspot_tickets.csv')\n",
        "deals = pd.read_csv('anonymized_hubspot_deals.csv')\n",
        "companies = pd.read_csv('anonymized_hubspot_companies.csv')"
      ]
    },
    {
      "cell_type": "code",
      "execution_count": null,
      "id": "75f2c341",
      "metadata": {
        "id": "75f2c341"
      },
      "outputs": [],
      "source": [
        "# --- Company Size Category ---\n",
        "def size_category(num_employees):\n",
        "    if pd.isnull(num_employees):\n",
        "        return np.nan\n",
        "    elif num_employees < 10:\n",
        "        return \"Very Small\"\n",
        "    elif num_employees < 50:\n",
        "        return \"Small\"\n",
        "    elif num_employees < 250:\n",
        "        return \"Medium\"\n",
        "    elif num_employees < 1000:\n",
        "        return \"Large\"\n",
        "    else:\n",
        "        return \"Enterprise\"\n",
        "\n",
        "companies['Company_Size_Category'] = companies['Number of Employees'].apply(size_category)\n",
        "\n",
        "# --- Revenue Category ---\n",
        "def revenue_category(revenue):\n",
        "    if pd.isnull(revenue):\n",
        "        return np.nan\n",
        "    elif revenue < 1_000_000:\n",
        "        return \"<$1M\"\n",
        "    elif revenue < 10_000_000:\n",
        "        return \"$1M-$10M\"\n",
        "    elif revenue < 50_000_000:\n",
        "        return \"$10M-$50M\"\n",
        "    elif revenue < 100_000_000:\n",
        "        return \"$50M-$100M\"\n",
        "    elif revenue < 500_000_000:\n",
        "        return \"$100M-$500M\"\n",
        "    else:\n",
        "        return \">$500M\"\n",
        "\n",
        "companies['Revenue_Category'] = companies['Annual Revenue'].apply(revenue_category)\n",
        "\n",
        "# --- Industry Standardized ---\n",
        "companies['Industry_Standardized'] = companies['Industry'].str.title()\n",
        "\n",
        "# --- Region ---\n",
        "companies['Region'] = companies['Country/Region'].str.strip()\n",
        "\n",
        "# --- Uses_[Technology] flags ---\n",
        "technology_keywords = ['Google Tag Manager', 'Salesforce', 'Microsoft Office 365']\n",
        "for tech in technology_keywords:\n",
        "    col_name = f'Uses_{tech.replace(\" \", \"_\")}'\n",
        "    companies[col_name] = companies['Web Technologies'].fillna('').apply(lambda x: int(tech.lower() in x.lower()))\n",
        "\n",
        "# --- Technology Count ---\n",
        "companies['Technology_Count'] = companies['Web Technologies'].fillna('').apply(lambda x: len([t for t in x.split(';') if t.strip()]))\n",
        "\n",
        "# --- Is_BPO flag ---\n",
        "companies['Is_BPO'] = companies['BPO'].str.lower().map({'yes': 1, 'no': 0})\n",
        "\n",
        "# --- Date-based Fields ---\n",
        "companies['Create Date'] = pd.to_datetime(companies['Create Date'], errors='coerce')\n",
        "companies['Create_Year'] = companies['Create Date'].dt.year\n",
        "companies['Create_Month'] = companies['Create Date'].dt.month\n",
        "companies['Create_Quarter'] = companies['Create Date'].dt.quarter\n",
        "companies['Create_YearMonth'] = companies['Create Date'].dt.to_period('M').astype(str)\n"
      ]
    },
    {
      "cell_type": "code",
      "execution_count": null,
      "id": "e82fd1ea",
      "metadata": {
        "id": "e82fd1ea"
      },
      "outputs": [],
      "source": [
        "# Clean up column names just in case\n",
        "tickets.columns = tickets.columns.str.strip()\n",
        "\n",
        "# --- Convert date columns (only those that exist) ---\n",
        "date_cols = [\n",
        "    'Create date', 'Close date', '1st Syms presented for review',\n",
        "    '1st syms run in production',  # This column may still not exist; remove if needed\n",
        "]\n",
        "for col in date_cols:\n",
        "    if col in tickets.columns:\n",
        "        tickets[col] = pd.to_datetime(tickets[col], errors='coerce')\n",
        "\n",
        "# --- Implementation Duration in Days ---\n",
        "tickets['Implementation_Duration_Days'] = (\n",
        "    tickets['Close date'] - tickets['Create date']\n",
        ").dt.days\n",
        "\n",
        "# --- Days to First Sym ---\n",
        "tickets['Days_To_First_Sym'] = (\n",
        "    tickets['1st Syms presented for review'] - tickets['Create date']\n",
        ").dt.days\n",
        "\n",
        "# --- Time to Close in Hours ---\n",
        "def convert_to_hours(x):\n",
        "    try:\n",
        "        h, m, s = map(int, str(x).split(':'))\n",
        "        return h + m/60 + s/3600\n",
        "    except:\n",
        "        return np.nan\n",
        "\n",
        "tickets['Time_To_Close_Hours'] = tickets['Time to close (HH:mm:ss)'].apply(convert_to_hours)\n",
        "\n",
        "# --- Implementation Status (simplified) ---\n",
        "status_map = {\n",
        "    'New': 'Not Started',\n",
        "    'In Progress': 'Ongoing',\n",
        "    'Waiting on contact': 'Ongoing',\n",
        "    'Waiting on us': 'Ongoing',\n",
        "    'Closed': 'Completed'\n",
        "}\n",
        "tickets['Implementation_Status'] = tickets['Ticket status'].map(status_map)\n",
        "\n",
        "# --- Training Completion Count & Percentage ---\n",
        "training_cols = [\n",
        "    'Training: Sym Building 101',\n",
        "    'Training: Sym Building 201',\n",
        "    'Training: General Overview',\n",
        "    'Training: Reporting',\n",
        "    'Training: Deployment/User Management Training'\n",
        "]\n",
        "tickets['Training_Completion_Count'] = tickets[training_cols].notna().sum(axis=1)\n",
        "tickets['Training_Completion_Pct'] = (tickets['Training_Completion_Count'] / len(training_cols)) * 100\n",
        "\n",
        "# --- Create Year, Month, YearMonth ---\n",
        "tickets['Create_Year'] = tickets['Create date'].dt.year\n",
        "tickets['Create_Month'] = tickets['Create date'].dt.month\n",
        "tickets['Create_YearMonth'] = tickets['Create date'].dt.to_period('M').astype(str)\n"
      ]
    },
    {
      "cell_type": "code",
      "execution_count": null,
      "id": "3d9b085e",
      "metadata": {
        "id": "3d9b085e"
      },
      "outputs": [],
      "source": [
        "# Strip column names just in case\n",
        "deals.columns = deals.columns.str.strip()\n",
        "\n",
        "# --- Parse date columns ---\n",
        "deals['Create Date'] = pd.to_datetime(deals['Create Date'], errors='coerce')\n",
        "deals['Close Date'] = pd.to_datetime(deals['Close Date'], errors='coerce')\n",
        "\n",
        "# --- Create Year/Month/Quarter ---\n",
        "deals['Create_Year'] = deals['Create Date'].dt.year\n",
        "deals['Create_Month'] = deals['Create Date'].dt.month\n",
        "deals['Create_Quarter'] = deals['Create Date'].dt.quarter\n",
        "\n",
        "deals['Close_Year'] = deals['Close Date'].dt.year\n",
        "deals['Close_Month'] = deals['Close Date'].dt.month\n",
        "\n",
        "# --- YearMonth string for time-based grouping ---\n",
        "deals['YearMonth'] = deals['Create Date'].dt.to_period('M').astype(str)\n",
        "\n",
        "# --- Deal Size Category ---\n",
        "def deal_size_category(amount):\n",
        "    if pd.isnull(amount):\n",
        "        return None\n",
        "    elif amount < 10000:\n",
        "        return \"Small\"\n",
        "    elif amount < 50000:\n",
        "        return \"Medium\"\n",
        "    elif amount < 250000:\n",
        "        return \"Large\"\n",
        "    else:\n",
        "        return \"Enterprise\"\n",
        "\n",
        "deals['Deal_Size_Category'] = deals['Amount'].apply(deal_size_category)\n",
        "\n"
      ]
    },
    {
      "cell_type": "code",
      "execution_count": null,
      "id": "7ccef3b2",
      "metadata": {
        "id": "7ccef3b2"
      },
      "outputs": [],
      "source": [
        "# Drop columns with >95% missing\n",
        "def drop_high_na_columns(df, threshold=0.95):\n",
        "    return df.loc[:, df.isnull().mean() <= threshold]\n",
        "\n",
        "companies_cleaned = drop_high_na_columns(companies)\n",
        "tickets_cleaned = drop_high_na_columns(tickets)\n",
        "deals_cleaned = drop_high_na_columns(deals)\n",
        "\n",
        "# Detect outliers using IQR\n",
        "def detect_outliers(df):\n",
        "    outlier_info = {}\n",
        "    for col in df.select_dtypes(include=['number']).columns:\n",
        "        Q1 = df[col].quantile(0.25)\n",
        "        Q3 = df[col].quantile(0.75)\n",
        "        IQR = Q3 - Q1\n",
        "        lower = Q1 - 1.5 * IQR\n",
        "        upper = Q3 + 1.5 * IQR\n",
        "        outliers = df[(df[col] < lower) | (df[col] > upper)][col]\n",
        "        if not outliers.empty:\n",
        "            outlier_info[col] = {\n",
        "                \"lower_bound\": lower,\n",
        "                \"upper_bound\": upper,\n",
        "                \"num_outliers\": len(outliers),\n",
        "                \"outlier_indices\": outliers.index.tolist()[:5]\n",
        "            }\n",
        "    return outlier_info\n",
        "\n",
        "# Run outlier detection\n",
        "companies_outliers = detect_outliers(companies_cleaned)\n",
        "tickets_outliers = detect_outliers(tickets_cleaned)\n",
        "deals_outliers = detect_outliers(deals_cleaned)\n"
      ]
    },
    {
      "cell_type": "code",
      "execution_count": null,
      "id": "02bd4a03",
      "metadata": {
        "id": "02bd4a03"
      },
      "outputs": [],
      "source": [
        "# Further data cleaning on companies\n",
        "# 1. Drop rows with missing key segmentation fields\n",
        "companies_cleaned = companies_cleaned.dropna(subset=['Industry', 'Annual Revenue', 'Number of Employees'])\n",
        "\n",
        "# 2. Standardize Country/Region\n",
        "companies_cleaned['Country/Region'] = companies_cleaned['Country/Region'].astype(str).str.strip().str.title()\n",
        "\n",
        "# 3. Clean Web Technologies field\n",
        "def clean_web_tech(text):\n",
        "    if pd.isna(text):\n",
        "        return []\n",
        "    return [tech.strip() for tech in text.split(';') if tech.strip()]\n",
        "\n",
        "companies_cleaned['Web Technologies'] = companies_cleaned['Web Technologies'].apply(clean_web_tech)\n",
        "\n",
        "# 4. Drop parent/child company relationship fields if present and mostly empty\n",
        "cols_to_drop = ['Parent Company', 'Associated Company']\n",
        "companies_cleaned = companies_cleaned.drop(columns=[col for col in cols_to_drop if col in companies_cleaned.columns])\n"
      ]
    },
    {
      "cell_type": "code",
      "execution_count": null,
      "id": "954a1ae4",
      "metadata": {
        "id": "954a1ae4",
        "outputId": "7456bcfe-e1fe-4e8b-dc08-0e1d435671e5"
      },
      "outputs": [
        {
          "name": "stderr",
          "output_type": "stream",
          "text": [
            "C:\\Users\\zhaos\\AppData\\Local\\Temp\\ipykernel_56988\\1492899467.py:12: SettingWithCopyWarning: \n",
            "A value is trying to be set on a copy of a slice from a DataFrame.\n",
            "Try using .loc[row_indexer,col_indexer] = value instead\n",
            "\n",
            "See the caveats in the documentation: https://pandas.pydata.org/pandas-docs/stable/user_guide/indexing.html#returning-a-view-versus-a-copy\n",
            "  tickets_cleaned[col + '_seconds'] = tickets_cleaned[col].apply(time_to_seconds)\n",
            "C:\\Users\\zhaos\\AppData\\Local\\Temp\\ipykernel_56988\\1492899467.py:12: SettingWithCopyWarning: \n",
            "A value is trying to be set on a copy of a slice from a DataFrame.\n",
            "Try using .loc[row_indexer,col_indexer] = value instead\n",
            "\n",
            "See the caveats in the documentation: https://pandas.pydata.org/pandas-docs/stable/user_guide/indexing.html#returning-a-view-versus-a-copy\n",
            "  tickets_cleaned[col + '_seconds'] = tickets_cleaned[col].apply(time_to_seconds)\n",
            "C:\\Users\\zhaos\\AppData\\Local\\Temp\\ipykernel_56988\\1492899467.py:12: SettingWithCopyWarning: \n",
            "A value is trying to be set on a copy of a slice from a DataFrame.\n",
            "Try using .loc[row_indexer,col_indexer] = value instead\n",
            "\n",
            "See the caveats in the documentation: https://pandas.pydata.org/pandas-docs/stable/user_guide/indexing.html#returning-a-view-versus-a-copy\n",
            "  tickets_cleaned[col + '_seconds'] = tickets_cleaned[col].apply(time_to_seconds)\n",
            "C:\\Users\\zhaos\\AppData\\Local\\Temp\\ipykernel_56988\\1492899467.py:24: SettingWithCopyWarning: \n",
            "A value is trying to be set on a copy of a slice from a DataFrame.\n",
            "Try using .loc[row_indexer,col_indexer] = value instead\n",
            "\n",
            "See the caveats in the documentation: https://pandas.pydata.org/pandas-docs/stable/user_guide/indexing.html#returning-a-view-versus-a-copy\n",
            "  tickets_cleaned[col + '_Completed'] = tickets_cleaned[col].notna().astype(int)\n",
            "C:\\Users\\zhaos\\AppData\\Local\\Temp\\ipykernel_56988\\1492899467.py:24: SettingWithCopyWarning: \n",
            "A value is trying to be set on a copy of a slice from a DataFrame.\n",
            "Try using .loc[row_indexer,col_indexer] = value instead\n",
            "\n",
            "See the caveats in the documentation: https://pandas.pydata.org/pandas-docs/stable/user_guide/indexing.html#returning-a-view-versus-a-copy\n",
            "  tickets_cleaned[col + '_Completed'] = tickets_cleaned[col].notna().astype(int)\n",
            "C:\\Users\\zhaos\\AppData\\Local\\Temp\\ipykernel_56988\\1492899467.py:24: SettingWithCopyWarning: \n",
            "A value is trying to be set on a copy of a slice from a DataFrame.\n",
            "Try using .loc[row_indexer,col_indexer] = value instead\n",
            "\n",
            "See the caveats in the documentation: https://pandas.pydata.org/pandas-docs/stable/user_guide/indexing.html#returning-a-view-versus-a-copy\n",
            "  tickets_cleaned[col + '_Completed'] = tickets_cleaned[col].notna().astype(int)\n",
            "C:\\Users\\zhaos\\AppData\\Local\\Temp\\ipykernel_56988\\1492899467.py:24: SettingWithCopyWarning: \n",
            "A value is trying to be set on a copy of a slice from a DataFrame.\n",
            "Try using .loc[row_indexer,col_indexer] = value instead\n",
            "\n",
            "See the caveats in the documentation: https://pandas.pydata.org/pandas-docs/stable/user_guide/indexing.html#returning-a-view-versus-a-copy\n",
            "  tickets_cleaned[col + '_Completed'] = tickets_cleaned[col].notna().astype(int)\n",
            "C:\\Users\\zhaos\\AppData\\Local\\Temp\\ipykernel_56988\\1492899467.py:24: SettingWithCopyWarning: \n",
            "A value is trying to be set on a copy of a slice from a DataFrame.\n",
            "Try using .loc[row_indexer,col_indexer] = value instead\n",
            "\n",
            "See the caveats in the documentation: https://pandas.pydata.org/pandas-docs/stable/user_guide/indexing.html#returning-a-view-versus-a-copy\n",
            "  tickets_cleaned[col + '_Completed'] = tickets_cleaned[col].notna().astype(int)\n",
            "C:\\Users\\zhaos\\AppData\\Local\\Temp\\ipykernel_56988\\1492899467.py:27: SettingWithCopyWarning: \n",
            "A value is trying to be set on a copy of a slice from a DataFrame.\n",
            "Try using .loc[row_indexer,col_indexer] = value instead\n",
            "\n",
            "See the caveats in the documentation: https://pandas.pydata.org/pandas-docs/stable/user_guide/indexing.html#returning-a-view-versus-a-copy\n",
            "  tickets_cleaned['Is_Closed'] = tickets_cleaned['Ticket status'].str.lower() == 'closed'\n",
            "C:\\Users\\zhaos\\AppData\\Local\\Temp\\ipykernel_56988\\1492899467.py:30: SettingWithCopyWarning: \n",
            "A value is trying to be set on a copy of a slice from a DataFrame.\n",
            "Try using .loc[row_indexer,col_indexer] = value instead\n",
            "\n",
            "See the caveats in the documentation: https://pandas.pydata.org/pandas-docs/stable/user_guide/indexing.html#returning-a-view-versus-a-copy\n",
            "  tickets_cleaned['Has_Associated_Deal'] = tickets_cleaned['Associated Deal'].notna().astype(int)\n"
          ]
        }
      ],
      "source": [
        "# 1. Convert time columns to seconds\n",
        "def time_to_seconds(x):\n",
        "    try:\n",
        "        h, m, s = map(int, str(x).split(\":\"))\n",
        "        return h * 3600 + m * 60 + s\n",
        "    except:\n",
        "        return np.nan\n",
        "\n",
        "time_columns = ['Time to close (HH:mm:ss)', 'Response time (HH:mm:ss)', 'Time to first agent email reply (HH:mm:ss)']\n",
        "for col in time_columns:\n",
        "    if col in tickets_cleaned.columns:\n",
        "        tickets_cleaned[col + '_seconds'] = tickets_cleaned[col].apply(time_to_seconds)\n",
        "\n",
        "# 2. Training field completeness (flag if at least one completed)\n",
        "training_cols = [\n",
        "    'Training: Sym Building 101',\n",
        "    'Training: Sym Building 201',\n",
        "    'Training: General Overview',\n",
        "    'Training: Reporting',\n",
        "    'Training: Deployment/User Management Training'\n",
        "]\n",
        "for col in training_cols:\n",
        "    if col in tickets_cleaned.columns:\n",
        "        tickets_cleaned[col + '_Completed'] = tickets_cleaned[col].notna().astype(int)\n",
        "\n",
        "# 3. Flag for ongoing implementation (missing milestone allowed)\n",
        "tickets_cleaned['Is_Closed'] = tickets_cleaned['Ticket status'].str.lower() == 'closed'\n",
        "\n",
        "# 4. Flag for whether ticket is linked to a deal\n",
        "tickets_cleaned['Has_Associated_Deal'] = tickets_cleaned['Associated Deal'].notna().astype(int)\n"
      ]
    },
    {
      "cell_type": "code",
      "execution_count": null,
      "id": "f5fac102",
      "metadata": {
        "id": "f5fac102"
      },
      "outputs": [],
      "source": [
        "# 1. Handle missing Amount values\n",
        "# Option 1: Drop rows where 'Amount' is missing\n",
        "deals_cleaned = deals_cleaned[deals_cleaned['Amount'].notna()]\n",
        "\n",
        "# Option 2 (alternative): Impute with median by Deal Type\n",
        "# deals_cleaned['Amount'] = deals_cleaned.groupby('Deal Type')['Amount'].transform(lambda x: x.fillna(x.median()))\n",
        "\n",
        "# 2. Remove outliers in Days to close using IQR\n",
        "def remove_outliers_iqr(df, col):\n",
        "    Q1 = df[col].quantile(0.25)\n",
        "    Q3 = df[col].quantile(0.75)\n",
        "    IQR = Q3 - Q1\n",
        "    lower = Q1 - 1.5 * IQR\n",
        "    upper = Q3 + 1.5 * IQR\n",
        "    return df[(df[col] >= lower) & (df[col] <= upper)]\n",
        "\n",
        "if 'Days to close' in deals_cleaned.columns:\n",
        "    deals_cleaned = remove_outliers_iqr(deals_cleaned, 'Days to close')\n",
        "\n",
        "# 3. Optional: Bin Deal probability into categories\n",
        "def bin_probability(p):\n",
        "    if pd.isna(p):\n",
        "        return 'Unknown'\n",
        "    elif p < 0.3:\n",
        "        return 'Low'\n",
        "    elif p < 0.7:\n",
        "        return 'Medium'\n",
        "    else:\n",
        "        return 'High'\n",
        "\n",
        "deals_cleaned['Deal_Probability_Bin'] = deals_cleaned['Deal probability'].apply(bin_probability)\n"
      ]
    },
    {
      "cell_type": "code",
      "execution_count": null,
      "id": "4046aaf0",
      "metadata": {
        "id": "4046aaf0"
      },
      "outputs": [],
      "source": [
        "import json\n",
        "\n",
        "# Load the mappings file\n",
        "with open('mappings.json', 'r') as f:\n",
        "    mappings = json.load(f)\n",
        "\n",
        "# Get the company-to-deal mappings\n",
        "company_to_deals = mappings[\"CompanyToDeals\"]\n",
        "\n",
        "# Reverse the mapping to create a deal-to-company dictionary\n",
        "# This will give a one-to-one mapping from deal ID to company ID\n",
        "deal_to_company = {}\n",
        "\n",
        "for company_id, deal_list in company_to_deals.items():\n",
        "    for deal_id in deal_list:\n",
        "        deal_to_company[deal_id] = company_id\n",
        "\n",
        "# Assuming your deals dataset is already loaded and has a unique ID column\n",
        "# Convert the deal ID column to string type for mapping\n",
        "deals_cleaned['Deal Name'] = deals_cleaned['Deal Name'].astype(str)\n",
        "\n",
        "# Create a company ID column in the deals dataset using the deal_to_company dictionary\n",
        "deals_cleaned['Company ID'] = deals_cleaned['Deal Name'].map(deal_to_company)\n",
        "\n",
        "# Convert company Record ID to string for merging\n",
        "companies_cleaned['Record ID'] = companies_cleaned['Record ID'].astype(str)\n",
        "\n",
        "# Merge the deals dataframe with the companies dataframe\n",
        "# Using left join to keep all deals, even if there's no matching company\n",
        "merged_deals_companies = pd.merge(\n",
        "    left=deals_cleaned,\n",
        "    right=companies_cleaned,\n",
        "    left_on='Company ID',\n",
        "    right_on='Record ID',\n",
        "    how='left'\n",
        ")\n",
        "\n",
        "# Now you have a merged dataset with deal information and corresponding company information"
      ]
    },
    {
      "cell_type": "code",
      "execution_count": null,
      "id": "bf9a70a7",
      "metadata": {
        "id": "bf9a70a7",
        "outputId": "83fedf50-c8bf-4fc4-cda3-5a1cb41eaa60"
      },
      "outputs": [
        {
          "name": "stdout",
          "output_type": "stream",
          "text": [
            "Index(['Weighted amount', 'Deal Description',\n",
            "       'Cumulative time in \"BANT Deal. Pain ID'ed (Sales Pipeline)\" (HH:mm:ss)',\n",
            "       'Cumulative time in \"Opportunity (Sales Pipeline)\" (HH:mm:ss)',\n",
            "       'Days to close', 'Deal Score', 'Close Date',\n",
            "       'Deal source attribution 2',\n",
            "       'Cumulative time in \"In Trial - Trial in Progress (Sales Pipeline)\" (HH:mm:ss)',\n",
            "       'Contract Start Date',\n",
            "       'Cumulative time in \"Partner Referrals  (Sales Pipeline)\" (HH:mm:ss)',\n",
            "       'Cumulative time in \"Deep Dive. PSP Drafted (Sales Pipeline)\" (HH:mm:ss)',\n",
            "       'Pipeline', 'Record ID_x', 'Forecast category',\n",
            "       'Original Traffic Source', 'Associated Company', 'Deal owner',\n",
            "       'Is Closed (numeric)', 'Amount in company currency', 'Deal probability',\n",
            "       'Associated Company (Primary)', 'Is Closed Won', 'Contract End Date',\n",
            "       'Last Activity Date', 'Contract Term (Months)', 'Trial Start date',\n",
            "       'Is closed lost', 'Weighted amount in company currency',\n",
            "       'Is Deal Closed?', 'Trial End Date', 'Deal Name', 'Amount',\n",
            "       'Forecast amount',\n",
            "       'Cumulative time in \"Negotiation (Sales Pipeline)\" (HH:mm:ss)',\n",
            "       'Is Open (numeric)',\n",
            "       'Cumulative time in \"Renewals  (Sales Pipeline)\" (HH:mm:ss)',\n",
            "       'Create Date_x',\n",
            "       'Cumulative time in \"Contract Sent (Sales Pipeline)\" (HH:mm:ss)',\n",
            "       'Last Modified Date_x', 'Deal Stage', 'Deal Type', 'Create_Year_x',\n",
            "       'Create_Month_x', 'Create_Quarter_x', 'Close_Year', 'Close_Month',\n",
            "       'YearMonth', 'Deal_Size_Category', 'Deal_Probability_Bin', 'Company ID',\n",
            "       'CCaaS', 'Annual Revenue', 'Associated Contact',\n",
            "       'Number of Form Submissions', 'Web Technologies',\n",
            "       'Number of times contacted', 'Contact with Primary Company',\n",
            "       'ICP Fit Level', 'Record ID_y', 'Time Zone', 'Primary Industry',\n",
            "       'Number of Pageviews', 'Year Founded', 'ICP', 'Segmentation',\n",
            "       'State/Region', 'Consolidated Industry', 'Type', 'Number of Employees',\n",
            "       'Primary Sub-Industry', 'Number of Sessions', 'Country/Region',\n",
            "       'Industry', 'Create Date_y', 'Company name', 'Last Modified Date_y',\n",
            "       'Company_Size_Category', 'Revenue_Category', 'Industry_Standardized',\n",
            "       'Region', 'Uses_Google_Tag_Manager', 'Uses_Salesforce',\n",
            "       'Uses_Microsoft_Office_365', 'Technology_Count', 'Create_Year_y',\n",
            "       'Create_Month_y', 'Create_Quarter_y', 'Create_YearMonth'],\n",
            "      dtype='object')\n"
          ]
        }
      ],
      "source": [
        "print(merged_deals_companies.columns)"
      ]
    },
    {
      "cell_type": "code",
      "execution_count": null,
      "id": "ac63dd7b",
      "metadata": {
        "id": "ac63dd7b",
        "outputId": "e1e62967-4b8d-468c-c9e7-91bfc1332d83"
      },
      "outputs": [
        {
          "name": "stdout",
          "output_type": "stream",
          "text": [
            "Note: The following recommended columns were not found in your dataset: ['BPO', 'LMS System', 'Total contract value', '# of Agents Total', '# of Agents Contracted', 'SymTrain Use Cases']\n"
          ]
        }
      ],
      "source": [
        "# Code to select only the relevant columns for customer segmentation analysis\n",
        "relevant_columns = [\n",
        "    # Company identifiers\n",
        "    'Company name', 'Record ID_y', 'Associated Company (Primary)',\n",
        "\n",
        "    # Company demographics\n",
        "    'Industry', 'Industry_Standardized', 'Number of Employees',\n",
        "    'Annual Revenue', 'Company_Size_Category', 'Revenue_Category',\n",
        "    'Country/Region', 'Region', 'BPO',\n",
        "\n",
        "    # Technology stack (for segmentation)\n",
        "    'Web Technologies', 'Technology_Count', 'CCaaS', 'LMS System',\n",
        "    'Uses_Google_Tag_Manager', 'Uses_Salesforce', 'Uses_Microsoft_Office_365',\n",
        "\n",
        "    # Deal characteristics\n",
        "    'Amount', 'Total contract value', 'Deal Type', 'Deal Stage',\n",
        "    'Deal probability', 'Deal Score', 'Is Closed Won', 'Is closed lost',\n",
        "\n",
        "    # Time-related fields (for churn prediction and activity patterns)\n",
        "    'Contract End Date', 'Close Date', 'Last Activity Date', 'Last Modified Date_y',\n",
        "    'Days to close', 'Create Date_y',\n",
        "\n",
        "    # Agent/usage metrics (value indicators)\n",
        "    '# of Agents Total', '# of Agents Contracted', 'SymTrain Use Cases'\n",
        "]\n",
        "\n",
        "# Keep only the columns that exist in your merged dataset\n",
        "existing_columns = [col for col in relevant_columns if col in merged_deals_companies.columns]\n",
        "\n",
        "# Create the filtered dataframe\n",
        "filtered_df = merged_deals_companies[existing_columns]\n",
        "\n",
        "# Check for key columns that might be missing\n",
        "missing_columns = [col for col in relevant_columns if col not in merged_deals_companies.columns]\n",
        "if missing_columns:\n",
        "    print(f\"Note: The following recommended columns were not found in your dataset: {missing_columns}\")"
      ]
    },
    {
      "cell_type": "code",
      "execution_count": null,
      "id": "9db8271c",
      "metadata": {
        "id": "9db8271c"
      },
      "outputs": [],
      "source": [
        "# Define relevant columns for segmentation and prediction\n",
        "columns_to_keep = [\n",
        "    # Company identifiers\n",
        "    'Company name', 'Record ID_y', 'Associated Company (Primary)',\n",
        "\n",
        "    # Company demographics\n",
        "    'Industry', 'Industry_Standardized', 'Number of Employees',\n",
        "    'Annual Revenue', 'Company_Size_Category', 'Revenue_Category',\n",
        "    'Country/Region', 'Region',\n",
        "\n",
        "    # Technology stack (for segmentation)\n",
        "    'Web Technologies', 'Technology_Count', 'CCaaS',\n",
        "    'Uses_Google_Tag_Manager', 'Uses_Salesforce', 'Uses_Microsoft_Office_365',\n",
        "\n",
        "    # Deal characteristics\n",
        "    'Amount', 'Deal Type', 'Deal Stage',\n",
        "    'Deal probability', 'Deal Score', 'Is Closed Won', 'Is closed lost', 'Is Closed (numeric)',\n",
        "    'Is Deal Closed?', 'Is Open (numeric)',\n",
        "\n",
        "    # Time-related fields (for churn prediction and activity patterns)\n",
        "    'Contract End Date', 'Close Date', 'Last Activity Date', 'Last Modified Date_y',\n",
        "    'Days to close', 'Create Date_y',\n",
        "]\n",
        "\n",
        "# Subset the tickets dataframe\n",
        "merged_data = merged_deals_companies[columns_to_keep]"
      ]
    },
    {
      "cell_type": "code",
      "execution_count": null,
      "id": "2bde4f85",
      "metadata": {
        "id": "2bde4f85",
        "outputId": "650ee0d4-f75f-4511-91e1-fb8a8d3026ab"
      },
      "outputs": [
        {
          "name": "stdout",
          "output_type": "stream",
          "text": [
            "Index(['Company name', 'Record ID_y', 'Associated Company (Primary)',\n",
            "       'Industry', 'Industry_Standardized', 'Number of Employees',\n",
            "       'Annual Revenue', 'Company_Size_Category', 'Revenue_Category',\n",
            "       'Country/Region', 'Region', 'Web Technologies', 'Technology_Count',\n",
            "       'CCaaS', 'Uses_Google_Tag_Manager', 'Uses_Salesforce',\n",
            "       'Uses_Microsoft_Office_365', 'Amount', 'Deal Type', 'Deal Stage',\n",
            "       'Deal probability', 'Deal Score', 'Is Closed Won', 'Is closed lost',\n",
            "       'Is Closed (numeric)', 'Is Deal Closed?', 'Is Open (numeric)',\n",
            "       'Contract End Date', 'Close Date', 'Last Activity Date',\n",
            "       'Last Modified Date_y', 'Days to close', 'Create Date_y'],\n",
            "      dtype='object')\n"
          ]
        }
      ],
      "source": [
        "print(merged_data.columns)"
      ]
    },
    {
      "cell_type": "code",
      "execution_count": null,
      "id": "3ae87d78",
      "metadata": {
        "id": "3ae87d78",
        "outputId": "4850589b-3595-4e74-9a01-d8e401b6f623"
      },
      "outputs": [
        {
          "data": {
            "text/html": [
              "<div>\n",
              "<style scoped>\n",
              "    .dataframe tbody tr th:only-of-type {\n",
              "        vertical-align: middle;\n",
              "    }\n",
              "\n",
              "    .dataframe tbody tr th {\n",
              "        vertical-align: top;\n",
              "    }\n",
              "\n",
              "    .dataframe thead th {\n",
              "        text-align: right;\n",
              "    }\n",
              "</style>\n",
              "<table border=\"1\" class=\"dataframe\">\n",
              "  <thead>\n",
              "    <tr style=\"text-align: right;\">\n",
              "      <th></th>\n",
              "      <th>Company name</th>\n",
              "      <th>Record ID_y</th>\n",
              "      <th>Associated Company (Primary)</th>\n",
              "      <th>Industry</th>\n",
              "      <th>Industry_Standardized</th>\n",
              "      <th>Number of Employees</th>\n",
              "      <th>Annual Revenue</th>\n",
              "      <th>Company_Size_Category</th>\n",
              "      <th>Revenue_Category</th>\n",
              "      <th>Country/Region</th>\n",
              "      <th>...</th>\n",
              "      <th>Is closed lost</th>\n",
              "      <th>Is Closed (numeric)</th>\n",
              "      <th>Is Deal Closed?</th>\n",
              "      <th>Is Open (numeric)</th>\n",
              "      <th>Contract End Date</th>\n",
              "      <th>Close Date</th>\n",
              "      <th>Last Activity Date</th>\n",
              "      <th>Last Modified Date_y</th>\n",
              "      <th>Days to close</th>\n",
              "      <th>Create Date_y</th>\n",
              "    </tr>\n",
              "  </thead>\n",
              "  <tbody>\n",
              "    <tr>\n",
              "      <th>0</th>\n",
              "      <td>NaN</td>\n",
              "      <td>NaN</td>\n",
              "      <td>Associated_9ea45ab3</td>\n",
              "      <td>NaN</td>\n",
              "      <td>NaN</td>\n",
              "      <td>NaN</td>\n",
              "      <td>NaN</td>\n",
              "      <td>NaN</td>\n",
              "      <td>NaN</td>\n",
              "      <td>NaN</td>\n",
              "      <td>...</td>\n",
              "      <td>False</td>\n",
              "      <td>0.0</td>\n",
              "      <td>False</td>\n",
              "      <td>1.0</td>\n",
              "      <td>NaN</td>\n",
              "      <td>2025-05-01 15:26:00</td>\n",
              "      <td>2025-02-20 14:06</td>\n",
              "      <td>NaN</td>\n",
              "      <td>69.0</td>\n",
              "      <td>NaT</td>\n",
              "    </tr>\n",
              "    <tr>\n",
              "      <th>1</th>\n",
              "      <td>NaN</td>\n",
              "      <td>NaN</td>\n",
              "      <td>Associated_77e18366</td>\n",
              "      <td>NaN</td>\n",
              "      <td>NaN</td>\n",
              "      <td>NaN</td>\n",
              "      <td>NaN</td>\n",
              "      <td>NaN</td>\n",
              "      <td>NaN</td>\n",
              "      <td>NaN</td>\n",
              "      <td>...</td>\n",
              "      <td>False</td>\n",
              "      <td>0.0</td>\n",
              "      <td>False</td>\n",
              "      <td>1.0</td>\n",
              "      <td>NaN</td>\n",
              "      <td>2025-07-20 09:06:00</td>\n",
              "      <td>NaN</td>\n",
              "      <td>NaN</td>\n",
              "      <td>149.0</td>\n",
              "      <td>NaT</td>\n",
              "    </tr>\n",
              "    <tr>\n",
              "      <th>2</th>\n",
              "      <td>NaN</td>\n",
              "      <td>NaN</td>\n",
              "      <td>Associated_77e18366</td>\n",
              "      <td>NaN</td>\n",
              "      <td>NaN</td>\n",
              "      <td>NaN</td>\n",
              "      <td>NaN</td>\n",
              "      <td>NaN</td>\n",
              "      <td>NaN</td>\n",
              "      <td>NaN</td>\n",
              "      <td>...</td>\n",
              "      <td>False</td>\n",
              "      <td>0.0</td>\n",
              "      <td>False</td>\n",
              "      <td>1.0</td>\n",
              "      <td>NaN</td>\n",
              "      <td>2025-07-20 09:03:00</td>\n",
              "      <td>NaN</td>\n",
              "      <td>NaN</td>\n",
              "      <td>149.0</td>\n",
              "      <td>NaT</td>\n",
              "    </tr>\n",
              "    <tr>\n",
              "      <th>3</th>\n",
              "      <td>NaN</td>\n",
              "      <td>NaN</td>\n",
              "      <td>Associated_77e18366</td>\n",
              "      <td>NaN</td>\n",
              "      <td>NaN</td>\n",
              "      <td>NaN</td>\n",
              "      <td>NaN</td>\n",
              "      <td>NaN</td>\n",
              "      <td>NaN</td>\n",
              "      <td>NaN</td>\n",
              "      <td>...</td>\n",
              "      <td>False</td>\n",
              "      <td>0.0</td>\n",
              "      <td>False</td>\n",
              "      <td>1.0</td>\n",
              "      <td>NaN</td>\n",
              "      <td>2025-07-20 08:55:00</td>\n",
              "      <td>NaN</td>\n",
              "      <td>NaN</td>\n",
              "      <td>149.0</td>\n",
              "      <td>NaT</td>\n",
              "    </tr>\n",
              "    <tr>\n",
              "      <th>4</th>\n",
              "      <td>NaN</td>\n",
              "      <td>NaN</td>\n",
              "      <td>Associated_edbdb698</td>\n",
              "      <td>NaN</td>\n",
              "      <td>NaN</td>\n",
              "      <td>NaN</td>\n",
              "      <td>NaN</td>\n",
              "      <td>NaN</td>\n",
              "      <td>NaN</td>\n",
              "      <td>NaN</td>\n",
              "      <td>...</td>\n",
              "      <td>False</td>\n",
              "      <td>0.0</td>\n",
              "      <td>False</td>\n",
              "      <td>1.0</td>\n",
              "      <td>NaN</td>\n",
              "      <td>2025-06-20 15:01:00</td>\n",
              "      <td>2025-02-14 15:30</td>\n",
              "      <td>NaN</td>\n",
              "      <td>120.0</td>\n",
              "      <td>NaT</td>\n",
              "    </tr>\n",
              "  </tbody>\n",
              "</table>\n",
              "<p>5 rows × 33 columns</p>\n",
              "</div>"
            ],
            "text/plain": [
              "  Company name Record ID_y Associated Company (Primary) Industry  \\\n",
              "0          NaN         NaN          Associated_9ea45ab3      NaN   \n",
              "1          NaN         NaN          Associated_77e18366      NaN   \n",
              "2          NaN         NaN          Associated_77e18366      NaN   \n",
              "3          NaN         NaN          Associated_77e18366      NaN   \n",
              "4          NaN         NaN          Associated_edbdb698      NaN   \n",
              "\n",
              "  Industry_Standardized  Number of Employees  Annual Revenue  \\\n",
              "0                   NaN                  NaN             NaN   \n",
              "1                   NaN                  NaN             NaN   \n",
              "2                   NaN                  NaN             NaN   \n",
              "3                   NaN                  NaN             NaN   \n",
              "4                   NaN                  NaN             NaN   \n",
              "\n",
              "  Company_Size_Category Revenue_Category Country/Region  ... Is closed lost  \\\n",
              "0                   NaN              NaN            NaN  ...          False   \n",
              "1                   NaN              NaN            NaN  ...          False   \n",
              "2                   NaN              NaN            NaN  ...          False   \n",
              "3                   NaN              NaN            NaN  ...          False   \n",
              "4                   NaN              NaN            NaN  ...          False   \n",
              "\n",
              "  Is Closed (numeric)  Is Deal Closed? Is Open (numeric)  Contract End Date  \\\n",
              "0                 0.0            False               1.0                NaN   \n",
              "1                 0.0            False               1.0                NaN   \n",
              "2                 0.0            False               1.0                NaN   \n",
              "3                 0.0            False               1.0                NaN   \n",
              "4                 0.0            False               1.0                NaN   \n",
              "\n",
              "           Close Date  Last Activity Date  Last Modified Date_y Days to close  \\\n",
              "0 2025-05-01 15:26:00    2025-02-20 14:06                   NaN          69.0   \n",
              "1 2025-07-20 09:06:00                 NaN                   NaN         149.0   \n",
              "2 2025-07-20 09:03:00                 NaN                   NaN         149.0   \n",
              "3 2025-07-20 08:55:00                 NaN                   NaN         149.0   \n",
              "4 2025-06-20 15:01:00    2025-02-14 15:30                   NaN         120.0   \n",
              "\n",
              "  Create Date_y  \n",
              "0           NaT  \n",
              "1           NaT  \n",
              "2           NaT  \n",
              "3           NaT  \n",
              "4           NaT  \n",
              "\n",
              "[5 rows x 33 columns]"
            ]
          },
          "execution_count": 21,
          "metadata": {},
          "output_type": "execute_result"
        }
      ],
      "source": [
        "merged_data.head()"
      ]
    },
    {
      "cell_type": "code",
      "execution_count": null,
      "id": "edbd768e",
      "metadata": {
        "id": "edbd768e"
      },
      "outputs": [],
      "source": [
        "high_missing = merged_data.columns[merged_data.isnull().mean() > 0.90]\n",
        "merged_cleaned = merged_data.drop(columns=high_missing)"
      ]
    },
    {
      "cell_type": "code",
      "execution_count": null,
      "id": "f6359ada",
      "metadata": {
        "id": "f6359ada",
        "outputId": "a9e467b0-a690-451b-c5ad-81986cac3b0e"
      },
      "outputs": [
        {
          "data": {
            "text/plain": [
              "Index(['Associated Company (Primary)', 'Amount', 'Deal Type', 'Deal Stage',\n",
              "       'Deal probability', 'Deal Score', 'Is Closed Won', 'Is closed lost',\n",
              "       'Is Closed (numeric)', 'Is Deal Closed?', 'Is Open (numeric)',\n",
              "       'Contract End Date', 'Close Date', 'Last Activity Date',\n",
              "       'Days to close'],\n",
              "      dtype='object')"
            ]
          },
          "execution_count": 23,
          "metadata": {},
          "output_type": "execute_result"
        }
      ],
      "source": [
        "merged_cleaned.columns"
      ]
    },
    {
      "cell_type": "code",
      "execution_count": null,
      "id": "da5bdcf8",
      "metadata": {
        "id": "da5bdcf8"
      },
      "outputs": [],
      "source": [
        "merged_cleaned.to_csv(\"merged_cleaned.csv\", index=False)"
      ]
    },
    {
      "cell_type": "code",
      "execution_count": null,
      "id": "dc98b257",
      "metadata": {
        "id": "dc98b257"
      },
      "outputs": [],
      "source": [
        "import pandas as pd\n",
        "from sklearn.preprocessing import StandardScaler\n",
        "from sklearn.cluster import KMeans\n",
        "\n",
        "# Load the cleaned merged dataset\n",
        "merged_cleaned = pd.read_csv(\"merged_cleaned.csv\")\n",
        "\n",
        "# Convert date\n",
        "merged_cleaned['Last Activity Date'] = pd.to_datetime(merged_cleaned['Last Activity Date'], errors='coerce')\n",
        "today = pd.Timestamp.today()\n",
        "merged_cleaned['Recency_Days'] = (today - merged_cleaned['Last Activity Date']).dt.days\n",
        "\n",
        "# Aggregate deal info to customer level\n",
        "customer_df = merged_cleaned.groupby('Associated Company (Primary)').agg({\n",
        "    'Amount': ['sum', 'mean', 'count'],\n",
        "    'Deal probability': 'mean',\n",
        "    'Deal Score': 'mean',\n",
        "    'Is Closed Won': 'sum',\n",
        "    'Is closed lost': 'sum',\n",
        "    'Is Open (numeric)': 'sum',\n",
        "    'Days to close': 'mean',\n",
        "    'Recency_Days': 'min'\n",
        "})\n",
        "\n",
        "# Flatten column names\n",
        "customer_df.columns = ['_'.join(col).strip() for col in customer_df.columns.values]\n",
        "customer_df.reset_index(inplace=True)\n",
        "\n",
        "# Drop missing values\n",
        "customer_df.dropna(inplace=True)\n",
        "\n",
        "# Normalize features\n",
        "features = customer_df.drop(columns=['Associated Company (Primary)'])\n",
        "scaler = StandardScaler()\n",
        "scaled_features = scaler.fit_transform(features)\n",
        "\n",
        "# K-Means clustering\n",
        "kmeans = KMeans(n_clusters=4, random_state=42)\n",
        "customer_df['Cluster'] = kmeans.fit_predict(scaled_features)\n",
        "\n"
      ]
    },
    {
      "cell_type": "code",
      "execution_count": null,
      "id": "350a7fcf",
      "metadata": {
        "id": "350a7fcf",
        "outputId": "bf550816-a0ab-48ee-eebe-7ed95aeec8a2"
      },
      "outputs": [
        {
          "name": "stderr",
          "output_type": "stream",
          "text": [
            "/var/folders/2d/d0kzt8513jx2wgn4ml9fmy0w0000gn/T/ipykernel_53137/159777950.py:9: FutureWarning: \n",
            "\n",
            "Passing `palette` without assigning `hue` is deprecated and will be removed in v0.14.0. Assign the `x` variable to `hue` and set `legend=False` for the same effect.\n",
            "\n",
            "  sns.countplot(data=customer_df, x='Cluster', palette='Set2')\n"
          ]
        },
        {
          "data": {
            "image/png": "[encoded data removed]",
            "text/plain": [
              "<Figure size 600x400 with 1 Axes>"
            ]
          },
          "metadata": {},
          "output_type": "display_data"
        },
        {
          "name": "stderr",
          "output_type": "stream",
          "text": [
            "/var/folders/2d/d0kzt8513jx2wgn4ml9fmy0w0000gn/T/ipykernel_53137/159777950.py:18: FutureWarning: \n",
            "\n",
            "Passing `palette` without assigning `hue` is deprecated and will be removed in v0.14.0. Assign the `x` variable to `hue` and set `legend=False` for the same effect.\n",
            "\n",
            "  sns.barplot(data=cluster_summary.reset_index(), x='Cluster', y='Amount_mean', palette='Set1')\n"
          ]
        },
        {
          "data": {
            "image/png": "[encoded data removed]",
            "text/plain": [
              "<Figure size 600x400 with 1 Axes>"
            ]
          },
          "metadata": {},
          "output_type": "display_data"
        },
        {
          "name": "stderr",
          "output_type": "stream",
          "text": [
            "/var/folders/2d/d0kzt8513jx2wgn4ml9fmy0w0000gn/T/ipykernel_53137/159777950.py:27: FutureWarning: \n",
            "\n",
            "Passing `palette` without assigning `hue` is deprecated and will be removed in v0.14.0. Assign the `x` variable to `hue` and set `legend=False` for the same effect.\n",
            "\n",
            "  sns.barplot(data=cluster_summary.reset_index(), x='Cluster', y='Deal Score_mean', palette='Set3')\n"
          ]
        },
        {
          "data": {
            "image/png": "[encoded data removed]",
            "text/plain": [
              "<Figure size 600x400 with 1 Axes>"
            ]
          },
          "metadata": {},
          "output_type": "display_data"
        },
        {
          "data": {
            "image/png": "[encoded data removed]",
            "text/plain": [
              "<Figure size 1000x600 with 2 Axes>"
            ]
          },
          "metadata": {},
          "output_type": "display_data"
        }
      ],
      "source": [
        "import matplotlib.pyplot as plt\n",
        "import seaborn as sns\n",
        "\n",
        "# Summary statistics by cluster\n",
        "cluster_summary = customer_df.groupby('Cluster').mean(numeric_only=True)\n",
        "\n",
        "# Plot 1: Number of customers per cluster\n",
        "plt.figure(figsize=(6, 4))\n",
        "sns.countplot(data=customer_df, x='Cluster', palette='Set2')\n",
        "plt.title(\"Number of Customers per Cluster\")\n",
        "plt.xlabel(\"Cluster\")\n",
        "plt.ylabel(\"Count\")\n",
        "plt.tight_layout()\n",
        "plt.show()\n",
        "\n",
        "# Plot 2: Average deal amount by cluster\n",
        "plt.figure(figsize=(6, 4))\n",
        "sns.barplot(data=cluster_summary.reset_index(), x='Cluster', y='Amount_mean', palette='Set1')\n",
        "plt.title(\"Average Deal Amount by Cluster\")\n",
        "plt.xlabel(\"Cluster\")\n",
        "plt.ylabel(\"Amount (Mean)\")\n",
        "plt.tight_layout()\n",
        "plt.show()\n",
        "\n",
        "# Plot 3: Average deal score by cluster\n",
        "plt.figure(figsize=(6, 4))\n",
        "sns.barplot(data=cluster_summary.reset_index(), x='Cluster', y='Deal Score_mean', palette='Set3')\n",
        "plt.title(\"Average Deal Score by Cluster\")\n",
        "plt.xlabel(\"Cluster\")\n",
        "plt.ylabel(\"Deal Score (Mean)\")\n",
        "plt.tight_layout()\n",
        "plt.show()\n",
        "\n",
        "# Plot 4: Cluster heatmap of feature averages\n",
        "plt.figure(figsize=(10, 6))\n",
        "sns.heatmap(cluster_summary, annot=True, fmt=\".1f\", cmap=\"YlGnBu\")\n",
        "plt.title(\"Cluster Feature Heatmap\")\n",
        "plt.tight_layout()\n",
        "plt.show()\n"
      ]
    },
    {
      "cell_type": "markdown",
      "id": "787263a2",
      "metadata": {
        "id": "787263a2"
      },
      "source": [
        "# Sales Insights Modeling Pipeline\n",
        "\n",
        "This notebook demonstrates an end‐to‐end modeling pipeline for analyzing sales data. It is divided into several sections:\n",
        "\n",
        "1. **Imports & Helper Functions:** Load required libraries and define helper functions.\n",
        "2. **ETL Pipeline:** Load and preprocess the merged data.\n",
        "3. **Clustering Models:** Segment customers using KMeans and DBSCAN.\n",
        "4. **Classification Models:** Predict deal outcomes using Logistic Regression, Random Forest, and XGBoost.\n",
        "5. **Interactive Dashboard:** Visualize insights using Streamlit.\n",
        "\n",
        "Each section is explained below."
      ]
    },
    {
      "cell_type": "code",
      "execution_count": null,
      "id": "4a7337ba",
      "metadata": {
        "id": "4a7337ba"
      },
      "outputs": [],
      "source": [
        "import pandas as pd\n",
        "import numpy as np\n",
        "import matplotlib.pyplot as plt\n",
        "import streamlit as st  # For interactive dashboard\n",
        "from sklearn.model_selection import train_test_split\n",
        "from sklearn.preprocessing import StandardScaler\n",
        "from sklearn.cluster import KMeans, DBSCAN\n",
        "from sklearn.linear_model import LogisticRegression\n",
        "from sklearn.ensemble import RandomForestClassifier\n",
        "import xgboost as xgb\n",
        "from sklearn.metrics import accuracy_score, classification_report\n",
        "\n",
        "# Helper function to convert HH:mm:ss to seconds\n",
        "def hhmmss_to_seconds(time_str):\n",
        "    \"\"\"Convert a time string in HH:mm:ss format to total seconds.\"\"\"\n",
        "    try:\n",
        "        h, m, s = map(int, time_str.split(':'))\n",
        "        return h * 3600 + m * 60 + s\n",
        "    except Exception:\n",
        "        return np.nan"
      ]
    },
    {
      "cell_type": "markdown",
      "id": "7da16937",
      "metadata": {
        "id": "7da16937"
      },
      "source": [
        "## ETL Pipeline\n",
        "This section loads the CSV file containing the merged data (named `eda_merge_with_clusters.csv`) into a DataFrame (`merged_tickets_deals`). It also performs simple preprocessing:\n",
        "- Fills missing values.\n",
        "- Converts time strings (e.g., \"Time to close (HH:mm:ss)\") to seconds."
      ]
    },
    {
      "cell_type": "code",
      "execution_count": null,
      "id": "064b77ba",
      "metadata": {
        "id": "064b77ba"
      },
      "outputs": [],
      "source": [
        "import pandas as pd\n",
        "my_data=pd.read_csv('merged_cleaned.csv')"
      ]
    },
    {
      "cell_type": "code",
      "execution_count": null,
      "id": "3d1f2639",
      "metadata": {
        "id": "3d1f2639",
        "outputId": "ecfcb177-b144-4ddd-e007-39e83bb69770"
      },
      "outputs": [
        {
          "name": "stdout",
          "output_type": "stream",
          "text": [
            "Columns in the dataset:\n",
            "['Associated Company (Primary)', 'Amount', 'Deal Type', 'Deal Stage', 'Deal probability', 'Deal Score', 'Is Closed Won', 'Is closed lost', 'Is Closed (numeric)', 'Is Deal Closed?', 'Is Open (numeric)', 'Contract End Date', 'Close Date', 'Last Activity Date', 'Days to close', 'time_to_close_seconds']\n"
          ]
        },
        {
          "name": "stderr",
          "output_type": "stream",
          "text": [
            "C:\\Users\\zhaos\\AppData\\Local\\Temp\\ipykernel_56988\\2887950771.py:10: FutureWarning: DataFrame.fillna with 'method' is deprecated and will raise in a future version. Use obj.ffill() or obj.bfill() instead.\n",
            "  my_data.fillna(method='ffill', inplace=True)\n"
          ]
        }
      ],
      "source": [
        "def etl_pipeline(file_path):\n",
        "    \"\"\"\n",
        "    Load and process the merged data.\n",
        "\n",
        "    - Reads CSV data into a DataFrame named my_data.\n",
        "    - Fills missing values.\n",
        "    - Converts \"Time to close (HH:mm:ss)\" into seconds.\n",
        "    \"\"\"\n",
        "\n",
        "    my_data.fillna(method='ffill', inplace=True)\n",
        "\n",
        "    # Convert \"Time to close (HH:mm:ss)\" to seconds if available\n",
        "    if \"Time to close (HH:mm:ss)\" in my_data.columns:\n",
        "        my_data[\"time_to_close_seconds\"] = my_data[\"Time to close (HH:mm:ss)\"].apply(hhmmss_to_seconds)\n",
        "    else:\n",
        "        my_data[\"time_to_close_seconds\"] = np.nan\n",
        "\n",
        "    print(\"Columns in the dataset:\")\n",
        "    print(my_data.columns.tolist())\n",
        "\n",
        "    return my_data\n",
        "\n",
        "my_data = etl_pipeline(\"merged_cleaned.csv\")"
      ]
    },
    {
      "cell_type": "markdown",
      "id": "e028db51",
      "metadata": {
        "id": "e028db51"
      },
      "source": [
        "## Clustering Models\n",
        "In this section, we segment the data using two unsupervised clustering techniques:\n",
        "- **KMeans:** Groups companies based on numeric features such as weighted amount, deal probability, deal score, days to close, and time-to-close (in seconds).\n",
        "- **DBSCAN:** Provides an alternative clustering method that can identify clusters of arbitrary shape and filter noise.\n",
        "\n",
        "Adjust the feature list as needed based on your data."
      ]
    },
    {
      "cell_type": "code",
      "execution_count": null,
      "id": "84da068d",
      "metadata": {
        "id": "84da068d",
        "outputId": "9bb00325-ccf6-4dbe-c1b0-9caeab369495"
      },
      "outputs": [
        {
          "name": "stdout",
          "output_type": "stream",
          "text": [
            "KMeans cluster counts:\n",
            "kmeans_cluster\n",
            "1.0    309\n",
            "2.0    109\n",
            "0.0     90\n",
            "Name: count, dtype: int64\n",
            "\n",
            "DBSCAN cluster counts:\n",
            "dbscan_cluster\n",
            " 1.0    180\n",
            " 0.0    144\n",
            " 3.0    104\n",
            "-1.0     49\n",
            " 2.0     24\n",
            " 4.0      7\n",
            "Name: count, dtype: int64\n",
            "\n",
            "KMeans Inertia: 829.5309984136272\n"
          ]
        }
      ],
      "source": [
        "def clustering_model(my_data):\n",
        "    \"\"\"\n",
        "    Apply clustering to segment companies.\n",
        "\n",
        "    Features used:\n",
        "      - 'Deal probability'\n",
        "      - 'Deal Score'\n",
        "      - 'Days to close'\n",
        "    \"\"\"\n",
        "    features = ['Deal probability', 'Deal Score', 'Days to close']\n",
        "    # Drop rows with missing values in the selected features\n",
        "    X = my_data[features].dropna()\n",
        "    scaler = StandardScaler()\n",
        "    X_scaled = scaler.fit_transform(X)\n",
        "\n",
        "    # --- KMeans Clustering ---\n",
        "    kmeans = KMeans(n_clusters=3, random_state=42)\n",
        "    clusters = kmeans.fit_predict(X_scaled)\n",
        "    # Assign clusters to the original DataFrame for rows with valid data\n",
        "    my_data.loc[X.index, 'kmeans_cluster'] = clusters\n",
        "\n",
        "    # --- DBSCAN Clustering ---\n",
        "    dbscan = DBSCAN(eps=0.5, min_samples=5)\n",
        "    db_clusters = dbscan.fit_predict(X_scaled)\n",
        "    my_data.loc[X.index, 'dbscan_cluster'] = db_clusters\n",
        "\n",
        "    return my_data, kmeans, dbscan\n",
        "\n",
        "\n",
        "my_data, kmeans_model, dbscan_model = clustering_model(my_data)\n",
        "\n",
        "# Cluster counts\n",
        "print(\"KMeans cluster counts:\")\n",
        "print(my_data['kmeans_cluster'].value_counts())\n",
        "\n",
        "print(\"\\nDBSCAN cluster counts:\")\n",
        "print(my_data['dbscan_cluster'].value_counts())\n",
        "\n",
        "# KMeans inertia\n",
        "print(\"\\nKMeans Inertia:\", kmeans_model.inertia_)"
      ]
    },
    {
      "cell_type": "code",
      "execution_count": null,
      "id": "5bf07ba6",
      "metadata": {
        "id": "5bf07ba6",
        "outputId": "5fe3e4ab-4375-4c7b-e581-88d683584fdd"
      },
      "outputs": [
        {
          "name": "stdout",
          "output_type": "stream",
          "text": [
            "['Associated Company (Primary)', 'Amount', 'Deal Type', 'Deal Stage', 'Deal probability', 'Deal Score', 'Is Closed Won', 'Is closed lost', 'Is Closed (numeric)', 'Is Deal Closed?', 'Is Open (numeric)', 'Contract End Date', 'Close Date', 'Last Activity Date', 'Days to close', 'Recency_Days']\n"
          ]
        }
      ],
      "source": [
        "print(merged_cleaned.columns.tolist())"
      ]
    },
    {
      "cell_type": "markdown",
      "id": "929190e3",
      "metadata": {
        "id": "929190e3"
      },
      "source": [
        "## Classification Models\n",
        "Here we build classification models to predict deal outcomes. We assume that the binary target column `Is Closed Won` exists in the data.\n",
        "The models used are:\n",
        "- **Logistic Regression:** A linear model for binary classification.\n",
        "- **Random Forest:** An ensemble method that builds multiple decision trees.\n",
        "- **XGBoost:** A gradient boosting model optimized for performance.\n",
        "\n",
        "The feature set is the same as used in clustering, and we drop rows with missing values."
      ]
    },
    {
      "cell_type": "code",
      "execution_count": null,
      "id": "080ef5c3",
      "metadata": {
        "id": "080ef5c3",
        "outputId": "3a161ada-3ec5-41e8-9307-7a4ad45d9ef2"
      },
      "outputs": [
        {
          "name": "stdout",
          "output_type": "stream",
          "text": [
            "\n",
            "--- Logistic Regression ---\n",
            "Accuracy: 0.7352941176470589\n",
            "              precision    recall  f1-score   support\n",
            "\n",
            "         0.0       0.65      0.49      0.56        35\n",
            "         1.0       0.76      0.87      0.81        67\n",
            "\n",
            "    accuracy                           0.74       102\n",
            "   macro avg       0.71      0.68      0.68       102\n",
            "weighted avg       0.73      0.74      0.72       102\n",
            "\n",
            "Confusion Matrix:\n",
            " [[17 18]\n",
            " [ 9 58]]\n"
          ]
        }
      ],
      "source": [
        "from sklearn.metrics import confusion_matrix, classification_report, accuracy_score\n",
        "from sklearn.linear_model import LogisticRegression\n",
        "from sklearn.model_selection import train_test_split\n",
        "from sklearn.preprocessing import StandardScaler\n",
        "\n",
        "def classification_model_log_reg(my_data):\n",
        "    features = ['Amount', 'Deal Score', 'Days to close']\n",
        "\n",
        "    # Drop rows missing any of the features or target\n",
        "    data = my_data[features + ['Is Closed (numeric)']].dropna()\n",
        "    X = data[features]\n",
        "    y = data['Is Closed (numeric)']\n",
        "\n",
        "    # Split data into training and test sets\n",
        "    X_train, X_test, y_train, y_test = train_test_split(X, y, test_size=0.2, random_state=42)\n",
        "\n",
        "    # Scale features for models that require scaling\n",
        "    scaler = StandardScaler()\n",
        "    X_train_scaled = scaler.fit_transform(X_train)\n",
        "    X_test_scaled = scaler.transform(X_test)\n",
        "\n",
        "    # --- Logistic Regression ---\n",
        "    log_reg = LogisticRegression(random_state=42, max_iter=1000)\n",
        "    log_reg.fit(X_train_scaled, y_train)\n",
        "    y_pred = log_reg.predict(X_test_scaled)\n",
        "\n",
        "    # Print evaluation results\n",
        "    print(\"\\n--- Logistic Regression ---\")\n",
        "    acc = accuracy_score(y_test, y_pred)\n",
        "    print(\"Accuracy:\", acc)\n",
        "    print(classification_report(y_test, y_pred))\n",
        "    print(\"Confusion Matrix:\\n\", confusion_matrix(y_test, y_pred))\n",
        "\n",
        "    return log_reg, (X_test_scaled, y_test), y_pred\n",
        "\n",
        "# Call the logistic regression function to see output\n",
        "results_log = classification_model_log_reg(my_data)"
      ]
    },
    {
      "cell_type": "code",
      "execution_count": null,
      "id": "ecb8c647",
      "metadata": {
        "id": "ecb8c647",
        "outputId": "36f950cd-b4e2-4ca7-a7c4-8f28c0b4cd44"
      },
      "outputs": [
        {
          "name": "stdout",
          "output_type": "stream",
          "text": [
            "    Amount  Deal Score  Days to close  Prediction  Success_Probability\n",
            "0   1250.0        33.0           69.0         1.0         1.000000e+00\n",
            "1      0.0        13.0          149.0         1.0         1.000000e+00\n",
            "2      0.0        13.0          149.0         1.0         1.000000e+00\n",
            "3      0.0        13.0          149.0         1.0         1.000000e+00\n",
            "4  50000.0        37.0          120.0         0.0        5.652386e-282\n"
          ]
        },
        {
          "name": "stderr",
          "output_type": "stream",
          "text": [
            "C:\\Users\\zhaos\\AppData\\Local\\Packages\\PythonSoftwareFoundation.Python.3.12_qbz5n2kfra8p0\\LocalCache\\local-packages\\Python312\\site-packages\\sklearn\\base.py:486: UserWarning: X has feature names, but LogisticRegression was fitted without feature names\n",
            "  warnings.warn(\n",
            "C:\\Users\\zhaos\\AppData\\Local\\Packages\\PythonSoftwareFoundation.Python.3.12_qbz5n2kfra8p0\\LocalCache\\local-packages\\Python312\\site-packages\\sklearn\\base.py:486: UserWarning: X has feature names, but LogisticRegression was fitted without feature names\n",
            "  warnings.warn(\n"
          ]
        }
      ],
      "source": [
        "# Predict whether the deal will be successful\n",
        "my_data['Prediction'] = results_log[0].predict(my_data[['Amount', 'Deal Score', 'Days to close']])\n",
        "\n",
        "# Predict probabilities for the success of the deal\n",
        "my_data['Success_Probability'] = results_log[0].predict_proba(my_data[['Amount', 'Deal Score', 'Days to close']])[:, 1]\n",
        "\n",
        "# Display the first few rows of the results\n",
        "print(my_data[['Amount', 'Deal Score', 'Days to close', 'Prediction', 'Success_Probability']].head())"
      ]
    },
    {
      "cell_type": "code",
      "execution_count": null,
      "id": "93ba0a56",
      "metadata": {
        "id": "93ba0a56",
        "outputId": "009c16aa-d46e-4030-bee2-d4630a2db24a"
      },
      "outputs": [
        {
          "name": "stdout",
          "output_type": "stream",
          "text": [
            "\n",
            "--- Random Forest ---\n",
            "Accuracy: 0.9019607843137255\n",
            "              precision    recall  f1-score   support\n",
            "\n",
            "         0.0       0.85      0.79      0.82        29\n",
            "         1.0       0.92      0.95      0.93        73\n",
            "\n",
            "    accuracy                           0.90       102\n",
            "   macro avg       0.89      0.87      0.88       102\n",
            "weighted avg       0.90      0.90      0.90       102\n",
            "\n",
            "Confusion Matrix:\n",
            " [[23  6]\n",
            " [ 4 69]]\n"
          ]
        }
      ],
      "source": [
        "from sklearn.ensemble import RandomForestClassifier\n",
        "from xgboost import XGBClassifier\n",
        "from sklearn.metrics import accuracy_score, classification_report, confusion_matrix\n",
        "from sklearn.model_selection import train_test_split\n",
        "from sklearn.preprocessing import StandardScaler\n",
        "\n",
        "# 特征和标签\n",
        "features = ['Amount', 'Deal Score', 'Days to close']\n",
        "\n",
        "# 清理数据\n",
        "data = my_data[features + ['Is Closed (numeric)']].dropna()\n",
        "X = data[features]\n",
        "y = data['Is Closed (numeric)']\n",
        "\n",
        "# 标准化\n",
        "scaler = StandardScaler()\n",
        "X_scaled = scaler.fit_transform(X)\n",
        "\n",
        "# 拆分训练测试集\n",
        "X_train, X_test, y_train, y_test = train_test_split(X_scaled, y, test_size=0.2, stratify=y, random_state=42)\n",
        "\n",
        "# --- Random Forest ---\n",
        "results_rf = RandomForestClassifier(n_estimators=50, max_depth=3, min_samples_leaf=5,random_state=42)\n",
        "results_rf.fit(X_train, y_train)\n",
        "y_pred_rf = results_rf.predict(X_test)\n",
        "\n",
        "print(\"\\n--- Random Forest ---\")\n",
        "print(\"Accuracy:\", accuracy_score(y_test, y_pred_rf))\n",
        "print(classification_report(y_test, y_pred_rf))\n",
        "print(\"Confusion Matrix:\\n\", confusion_matrix(y_test, y_pred_rf))\n"
      ]
    },
    {
      "cell_type": "code",
      "execution_count": null,
      "id": "ed829b37",
      "metadata": {
        "id": "ed829b37",
        "outputId": "00d8dd20-050a-4d61-82d3-f6ef22933f45"
      },
      "outputs": [
        {
          "name": "stdout",
          "output_type": "stream",
          "text": [
            "    Amount  Deal Score  Days to close  Prediction  Success_Probability\n",
            "0   1250.0        33.0           69.0         1.0             0.567443\n",
            "1      0.0        13.0          149.0         1.0             0.632337\n",
            "2      0.0        13.0          149.0         1.0             0.632337\n",
            "3      0.0        13.0          149.0         1.0             0.632337\n",
            "4  50000.0        37.0          120.0         1.0             0.567443\n"
          ]
        },
        {
          "name": "stderr",
          "output_type": "stream",
          "text": [
            "C:\\Users\\zhaos\\AppData\\Local\\Packages\\PythonSoftwareFoundation.Python.3.12_qbz5n2kfra8p0\\LocalCache\\local-packages\\Python312\\site-packages\\sklearn\\base.py:486: UserWarning: X has feature names, but RandomForestClassifier was fitted without feature names\n",
            "  warnings.warn(\n",
            "C:\\Users\\zhaos\\AppData\\Local\\Packages\\PythonSoftwareFoundation.Python.3.12_qbz5n2kfra8p0\\LocalCache\\local-packages\\Python312\\site-packages\\sklearn\\base.py:486: UserWarning: X has feature names, but RandomForestClassifier was fitted without feature names\n",
            "  warnings.warn(\n"
          ]
        }
      ],
      "source": [
        "# Predict whether the deal will be successful\n",
        "predictions = results_rf.predict(my_data[features])\n",
        "\n",
        "# Predict probabilities for the success of the deal\n",
        "success_probabilities = results_rf.predict_proba(my_data[features])[:, 1]  # Probability of the positive class (success)\n",
        "\n",
        "# Add the predictions and probabilities to the original data for better analysis\n",
        "my_data['Prediction'] = predictions\n",
        "my_data['Success_Probability'] = success_probabilities\n",
        "\n",
        "# Display the first few rows of the results\n",
        "print(my_data[['Amount', 'Deal Score', 'Days to close', 'Prediction', 'Success_Probability']].head())"
      ]
    },
    {
      "cell_type": "code",
      "execution_count": null,
      "id": "82245601",
      "metadata": {
        "id": "82245601",
        "outputId": "3ed98114-10cd-4496-c8a6-2826a5f06b00"
      },
      "outputs": [
        {
          "name": "stdout",
          "output_type": "stream",
          "text": [
            "--- XGBoost (5-fold CV) ---\n",
            "Accuracy: 0.89\n",
            "\n",
            "              precision    recall  f1-score   support\n",
            "\n",
            "           0       0.93      0.91      0.92       362\n",
            "           1       0.78      0.84      0.81       146\n",
            "\n",
            "    accuracy                           0.89       508\n",
            "   macro avg       0.86      0.87      0.86       508\n",
            "weighted avg       0.89      0.89      0.89       508\n",
            "\n",
            "Confusion Matrix:\n",
            "[[328  34]\n",
            " [ 24 122]]\n",
            "\n"
          ]
        }
      ],
      "source": [
        "import numpy as np\n",
        "import pandas as pd\n",
        "from sklearn.model_selection import cross_val_predict, StratifiedKFold\n",
        "from sklearn.pipeline import Pipeline\n",
        "from sklearn.impute import SimpleImputer\n",
        "from sklearn.preprocessing import StandardScaler\n",
        "from sklearn.metrics import classification_report, confusion_matrix\n",
        "from xgboost import XGBClassifier\n",
        "\n",
        "# Helper function to print the classification report and confusion matrix\n",
        "def print_cv_classification_output(model_name, y_true, y_pred):\n",
        "    accuracy = np.mean(y_pred == y_true)\n",
        "    print(f\"--- {model_name} ---\")\n",
        "    print(f\"Accuracy: {accuracy:.2f}\\n\")\n",
        "    print(classification_report(y_true, y_pred, digits=2))\n",
        "    cm = confusion_matrix(y_true, y_pred)\n",
        "    print(\"Confusion Matrix:\")\n",
        "    print(cm)\n",
        "    print()\n",
        "\n",
        "# Define feature list\n",
        "features = ['Amount', 'Deal Score', 'Days to close']\n",
        "\n",
        "# Optionally include 'cluster' if it exists in the my_data DataFrame\n",
        "if 'cluster' in my_data.columns:\n",
        "    features.append('cluster')\n",
        "\n",
        "# Extract features and target from my_data, and remove rows where the target is missing.\n",
        "X = my_data[features]\n",
        "y = my_data['Is Open (numeric)']\n",
        "\n",
        "# Keep only rows where y is not missing, and cast y to integer.\n",
        "valid_rows = y.notna()\n",
        "X = X[valid_rows]\n",
        "y = y[valid_rows].astype(int)\n",
        "\n",
        "# Define the XGBoost pipeline\n",
        "pipeline_xgb = Pipeline(steps=[\n",
        "    ('imputer', SimpleImputer(strategy='mean')),\n",
        "    ('scaler', StandardScaler()),\n",
        "    ('classifier', XGBClassifier(\n",
        "        n_estimators=20,       # Fewer trees for faster training\n",
        "        max_depth=3,           # Shallower trees to reduce overfitting\n",
        "        learning_rate=0.1,\n",
        "        eval_metric='logloss',\n",
        "        objective='binary:logistic',  # Binary classification objective\n",
        "        random_state=42,\n",
        "        verbosity=0            # Suppress messages\n",
        "    ))\n",
        "])\n",
        "\n",
        "# Set up 5-fold stratified cross-validation\n",
        "cv = StratifiedKFold(n_splits=5, shuffle=True, random_state=42)\n",
        "\n",
        "# Generate out-of-fold predictions using cross_val_predict\n",
        "results_xgb = cross_val_predict(pipeline_xgb, X, y, cv=cv)\n",
        "\n",
        "# Print the combined cross-validated classification report and confusion matrix for XGBoost\n",
        "print_cv_classification_output(\"XGBoost (5-fold CV)\", y, results_xgb)"
      ]
    },
    {
      "cell_type": "code",
      "execution_count": null,
      "id": "bd4d0232",
      "metadata": {
        "id": "bd4d0232",
        "outputId": "d79592dd-99cd-4695-eb22-0e33631df5a5"
      },
      "outputs": [
        {
          "name": "stdout",
          "output_type": "stream",
          "text": [
            "    Amount  Deal Score  Days to close  Prediction  Success_Probability\n",
            "0   1250.0        33.0           69.0           1             0.522089\n",
            "1      0.0        13.0          149.0           1             0.876969\n",
            "2      0.0        13.0          149.0           1             0.876969\n",
            "3      0.0        13.0          149.0           1             0.876969\n",
            "4  50000.0        37.0          120.0           0             0.074557\n"
          ]
        }
      ],
      "source": [
        "# Fit the pipeline before making predictions\n",
        "pipeline_xgb.fit(X, y)\n",
        "\n",
        "# Predict whether the deal will be successful using the trained pipeline\n",
        "predictions = pipeline_xgb.predict(my_data[features])\n",
        "\n",
        "# Predict probabilities for the success of the deal\n",
        "success_probabilities = pipeline_xgb.predict_proba(my_data[features])[:, 1]  # Probability of the positive class (success)\n",
        "\n",
        "# Add the predictions and probabilities to the original data for better analysis\n",
        "my_data['Prediction'] = predictions\n",
        "my_data['Success_Probability'] = success_probabilities\n",
        "\n",
        "# Display the first few rows of the results\n",
        "print(my_data[['Amount', 'Deal Score', 'Days to close', 'Prediction', 'Success_Probability']].head())"
      ]
    },
    {
      "cell_type": "code",
      "execution_count": null,
      "id": "d2bcc35c",
      "metadata": {
        "id": "d2bcc35c"
      },
      "outputs": [],
      "source": []
    }
  ],
  "metadata": {
    "kernelspec": {
      "display_name": "Python 3",
      "language": "python",
      "name": "python3"
    },
    "language_info": {
      "codemirror_mode": {
        "name": "ipython",
        "version": 3
      },
      "file_extension": ".py",
      "mimetype": "text/x-python",
      "name": "python",
      "nbconvert_exporter": "python",
      "pygments_lexer": "ipython3",
      "version": "3.12.10"
    },
    "colab": {
      "provenance": [],
      "include_colab_link": true
    }
  },
  "nbformat": 4,
  "nbformat_minor": 5
}