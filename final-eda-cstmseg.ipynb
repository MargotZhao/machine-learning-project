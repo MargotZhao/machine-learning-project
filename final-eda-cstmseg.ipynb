{
 "cells": [
  {
   "cell_type": "markdown",
   "id": "bcec51de",
   "metadata": {},
   "source": [
    "# Add calculated columns to three datasets"
   ]
  },
  {
   "cell_type": "code",
   "execution_count": 18,
   "id": "f5b7c6d0",
   "metadata": {},
   "outputs": [
    {
     "name": "stdout",
     "output_type": "stream",
     "text": [
      "C:\\Graduate courses\\s2\\Machine Learning\\Final Report\n"
     ]
    }
   ],
   "source": [
    "cd \"C:\\\\Graduate courses\\\\s2\\\\Machine Learning\\\\Final Report\""
   ]
  },
  {
   "cell_type": "code",
   "execution_count": 19,
   "id": "cc1e49c5",
   "metadata": {},
   "outputs": [
    {
     "name": "stderr",
     "output_type": "stream",
     "text": [
      "C:\\Users\\zhaos\\AppData\\Local\\Temp\\ipykernel_29096\\1600953339.py:7: DtypeWarning: Columns (24,25,28,32,45) have mixed types. Specify dtype option on import or set low_memory=False.\n",
      "  companies = pd.read_csv('anonymized_hubspot_companies.csv')\n"
     ]
    }
   ],
   "source": [
    "import pandas as pd\n",
    "import numpy as np\n",
    "import matplotlib.pyplot as plt\n",
    "import seaborn as sns\n",
    "tickets = pd.read_csv('anonymized_hubspot_tickets.csv')\n",
    "deals = pd.read_csv('anonymized_hubspot_deals.csv')\n",
    "companies = pd.read_csv('anonymized_hubspot_companies.csv')"
   ]
  },
  {
   "cell_type": "markdown",
   "id": "81ce9c36",
   "metadata": {},
   "source": [
    "companies additional columns"
   ]
  },
  {
   "cell_type": "code",
   "execution_count": 20,
   "id": "ab97b7bf",
   "metadata": {},
   "outputs": [],
   "source": [
    "# --- Company Size Category ---\n",
    "def size_category(num_employees):\n",
    "    if pd.isnull(num_employees):\n",
    "        return np.nan\n",
    "    elif num_employees < 10:\n",
    "        return \"Very Small\"\n",
    "    elif num_employees < 50:\n",
    "        return \"Small\"\n",
    "    elif num_employees < 250:\n",
    "        return \"Medium\"\n",
    "    elif num_employees < 1000:\n",
    "        return \"Large\"\n",
    "    else:\n",
    "        return \"Enterprise\"\n",
    "\n",
    "companies['Company_Size_Category'] = companies['Number of Employees'].apply(size_category)\n",
    "\n",
    "# --- Revenue Category ---\n",
    "def revenue_category(revenue):\n",
    "    if pd.isnull(revenue):\n",
    "        return np.nan\n",
    "    elif revenue < 1_000_000:\n",
    "        return \"<$1M\"\n",
    "    elif revenue < 10_000_000:\n",
    "        return \"$1M-$10M\"\n",
    "    elif revenue < 50_000_000:\n",
    "        return \"$10M-$50M\"\n",
    "    elif revenue < 100_000_000:\n",
    "        return \"$50M-$100M\"\n",
    "    elif revenue < 500_000_000:\n",
    "        return \"$100M-$500M\"\n",
    "    else:\n",
    "        return \">$500M\"\n",
    "\n",
    "companies['Revenue_Category'] = companies['Annual Revenue'].apply(revenue_category)\n",
    "\n",
    "# --- Industry Standardized ---\n",
    "companies['Industry_Standardized'] = companies['Industry'].str.title()\n",
    "\n",
    "# --- Region ---\n",
    "companies['Region'] = companies['Country/Region'].str.strip()\n",
    "\n",
    "# --- Uses_[Technology] flags ---\n",
    "technology_keywords = ['Google Tag Manager', 'Salesforce', 'Microsoft Office 365']\n",
    "for tech in technology_keywords:\n",
    "    col_name = f'Uses_{tech.replace(\" \", \"_\")}'\n",
    "    companies[col_name] = companies['Web Technologies'].fillna('').apply(lambda x: int(tech.lower() in x.lower()))\n",
    "\n",
    "# --- Technology Count ---\n",
    "companies['Technology_Count'] = companies['Web Technologies'].fillna('').apply(lambda x: len([t for t in x.split(';') if t.strip()]))\n",
    "\n",
    "# --- Is_BPO flag ---\n",
    "companies['Is_BPO'] = companies['BPO'].str.lower().map({'yes': 1, 'no': 0})\n",
    "\n",
    "# --- Date-based Fields ---\n",
    "companies['Create Date'] = pd.to_datetime(companies['Create Date'], errors='coerce')\n",
    "companies['Create_Year'] = companies['Create Date'].dt.year\n",
    "companies['Create_Month'] = companies['Create Date'].dt.month\n",
    "companies['Create_Quarter'] = companies['Create Date'].dt.quarter\n",
    "companies['Create_YearMonth'] = companies['Create Date'].dt.to_period('M').astype(str)\n"
   ]
  },
  {
   "cell_type": "markdown",
   "id": "01059e36",
   "metadata": {},
   "source": [
    "tickets additional columns"
   ]
  },
  {
   "cell_type": "code",
   "execution_count": 21,
   "id": "f5e44291",
   "metadata": {},
   "outputs": [],
   "source": [
    "# Clean up column names just in case\n",
    "tickets.columns = tickets.columns.str.strip()\n",
    "\n",
    "# --- Convert date columns (only those that exist) ---\n",
    "date_cols = [\n",
    "    'Create date', 'Close date', '1st Syms presented for review',\n",
    "    '1st syms run in production',  # This column may still not exist; remove if needed\n",
    "]\n",
    "for col in date_cols:\n",
    "    if col in tickets.columns:\n",
    "        tickets[col] = pd.to_datetime(tickets[col], errors='coerce')\n",
    "\n",
    "# --- Implementation Duration in Days ---\n",
    "tickets['Implementation_Duration_Days'] = (\n",
    "    tickets['Close date'] - tickets['Create date']\n",
    ").dt.days\n",
    "\n",
    "# --- Days to First Sym ---\n",
    "tickets['Days_To_First_Sym'] = (\n",
    "    tickets['1st Syms presented for review'] - tickets['Create date']\n",
    ").dt.days\n",
    "\n",
    "# --- Time to Close in Hours ---\n",
    "def convert_to_hours(x):\n",
    "    try:\n",
    "        h, m, s = map(int, str(x).split(':'))\n",
    "        return h + m/60 + s/3600\n",
    "    except:\n",
    "        return np.nan\n",
    "\n",
    "tickets['Time_To_Close_Hours'] = tickets['Time to close (HH:mm:ss)'].apply(convert_to_hours)\n",
    "\n",
    "# --- Implementation Status (simplified) ---\n",
    "status_map = {\n",
    "    'New': 'Not Started',\n",
    "    'In Progress': 'Ongoing',\n",
    "    'Waiting on contact': 'Ongoing',\n",
    "    'Waiting on us': 'Ongoing',\n",
    "    'Closed': 'Completed'\n",
    "}\n",
    "tickets['Implementation_Status'] = tickets['Ticket status'].map(status_map)\n",
    "\n",
    "# --- Training Completion Count & Percentage ---\n",
    "training_cols = [\n",
    "    'Training: Sym Building 101',\n",
    "    'Training: Sym Building 201',\n",
    "    'Training: General Overview',\n",
    "    'Training: Reporting',\n",
    "    'Training: Deployment/User Management Training'\n",
    "]\n",
    "tickets['Training_Completion_Count'] = tickets[training_cols].notna().sum(axis=1)\n",
    "tickets['Training_Completion_Pct'] = (tickets['Training_Completion_Count'] / len(training_cols)) * 100\n",
    "\n",
    "# --- Create Year, Month, YearMonth ---\n",
    "tickets['Create_Year'] = tickets['Create date'].dt.year\n",
    "tickets['Create_Month'] = tickets['Create date'].dt.month\n",
    "tickets['Create_YearMonth'] = tickets['Create date'].dt.to_period('M').astype(str)\n"
   ]
  },
  {
   "cell_type": "markdown",
   "id": "5759f4a1",
   "metadata": {},
   "source": [
    "deals additional columns"
   ]
  },
  {
   "cell_type": "code",
   "execution_count": 22,
   "id": "b765f488",
   "metadata": {},
   "outputs": [],
   "source": [
    "# Strip column names just in case\n",
    "deals.columns = deals.columns.str.strip()\n",
    "\n",
    "# --- Parse date columns ---\n",
    "deals['Create Date'] = pd.to_datetime(deals['Create Date'], errors='coerce')\n",
    "deals['Close Date'] = pd.to_datetime(deals['Close Date'], errors='coerce')\n",
    "\n",
    "# --- Create Year/Month/Quarter ---\n",
    "deals['Create_Year'] = deals['Create Date'].dt.year\n",
    "deals['Create_Month'] = deals['Create Date'].dt.month\n",
    "deals['Create_Quarter'] = deals['Create Date'].dt.quarter\n",
    "\n",
    "deals['Close_Year'] = deals['Close Date'].dt.year\n",
    "deals['Close_Month'] = deals['Close Date'].dt.month\n",
    "\n",
    "# --- YearMonth string for time-based grouping ---\n",
    "deals['YearMonth'] = deals['Create Date'].dt.to_period('M').astype(str)\n",
    "\n",
    "# --- Deal Size Category ---\n",
    "def deal_size_category(amount):\n",
    "    if pd.isnull(amount):\n",
    "        return None\n",
    "    elif amount < 10000:\n",
    "        return \"Small\"\n",
    "    elif amount < 50000:\n",
    "        return \"Medium\"\n",
    "    elif amount < 250000:\n",
    "        return \"Large\"\n",
    "    else:\n",
    "        return \"Enterprise\"\n",
    "\n",
    "deals['Deal_Size_Category'] = deals['Amount'].apply(deal_size_category)\n",
    "\n"
   ]
  },
  {
   "cell_type": "markdown",
   "id": "c5c7301b",
   "metadata": {},
   "source": [
    "# Merge deals and companies"
   ]
  },
  {
   "cell_type": "code",
   "execution_count": 23,
   "id": "866d1450",
   "metadata": {},
   "outputs": [],
   "source": [
    "import json\n",
    "\n",
    "# Load the mappings file\n",
    "with open('mappings.json', 'r') as f:\n",
    "    mappings = json.load(f)\n",
    "\n",
    "# Get the company-to-deal mappings\n",
    "company_to_deals = mappings[\"CompanyToDeals\"]\n",
    "\n",
    "# Reverse the mapping to create a deal-to-company dictionary\n",
    "# This will give a one-to-one mapping from deal ID to company ID\n",
    "deal_to_company = {}\n",
    "\n",
    "for company_id, deal_list in company_to_deals.items():\n",
    "    for deal_id in deal_list:\n",
    "        deal_to_company[deal_id] = company_id\n",
    "\n",
    "# Assuming your deals dataset is already loaded and has a unique ID column\n",
    "# Convert the deal ID column to string type for mapping\n",
    "deals['Deal ID'] = deals['Record ID'].astype(str)\n",
    "\n",
    "# Create a company ID column in the deals dataset using the deal_to_company dictionary\n",
    "deals['Deal_Company_ID'] = deals['Deal ID'].map(deal_to_company)\n",
    "\n",
    "# Convert company Record ID to string for merging\n",
    "companies['Company ID'] = companies['Record ID'].astype(str)\n",
    "\n",
    "# Merge the deals dataframe with the companies dataframe\n",
    "# Using left join to keep all deals, even if there's no matching company\n",
    "merged_deals_companies = pd.merge(\n",
    "    left=deals, \n",
    "    right=companies, \n",
    "    left_on='Deal_Company_ID', \n",
    "    right_on='Company ID', \n",
    "    how='left'\n",
    ")\n",
    "\n",
    "# Now you have a merged dataset with deal information and corresponding company information"
   ]
  },
  {
   "cell_type": "code",
   "execution_count": 24,
   "id": "a09d5633",
   "metadata": {},
   "outputs": [],
   "source": [
    "import json\n",
    "\n",
    "# Load the mappings file\n",
    "with open('mappings.json', 'r') as f:\n",
    "    mappings = json.load(f)\n",
    "\n",
    "# Get the company-to-deal mappings\n",
    "company_to_deals = mappings[\"CompanyToDeals\"]\n",
    "\n",
    "# Reverse the mapping to create a deal-to-company dictionary\n",
    "deal_to_company = {}\n",
    "for company_id, deal_list in company_to_deals.items():\n",
    "    for deal_id in deal_list:\n",
    "        deal_to_company[deal_id] = company_id\n",
    "\n",
    "# Convert the deal ID column to string type for mapping\n",
    "deals['Deal ID'] = deals['Record ID'].astype(str)\n",
    "deals['Deal_Company_ID'] = deals['Deal ID'].map(deal_to_company)\n",
    "\n",
    "# Convert company Record ID to string for merging\n",
    "companies['Company ID'] = companies['Record ID'].astype(str)\n",
    "\n",
    "# 1. Find columns with the same name in both dataframes (excluding join keys)\n",
    "deal_cols = set(deals.columns)\n",
    "company_cols = set(companies.columns)\n",
    "join_keys = {'Record ID', 'Deal ID', 'Deal_Company_ID', 'Company ID'}\n",
    "\n",
    "overlap = (deal_cols & company_cols) - join_keys\n",
    "\n",
    "# 2. Rename columns\n",
    "deals_renamed = deals.rename(\n",
    "    columns={col: f'Deal_{col}' for col in overlap}\n",
    ")\n",
    "companies_renamed = companies.rename(\n",
    "    columns={col: f'Company_{col}' for col in overlap}\n",
    ")\n",
    "\n",
    "# Make sure to also rename the join keys back after merge, if needed\n",
    "merged_deals_companies = pd.merge(\n",
    "    left=deals_renamed,\n",
    "    right=companies_renamed,\n",
    "    left_on='Deal_Company_ID',\n",
    "    right_on='Company ID',\n",
    "    how='left'\n",
    ")\n",
    "\n"
   ]
  },
  {
   "cell_type": "code",
   "execution_count": 25,
   "id": "dad5187a",
   "metadata": {},
   "outputs": [
    {
     "name": "stdout",
     "output_type": "stream",
     "text": [
      "C:\\Graduate courses\\s2\\Machine Learning\\Final Report\\output\n"
     ]
    }
   ],
   "source": [
    "cd \"C:\\Graduate courses\\s2\\Machine Learning\\Final Report\\output\""
   ]
  },
  {
   "cell_type": "code",
   "execution_count": 44,
   "id": "72d6ce63",
   "metadata": {},
   "outputs": [],
   "source": [
    "merged_deals_companies.to_csv('merged_deals_companies.csv', index=False)"
   ]
  },
  {
   "cell_type": "markdown",
   "id": "6b8b2282",
   "metadata": {},
   "source": [
    "# Data Cleaning"
   ]
  },
  {
   "cell_type": "markdown",
   "id": "0a2b2825",
   "metadata": {},
   "source": [
    "Drop columns with >90% missing"
   ]
  },
  {
   "cell_type": "code",
   "execution_count": 26,
   "id": "d499b126",
   "metadata": {},
   "outputs": [],
   "source": [
    "def drop_high_na_columns(df, threshold=0.90):\n",
    "    return df.loc[:, df.isnull().mean() <= threshold]\n",
    "\n",
    "merged_cleaned = drop_high_na_columns(merged_deals_companies)\n"
   ]
  },
  {
   "cell_type": "code",
   "execution_count": 27,
   "id": "bd473343",
   "metadata": {},
   "outputs": [
    {
     "name": "stdout",
     "output_type": "stream",
     "text": [
      "Index(['Weighted amount', 'Deal Description',\n",
      "       'Cumulative time in \"BANT Deal. Pain ID'ed (Sales Pipeline)\" (HH:mm:ss)',\n",
      "       'Days to close', 'Deal Score', 'Deal_Close Date',\n",
      "       'Deal source attribution 2', 'Contract Start Date', 'Pipeline',\n",
      "       'Record ID_x', 'Forecast category', 'Original Traffic Source',\n",
      "       'Deal_Associated Company', 'Deal owner', 'Is Closed (numeric)',\n",
      "       'Amount in company currency', 'Deal probability',\n",
      "       'Associated Company (Primary)', 'Is Closed Won',\n",
      "       'Deal_Contract End Date', 'Last Activity Date',\n",
      "       'Contract Term (Months)', 'Is closed lost',\n",
      "       'Weighted amount in company currency', 'Is Deal Closed?', 'Deal Name',\n",
      "       'Amount', 'Forecast amount',\n",
      "       'Cumulative time in \"Negotiation (Sales Pipeline)\" (HH:mm:ss)',\n",
      "       'Is Open (numeric)', 'Deal_Create Date',\n",
      "       'Cumulative time in \"Contract Sent (Sales Pipeline)\" (HH:mm:ss)',\n",
      "       'Deal_Last Modified Date', 'Deal Stage', 'Deal Type',\n",
      "       'Deal_Create_Year', 'Deal_Create_Month', 'Deal_Create_Quarter',\n",
      "       'Close_Year', 'Close_Month', 'YearMonth', 'Deal_Size_Category',\n",
      "       'Deal ID', 'Deal_Company_ID', 'CCaaS', 'Annual Revenue',\n",
      "       'Associated Contact', 'Number of Form Submissions', 'Web Technologies',\n",
      "       'Company_Close Date', '# of Agents Total', 'Number of times contacted',\n",
      "       'Contact with Primary Company', 'ICP Fit Level',\n",
      "       '# of Agents Contracted', 'Record ID_y', 'Time Zone',\n",
      "       'Primary Industry', 'Number of Pageviews', 'Year Founded', 'ICP',\n",
      "       'Segmentation', 'BPO', 'State/Region', 'Company_Contract End Date',\n",
      "       'Consolidated Industry', 'Type', 'Number of Employees',\n",
      "       'Primary Sub-Industry', 'Number of Sessions', 'WFM', 'Country/Region',\n",
      "       'Industry', 'Company_Create Date', 'Company name',\n",
      "       'Company_Last Modified Date', 'Company_Size_Category',\n",
      "       'Revenue_Category', 'Industry_Standardized', 'Region',\n",
      "       'Uses_Google_Tag_Manager', 'Uses_Salesforce',\n",
      "       'Uses_Microsoft_Office_365', 'Technology_Count', 'Company_Create_Year',\n",
      "       'Company_Create_Month', 'Company_Create_Quarter', 'Create_YearMonth',\n",
      "       'Company ID'],\n",
      "      dtype='object')\n"
     ]
    }
   ],
   "source": [
    "print(merged_cleaned.columns)"
   ]
  },
  {
   "cell_type": "markdown",
   "id": "70731915",
   "metadata": {},
   "source": [
    "Keep relevant columns"
   ]
  },
  {
   "cell_type": "code",
   "execution_count": 28,
   "id": "5b351b3d",
   "metadata": {},
   "outputs": [
    {
     "name": "stderr",
     "output_type": "stream",
     "text": [
      "C:\\Users\\zhaos\\AppData\\Local\\Temp\\ipykernel_29096\\2311890910.py:27: SettingWithCopyWarning: \n",
      "A value is trying to be set on a copy of a slice from a DataFrame\n",
      "\n",
      "See the caveats in the documentation: https://pandas.pydata.org/pandas-docs/stable/user_guide/indexing.html#returning-a-view-versus-a-copy\n",
      "  merged_cleaned.drop(columns=columns_to_remove, inplace=True, errors='ignore')\n"
     ]
    }
   ],
   "source": [
    "columns_to_remove = [\n",
    "    'Pipeline',\n",
    "    'Forecast category',\n",
    "    'Forecast Amount',\n",
    "    'CCaaS',\n",
    "    'Number of Form Submissions',\n",
    "    'Web Technologies',\n",
    "    'Deal probability',\n",
    "    'Forecast amount',\n",
    "    'ICP Fit Level',\n",
    "    'ICP',\n",
    "    'BPO',\n",
    "    'WFM',\n",
    "    'Uses_Google_Tag_Manager',\n",
    "    'Associated Contact',\n",
    "    'Uses_Salesforce',\n",
    "    'Uses_Microsoft_Office_365',\n",
    "    'Segmentation',\n",
    "    'Number of Pageviews', \n",
    "    'Year Founded',\n",
    "    'Record ID_x',\n",
    "    'Record ID_y',\n",
    "    'Deal_Company_ID',\n",
    "    'Deal Description',\n",
    "    'Time Zone'\n",
    "]\n",
    "merged_cleaned.drop(columns=columns_to_remove, inplace=True, errors='ignore')"
   ]
  },
  {
   "cell_type": "markdown",
   "id": "ad298b48",
   "metadata": {},
   "source": [
    "# Customer Segmentation"
   ]
  },
  {
   "cell_type": "markdown",
   "id": "109688d2",
   "metadata": {},
   "source": [
    "Here are some features I want to use:\n",
    "- Number of times contacted\n",
    "- # of Agents Contracted\n",
    "- Industry_Standardized\n",
    "- Revenue_Category\n",
    "- Company_Size_Category\n",
    "- Region (US or not)\n",
    "- Technology_Count\n",
    "- Last Activity Date\n",
    "- Weighted amount in company currency (This is the expected value of the deal, adjusted for probability of closing. Because not all deals will close, companies use \"weighted amount\" to estimate realistic expected revenue.)\n",
    "- Deal Stage\n",
    "- Deal Type\n",
    "- Days to close\n",
    "- Deal source attribution 2 (Referral and others)\n",
    "- Is Closed (numeric) (only contains those already closed)\n",
    "- Is Closed Won\n",
    "- Is closed lost"
   ]
  },
  {
   "cell_type": "markdown",
   "id": "2eaffbb2",
   "metadata": {},
   "source": [
    "# Further Data Cleaning for Customer Segmentation"
   ]
  },
  {
   "cell_type": "markdown",
   "id": "d2a933f8",
   "metadata": {},
   "source": [
    "Make additional columns for Region (US or not) and Deal source attribution 2 (Referral and others), only keep those columns that I mentioned"
   ]
  },
  {
   "cell_type": "code",
   "execution_count": 29,
   "id": "31c9208f",
   "metadata": {},
   "outputs": [
    {
     "name": "stderr",
     "output_type": "stream",
     "text": [
      "C:\\Users\\zhaos\\AppData\\Local\\Temp\\ipykernel_29096\\924662386.py:1: SettingWithCopyWarning: \n",
      "A value is trying to be set on a copy of a slice from a DataFrame.\n",
      "Try using .loc[row_indexer,col_indexer] = value instead\n",
      "\n",
      "See the caveats in the documentation: https://pandas.pydata.org/pandas-docs/stable/user_guide/indexing.html#returning-a-view-versus-a-copy\n",
      "  merged_cleaned[\"Region_bin\"] = merged_cleaned[\"Region\"].str.contains(\"United States\", case=False, na=False).astype(int)\n",
      "C:\\Users\\zhaos\\AppData\\Local\\Temp\\ipykernel_29096\\924662386.py:3: SettingWithCopyWarning: \n",
      "A value is trying to be set on a copy of a slice from a DataFrame.\n",
      "Try using .loc[row_indexer,col_indexer] = value instead\n",
      "\n",
      "See the caveats in the documentation: https://pandas.pydata.org/pandas-docs/stable/user_guide/indexing.html#returning-a-view-versus-a-copy\n",
      "  merged_cleaned[\"Referral_flag\"] = merged_cleaned[\"Deal source attribution 2\"].str.contains(\"Referral\", case=False, na=False).astype(int)\n"
     ]
    }
   ],
   "source": [
    "merged_cleaned[\"Region_bin\"] = merged_cleaned[\"Region\"].str.contains(\"United States\", case=False, na=False).astype(int)\n",
    "\n",
    "merged_cleaned[\"Referral_flag\"] = merged_cleaned[\"Deal source attribution 2\"].str.contains(\"Referral\", case=False, na=False).astype(int)\n"
   ]
  },
  {
   "cell_type": "code",
   "execution_count": null,
   "id": "ab75a29f",
   "metadata": {},
   "outputs": [],
   "source": [
    "merged_cleaned.to_csv('merged_cleaned.csv', index=False)"
   ]
  },
  {
   "cell_type": "code",
   "execution_count": 30,
   "id": "8a1cfb00",
   "metadata": {},
   "outputs": [],
   "source": [
    "columns_to_keep = [\n",
    "    'Number of times contacted',\n",
    "    '# of Agents Contracted',\n",
    "    'Industry_Standardized',\n",
    "    'Revenue_Category',\n",
    "    'Company_Size_Category',\n",
    "    'Region_bin',\n",
    "    'Technology_Count',\n",
    "    'Weighted amount in company currency',\n",
    "    'Last Activity Date',\n",
    "    'Deal Stage',\n",
    "    'Deal Type',\n",
    "    'Days to close',\n",
    "    'Referral_flag',\n",
    "    'Is Closed (numeric)',\n",
    "    'Is Closed Won',\n",
    "    'Is closed lost'\n",
    "]\n",
    "\n",
    "merged_cleaned = merged_cleaned[columns_to_keep]"
   ]
  },
  {
   "cell_type": "code",
   "execution_count": 35,
   "id": "318ba74e",
   "metadata": {},
   "outputs": [],
   "source": [
    "merged_cleaned.to_csv('merged_cleaned_cs.csv', index=False)"
   ]
  },
  {
   "cell_type": "markdown",
   "id": "df5d1e82",
   "metadata": {},
   "source": [
    "1. RFM Segmentation (Recency, Frequency, Monetary)\n",
    "- Use:\n",
    "\n",
    "- Recency: Days to close (lower = more recent activity)\n",
    "\n",
    "- Frequency: Number of times contacted\n",
    "\n",
    "- Monetary: Weighted amount in company currency\n",
    "\n",
    "- You can cluster customers into:\n",
    "\n",
    "- High-value & engaged\n",
    "\n",
    "- Low-value but frequent\n",
    "\n",
    "- Dormant but once high-value\n"
   ]
  },
  {
   "cell_type": "code",
   "execution_count": 38,
   "id": "27049122",
   "metadata": {},
   "outputs": [
    {
     "name": "stderr",
     "output_type": "stream",
     "text": [
      "C:\\Users\\zhaos\\AppData\\Local\\Temp\\ipykernel_29096\\809915148.py:12: UserWarning: The argument 'infer_datetime_format' is deprecated and will be removed in a future version. A strict version of it is now the default, see https://pandas.pydata.org/pdeps/0004-consistent-to-datetime-parsing.html. You can safely remove this argument.\n",
      "  df[\"Last Activity Date\"] = pd.to_datetime(df[\"Last Activity Date\"], errors='coerce', infer_datetime_format=True)\n"
     ]
    },
    {
     "name": "stdout",
     "output_type": "stream",
     "text": [
      "                           Recency     Frequency      Monetary  Count\n",
      "Segment_Label                                                        \n",
      "Dormant but High-Value  569.116071    218.169643   6362.946429    112\n",
      "Frequent Low Spender    131.166667  15726.000000      0.000000      3\n",
      "High-Value Engaged      175.792887    340.956067  17450.949791    478\n"
     ]
    }
   ],
   "source": [
    "import pandas as pd\n",
    "import numpy as np\n",
    "from sklearn.preprocessing import StandardScaler\n",
    "from sklearn.cluster import KMeans\n",
    "import matplotlib.pyplot as plt\n",
    "\n",
    "# --- 1. Load dataset ---------------------------------------------------------\n",
    "df = pd.read_csv(\"merged_cleaned_cs.csv\")\n",
    "df.columns = df.columns.str.strip()  # remove any extra spaces\n",
    "\n",
    "# --- 2. Parse 'Last Activity Date' and compute Recency -----------------------\n",
    "df[\"Last Activity Date\"] = pd.to_datetime(df[\"Last Activity Date\"], errors='coerce', infer_datetime_format=True)\n",
    "today = pd.Timestamp.today()\n",
    "df[\"Recency\"] = (today - df[\"Last Activity Date\"]).dt.days\n",
    "\n",
    "# --- 3. Select and rename RFM columns ----------------------------------------\n",
    "rfm_df = df[[\"Recency\", \"Number of times contacted\", \"Weighted amount in company currency\"]].copy()\n",
    "rfm_df.columns = [\"Recency\", \"Frequency\", \"Monetary\"]\n",
    "\n",
    "# --- 4. Handle missing values ------------------------------------------------\n",
    "rfm_df.fillna(rfm_df.median(numeric_only=True), inplace=True)\n",
    "\n",
    "# --- 5. Normalize RFM values -------------------------------------------------\n",
    "scaler = StandardScaler()\n",
    "rfm_scaled = scaler.fit_transform(rfm_df)\n",
    "\n",
    "# --- 6. KMeans Clustering (elbow method shown earlier) -----------------------\n",
    "optimal_k = 4\n",
    "kmeans = KMeans(n_clusters=optimal_k, random_state=42)\n",
    "rfm_df[\"Segment\"] = kmeans.fit_predict(rfm_scaled)\n",
    "\n",
    "# --- 7. Reverse-transform cluster centers to interpret -----------------------\n",
    "cluster_centers = pd.DataFrame(\n",
    "    scaler.inverse_transform(kmeans.cluster_centers_),\n",
    "    columns=[\"Recency\", \"Frequency\", \"Monetary\"]\n",
    ")\n",
    "\n",
    "# --- 8. Auto-label each cluster ----------------------------------------------\n",
    "def label_segment(row):\n",
    "    if row[\"Recency\"] < rfm_df[\"Recency\"].median() and row[\"Monetary\"] > rfm_df[\"Monetary\"].median():\n",
    "        return \"High-Value Engaged\"\n",
    "    elif row[\"Recency\"] > rfm_df[\"Recency\"].median() and row[\"Monetary\"] > rfm_df[\"Monetary\"].median():\n",
    "        return \"Dormant but High-Value\"\n",
    "    elif row[\"Frequency\"] > rfm_df[\"Frequency\"].median():\n",
    "        return \"Frequent Low Spender\"\n",
    "    else:\n",
    "        return \"Low-Value Passive\"\n",
    "\n",
    "cluster_centers[\"Label\"] = cluster_centers.apply(label_segment, axis=1)\n",
    "\n",
    "# --- 9. Assign labels to each customer ---------------------------------------\n",
    "label_dict = dict(zip(range(optimal_k), cluster_centers[\"Label\"]))\n",
    "rfm_df[\"Segment_Label\"] = rfm_df[\"Segment\"].map(label_dict)\n",
    "\n",
    "# --- 10. Save segmented result (optional) ------------------------------------\n",
    "rfm_df.to_csv(\"rfm_segmented.csv\", index=False)\n",
    "\n",
    "# --- 11. View summarized segmentation -----------------------------------------\n",
    "segment_summary = rfm_df.groupby(\"Segment_Label\").agg({\n",
    "    \"Recency\": \"mean\",\n",
    "    \"Frequency\": \"mean\",\n",
    "    \"Monetary\": \"mean\",\n",
    "    \"Segment_Label\": \"count\"\n",
    "}).rename(columns={\"Segment_Label\": \"Count\"})\n",
    "\n",
    "print(segment_summary)\n"
   ]
  },
  {
   "cell_type": "markdown",
   "id": "3be5ca77",
   "metadata": {},
   "source": [
    "Performance"
   ]
  },
  {
   "cell_type": "code",
   "execution_count": 39,
   "id": "ecb1a98c",
   "metadata": {},
   "outputs": [
    {
     "name": "stdout",
     "output_type": "stream",
     "text": [
      "Clustering Performance Metrics:\n",
      "🔹 Silhouette Score:         0.593\n",
      "🔹 Calinski-Harabasz Index:  528.32\n",
      "🔹 Davies-Bouldin Index:     0.460\n"
     ]
    }
   ],
   "source": [
    "from sklearn.metrics import silhouette_score, calinski_harabasz_score, davies_bouldin_score\n",
    "\n",
    "# --- Use scaled data (rfm_scaled) and assigned cluster labels ----------------\n",
    "labels = rfm_df[\"Segment\"]\n",
    "\n",
    "# 1. Silhouette Score (higher is better, range: -1 to 1)\n",
    "silhouette = silhouette_score(rfm_scaled, labels)\n",
    "\n",
    "# 2. Calinski-Harabasz Index (higher is better)\n",
    "calinski = calinski_harabasz_score(rfm_scaled, labels)\n",
    "\n",
    "# 3. Davies-Bouldin Index (lower is better)\n",
    "davies = davies_bouldin_score(rfm_scaled, labels)\n",
    "\n",
    "# --- Print performance summary ------------------------------------------------\n",
    "print(\"Clustering Performance Metrics:\")\n",
    "print(f\"🔹 Silhouette Score:         {silhouette:.3f}\")\n",
    "print(f\"🔹 Calinski-Harabasz Index:  {calinski:.2f}\")\n",
    "print(f\"🔹 Davies-Bouldin Index:     {davies:.3f}\")\n"
   ]
  },
  {
   "cell_type": "code",
   "execution_count": 40,
   "id": "c3d30139",
   "metadata": {},
   "outputs": [
    {
     "data": {
      "image/png": "[encoded data removed]",
      "text/plain": [
       "<Figure size 800x600 with 1 Axes>"
      ]
     },
     "metadata": {},
     "output_type": "display_data"
    }
   ],
   "source": [
    "from sklearn.decomposition import PCA\n",
    "import seaborn as sns\n",
    "import matplotlib.pyplot as plt\n",
    "\n",
    "# --- 1. Perform PCA to reduce RFM features to 2 dimensions -------------------\n",
    "pca = PCA(n_components=2)\n",
    "rfm_pca = pca.fit_transform(rfm_scaled)\n",
    "\n",
    "# Add PCA components back to DataFrame for plotting\n",
    "rfm_df[\"PCA1\"] = rfm_pca[:, 0]\n",
    "rfm_df[\"PCA2\"] = rfm_pca[:, 1]\n",
    "\n",
    "# --- 2. Plot clusters with Seaborn scatter plot ------------------------------\n",
    "plt.figure(figsize=(8, 6))\n",
    "sns.scatterplot(\n",
    "    data=rfm_df,\n",
    "    x=\"PCA1\",\n",
    "    y=\"PCA2\",\n",
    "    hue=\"Segment_Label\",\n",
    "    palette=\"Set2\",\n",
    "    s=80,\n",
    "    edgecolor=\"black\"\n",
    ")\n",
    "plt.title(\"Customer Segmentation (RFM + KMeans Clustering)\", fontsize=14)\n",
    "plt.xlabel(\"PCA Component 1\")\n",
    "plt.ylabel(\"PCA Component 2\")\n",
    "plt.legend(title=\"Segment Label\", bbox_to_anchor=(1.05, 1), loc='upper left')\n",
    "plt.grid(True)\n",
    "plt.tight_layout()\n",
    "plt.show()\n"
   ]
  },
  {
   "cell_type": "markdown",
   "id": "8ac30077",
   "metadata": {},
   "source": [
    "📊 What the PCA Plot Shows:\n",
    "Each dot = one customer\n",
    "Each color = a segment label (cluster)\n",
    "Position = compressed summary of RFM values (Recency, Frequency, Monetary)\n",
    "The axes (PCA1, PCA2) don’t represent physical quantities — they summarize variation in all three RFM dimensions.\n",
    "\n",
    "🔍 Segment Interpretation:\n",
    "🟢 High-Value Engaged\n",
    "Densely clustered in the middle-left\n",
    "\n",
    "These customers:\n",
    "\n",
    "Have low Recency (recently active)\n",
    "\n",
    "Have high Monetary (spend a lot)\n",
    "\n",
    "Have moderate-to-high Frequency\n",
    "\n",
    "📌 Action: Prioritize them — they're your most valuable customers!\n",
    "\n",
    "🟠 Frequent Low Spender\n",
    "Few points in the top-left corner\n",
    "\n",
    "These customers:\n",
    "\n",
    "Contact a lot (high Frequency)\n",
    "\n",
    "Spend almost nothing (low Monetary)\n",
    "\n",
    "Recency may vary\n",
    "\n",
    "📌 Action: Consider upselling/cross-selling to improve their value\n",
    "\n",
    "🔵 Dormant but High-Value\n",
    "Located toward the right\n",
    "\n",
    "These customers:\n",
    "\n",
    "Haven’t interacted recently (high Recency)\n",
    "\n",
    "Used to spend well (high Monetary)\n",
    "\n",
    "May have average or low contact frequency\n",
    "\n",
    "📌 Action: Re-engage via targeted campaigns or loyalty incentives\n",
    "\n",
    "🧠 How to Use This:\n",
    "Tailor marketing strategies per segment\n",
    "\n",
    "Personalize email campaigns\n",
    "\n",
    "Prioritize sales efforts\n",
    "\n",
    "Track how clusters shift over time (e.g., dormant → engaged)"
   ]
  },
  {
   "cell_type": "markdown",
   "id": "4cced340",
   "metadata": {},
   "source": [
    "2. Behavioral Segmentation\n",
    "- Based on:\n",
    "\n",
    "- # of Agents Contracted\n",
    "\n",
    "- Technology_Count\n",
    "\n",
    "- Referral_flag\n",
    "\n",
    "- Is Closed Won vs. Is closed lost\n",
    "\n",
    "- Use clustering (e.g. KMeans or Hierarchical) to discover behavior-based groups like:\n",
    "\n",
    "- Tech-savvy frequent referrers\n",
    "\n",
    "- High-contact but low-conversion prospects\n",
    "\n",
    "- Referral-only passive deals"
   ]
  },
  {
   "cell_type": "code",
   "execution_count": 42,
   "id": "f0f15a18",
   "metadata": {},
   "outputs": [
    {
     "data": {
      "image/png": "[encoded data removed]",
      "text/plain": [
       "<Figure size 600x400 with 1 Axes>"
      ]
     },
     "metadata": {},
     "output_type": "display_data"
    }
   ],
   "source": [
    "# --- 1. Select behavioral segmentation features ------------------------------\n",
    "behavior_df = df[[\n",
    "    \"# of Agents Contracted\",\n",
    "    \"Technology_Count\",\n",
    "    \"Referral_flag\",\n",
    "    \"Is Closed Won\",\n",
    "    \"Is closed lost\"\n",
    "]].copy()\n",
    "\n",
    "# --- 2. Handle missing values ------------------------------------------------\n",
    "behavior_df.fillna(behavior_df.median(numeric_only=True), inplace=True)\n",
    "\n",
    "# --- 3. Normalize the features -----------------------------------------------\n",
    "scaler_behavior = StandardScaler()\n",
    "behavior_scaled = scaler_behavior.fit_transform(behavior_df)\n",
    "\n",
    "# --- 4. Use Elbow Method to determine optimal k ------------------------------\n",
    "sse_behavior = []\n",
    "for k in range(1, 10):\n",
    "    kmeans = KMeans(n_clusters=k, random_state=42)\n",
    "    kmeans.fit(behavior_scaled)\n",
    "    sse_behavior.append(kmeans.inertia_)\n",
    "\n",
    "# --- 5. Plot the Elbow curve -------------------------------------------------\n",
    "plt.figure(figsize=(6, 4))\n",
    "plt.plot(range(1, 10), sse_behavior, marker='o')\n",
    "plt.title(\"Elbow Method (Behavioral Segmentation)\")\n",
    "plt.xlabel(\"Number of Clusters (k)\")\n",
    "plt.ylabel(\"Sum of Squared Errors (SSE)\")\n",
    "plt.grid(True)\n",
    "plt.tight_layout()\n",
    "plt.show()\n"
   ]
  },
  {
   "cell_type": "code",
   "execution_count": 71,
   "id": "82ec13fc",
   "metadata": {},
   "outputs": [
    {
     "data": {
      "text/html": [
       "<div>\n",
       "<style scoped>\n",
       "    .dataframe tbody tr th:only-of-type {\n",
       "        vertical-align: middle;\n",
       "    }\n",
       "\n",
       "    .dataframe tbody tr th {\n",
       "        vertical-align: top;\n",
       "    }\n",
       "\n",
       "    .dataframe thead th {\n",
       "        text-align: right;\n",
       "    }\n",
       "</style>\n",
       "<table border=\"1\" class=\"dataframe\">\n",
       "  <thead>\n",
       "    <tr style=\"text-align: right;\">\n",
       "      <th></th>\n",
       "      <th>DBSCAN_Cluster</th>\n",
       "      <th>Count</th>\n",
       "    </tr>\n",
       "  </thead>\n",
       "  <tbody>\n",
       "    <tr>\n",
       "      <th>0</th>\n",
       "      <td>-1</td>\n",
       "      <td>24</td>\n",
       "    </tr>\n",
       "    <tr>\n",
       "      <th>1</th>\n",
       "      <td>0</td>\n",
       "      <td>47</td>\n",
       "    </tr>\n",
       "    <tr>\n",
       "      <th>2</th>\n",
       "      <td>1</td>\n",
       "      <td>99</td>\n",
       "    </tr>\n",
       "    <tr>\n",
       "      <th>3</th>\n",
       "      <td>2</td>\n",
       "      <td>65</td>\n",
       "    </tr>\n",
       "    <tr>\n",
       "      <th>4</th>\n",
       "      <td>3</td>\n",
       "      <td>80</td>\n",
       "    </tr>\n",
       "    <tr>\n",
       "      <th>5</th>\n",
       "      <td>4</td>\n",
       "      <td>44</td>\n",
       "    </tr>\n",
       "    <tr>\n",
       "      <th>6</th>\n",
       "      <td>5</td>\n",
       "      <td>19</td>\n",
       "    </tr>\n",
       "    <tr>\n",
       "      <th>7</th>\n",
       "      <td>6</td>\n",
       "      <td>8</td>\n",
       "    </tr>\n",
       "    <tr>\n",
       "      <th>8</th>\n",
       "      <td>7</td>\n",
       "      <td>32</td>\n",
       "    </tr>\n",
       "    <tr>\n",
       "      <th>9</th>\n",
       "      <td>8</td>\n",
       "      <td>6</td>\n",
       "    </tr>\n",
       "  </tbody>\n",
       "</table>\n",
       "</div>"
      ],
      "text/plain": [
       "   DBSCAN_Cluster  Count\n",
       "0              -1     24\n",
       "1               0     47\n",
       "2               1     99\n",
       "3               2     65\n",
       "4               3     80\n",
       "5               4     44\n",
       "6               5     19\n",
       "7               6      8\n",
       "8               7     32\n",
       "9               8      6"
      ]
     },
     "metadata": {},
     "output_type": "display_data"
    },
    {
     "data": {
      "image/png": "[encoded data removed]",
      "text/plain": [
       "<Figure size 800x600 with 1 Axes>"
      ]
     },
     "metadata": {},
     "output_type": "display_data"
    }
   ],
   "source": [
    "from sklearn.cluster import DBSCAN\n",
    "from sklearn.preprocessing import LabelEncoder, StandardScaler\n",
    "from sklearn.decomposition import PCA\n",
    "import matplotlib.pyplot as plt\n",
    "import seaborn as sns\n",
    "import pandas as pd\n",
    "from IPython.display import display\n",
    "\n",
    "# --- 1. Filter rows where deal is closed -------------------------------------\n",
    "closed_df = df[df[\"Is Closed (numeric)\"] == 1].copy()\n",
    "\n",
    "# --- 2. Select relevant features ---------------------------------------------\n",
    "dbscan_features = [\n",
    "    \"Revenue_Category\",\n",
    "    \"Weighted amount in company currency\",\n",
    "    \"Number of times contacted\",\n",
    "    \"# of Agents Contracted\"\n",
    "]\n",
    "\n",
    "dbscan_df = closed_df[dbscan_features].copy()\n",
    "\n",
    "# --- 3. Encode 'Revenue_Category' if needed ----------------------------------\n",
    "if dbscan_df[\"Revenue_Category\"].dtype == 'object':\n",
    "    le = LabelEncoder()\n",
    "    dbscan_df[\"Revenue_Category\"] = le.fit_transform(dbscan_df[\"Revenue_Category\"].astype(str))\n",
    "\n",
    "# --- 4. Fill missing values --------------------------------------------------\n",
    "dbscan_df.fillna(dbscan_df.median(numeric_only=True), inplace=True)\n",
    "\n",
    "# --- 5. Normalize the data ---------------------------------------------------\n",
    "scaler = StandardScaler()\n",
    "dbscan_scaled = scaler.fit_transform(dbscan_df)\n",
    "\n",
    "# --- 6. Run DBSCAN -----------------------------------------------------------\n",
    "dbscan_model = DBSCAN(eps=0.61, min_samples=5)  # Try changing eps (e.g., 0.5, 1.0, 1.5)\n",
    "dbscan_labels = dbscan_model.fit_predict(dbscan_scaled)\n",
    "dbscan_df[\"DBSCAN_Cluster\"] = dbscan_labels\n",
    "\n",
    "# --- 7. Show cluster counts --------------------------------------------------\n",
    "dbscan_cluster_counts = dbscan_df[\"DBSCAN_Cluster\"].value_counts().sort_index()\n",
    "dbscan_cluster_counts.name = \"Count\"\n",
    "dbscan_cluster_counts = dbscan_cluster_counts.reset_index().rename(columns={\"index\": \"Cluster\"})\n",
    "display(dbscan_cluster_counts)\n",
    "\n",
    "# --- 8. Optional: 2D PCA Visualization ---------------------------------------\n",
    "pca = PCA(n_components=2)\n",
    "pca_components = pca.fit_transform(dbscan_scaled)\n",
    "dbscan_df[\"PCA1\"] = pca_components[:, 0]\n",
    "dbscan_df[\"PCA2\"] = pca_components[:, 1]\n",
    "\n",
    "plt.figure(figsize=(8, 6))\n",
    "sns.scatterplot(data=dbscan_df, x=\"PCA1\", y=\"PCA2\", hue=\"DBSCAN_Cluster\", palette=\"Set2\", s=60)\n",
    "plt.title(\"DBSCAN Customer Segmentation (PCA 2D)\")\n",
    "plt.xlabel(\"PCA Component 1\")\n",
    "plt.ylabel(\"PCA Component 2\")\n",
    "plt.legend(title=\"Cluster\", bbox_to_anchor=(1.05, 1), loc='upper left')\n",
    "plt.grid(True)\n",
    "plt.tight_layout()\n",
    "plt.show()\n"
   ]
  },
  {
   "cell_type": "code",
   "execution_count": null,
   "id": "94fd0faa",
   "metadata": {},
   "outputs": [],
   "source": []
  },
  {
   "cell_type": "code",
   "execution_count": null,
   "id": "98e3f39b",
   "metadata": {},
   "outputs": [],
   "source": [
    "from IPython.display import display\n",
    "\n",
    "# Replace ace_tools.display_dataframe_to_user with this\n",
    "display(dbscan_cluster_counts)"
   ]
  },
  {
   "cell_type": "code",
   "execution_count": null,
   "id": "e496e131",
   "metadata": {},
   "outputs": [],
   "source": []
  }
 ],
 "metadata": {
  "kernelspec": {
   "display_name": "Python 3",
   "language": "python",
   "name": "python3"
  },
  "language_info": {
   "codemirror_mode": {
    "name": "ipython",
    "version": 3
   },
   "file_extension": ".py",
   "mimetype": "text/x-python",
   "name": "python",
   "nbconvert_exporter": "python",
   "pygments_lexer": "ipython3",
   "version": "3.12.10"
  }
 },
 "nbformat": 4,
 "nbformat_minor": 5
}
