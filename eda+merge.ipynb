{
 "cells": [
  {
   "cell_type": "code",
   "execution_count": 55,
   "id": "81e6fd92-b91c-4db0-8de6-e5a880bdda76",
   "metadata": {},
   "outputs": [],
   "source": [
    "import pandas as pd\n",
    "import numpy as np\n",
    "import matplotlib.pyplot as plt\n",
    "import seaborn as sns"
   ]
  },
  {
   "cell_type": "code",
   "execution_count": 56,
   "id": "7a1e85db-ccb5-483a-b94c-61ba34f2d52d",
   "metadata": {},
   "outputs": [
    {
     "name": "stderr",
     "output_type": "stream",
     "text": [
      "C:\\Users\\zhaos\\AppData\\Local\\Temp\\ipykernel_12000\\2095908849.py:3: DtypeWarning: Columns (24,25,28,32,45) have mixed types. Specify dtype option on import or set low_memory=False.\n",
      "  companies = pd.read_csv('anonymized_hubspot_companies.csv')\n"
     ]
    }
   ],
   "source": [
    "tickets = pd.read_csv('anonymized_hubspot_tickets.csv')\n",
    "deals = pd.read_csv('anonymized_hubspot_deals.csv')\n",
    "companies = pd.read_csv('anonymized_hubspot_companies.csv')"
   ]
  },
  {
   "cell_type": "code",
   "execution_count": 57,
   "id": "f04b71e8-03b8-47d7-a063-a7028da9206a",
   "metadata": {},
   "outputs": [
    {
     "data": {
      "text/plain": [
       "593"
      ]
     },
     "execution_count": 57,
     "metadata": {},
     "output_type": "execute_result"
    }
   ],
   "source": [
    "len(deals)"
   ]
  },
  {
   "cell_type": "code",
   "execution_count": 58,
   "id": "6965fc2c-b197-4a63-861c-62f842f2fe8c",
   "metadata": {},
   "outputs": [
    {
     "data": {
      "text/plain": [
       "19851"
      ]
     },
     "execution_count": 58,
     "metadata": {},
     "output_type": "execute_result"
    }
   ],
   "source": [
    "len(companies)"
   ]
  },
  {
   "cell_type": "code",
   "execution_count": 59,
   "id": "74c01060-b0cd-40c8-b6a4-7b00cb265dd4",
   "metadata": {},
   "outputs": [
    {
     "data": {
      "text/plain": [
       "79"
      ]
     },
     "execution_count": 59,
     "metadata": {},
     "output_type": "execute_result"
    }
   ],
   "source": [
    "len(tickets)"
   ]
  },
  {
   "cell_type": "code",
   "execution_count": 60,
   "id": "7d31b61e-5ae4-4a2d-909f-fc1e60fb1adc",
   "metadata": {},
   "outputs": [
    {
     "data": {
      "text/html": [
       "<div>\n",
       "<style scoped>\n",
       "    .dataframe tbody tr th:only-of-type {\n",
       "        vertical-align: middle;\n",
       "    }\n",
       "\n",
       "    .dataframe tbody tr th {\n",
       "        vertical-align: top;\n",
       "    }\n",
       "\n",
       "    .dataframe thead th {\n",
       "        text-align: right;\n",
       "    }\n",
       "</style>\n",
       "<table border=\"1\" class=\"dataframe\">\n",
       "  <thead>\n",
       "    <tr style=\"text-align: right;\">\n",
       "      <th></th>\n",
       "      <th>Create date</th>\n",
       "      <th>Ticket Tags</th>\n",
       "      <th>Stage Date - Project Launch</th>\n",
       "      <th>Associated Contact</th>\n",
       "      <th>Category</th>\n",
       "      <th>Target Launch Date</th>\n",
       "      <th>Kickoff Call</th>\n",
       "      <th>Close date</th>\n",
       "      <th>Pipeline</th>\n",
       "      <th>Stage Date - Project Initiation</th>\n",
       "      <th>Stage Date - Planning Phase</th>\n",
       "      <th>Ticket status</th>\n",
       "      <th>Stage Date - Execution</th>\n",
       "      <th>Time to first agent email reply (HH:mm:ss)</th>\n",
       "      <th>Last CES survey rating</th>\n",
       "      <th>Priority</th>\n",
       "      <th>Associated Company</th>\n",
       "      <th>Who will be creating the Syms?</th>\n",
       "      <th>Stage Date - Closure Phase</th>\n",
       "      <th>Stage Date - Monitoring and Control Phase</th>\n",
       "      <th>Associated Company (Primary)</th>\n",
       "      <th>Response time (HH:mm:ss)</th>\n",
       "      <th>Ticket ID</th>\n",
       "      <th>Time to close (HH:mm:ss)</th>\n",
       "      <th>Associated Deal</th>\n",
       "      <th>Library index approved</th>\n",
       "      <th>Training: General Overview</th>\n",
       "      <th>Latest Milestone</th>\n",
       "      <th>Training: Deployment/User Management Training</th>\n",
       "      <th>Requirements for the Trial</th>\n",
       "      <th>Training: Sym Building 101</th>\n",
       "      <th>Last modified date</th>\n",
       "      <th>Type</th>\n",
       "      <th>Trial End Date</th>\n",
       "      <th>Training: Sym Building 201</th>\n",
       "      <th>Stage Date - Converted Won</th>\n",
       "      <th>Latest Milestone Update Date</th>\n",
       "      <th>Ticket name</th>\n",
       "      <th>Trial Overview</th>\n",
       "      <th>Trial Start Date</th>\n",
       "      <th>1st Syms presented for review</th>\n",
       "      <th>Project Launch Day</th>\n",
       "      <th>Training: Reporting</th>\n",
       "      <th>Construction of 1st Sym begun</th>\n",
       "      <th>Trial Required</th>\n",
       "      <th>Was the sym QAed?</th>\n",
       "    </tr>\n",
       "  </thead>\n",
       "  <tbody>\n",
       "    <tr>\n",
       "      <th>0</th>\n",
       "      <td>2023-12-18 15:02</td>\n",
       "      <td>NaN</td>\n",
       "      <td>NaN</td>\n",
       "      <td>Contact_b6d930b5</td>\n",
       "      <td>NaN</td>\n",
       "      <td>NaN</td>\n",
       "      <td>2023-12-27</td>\n",
       "      <td>2024-01-29 11:50</td>\n",
       "      <td>Project Success Plan</td>\n",
       "      <td>2023-12-18</td>\n",
       "      <td>NaN</td>\n",
       "      <td>Converted-Won</td>\n",
       "      <td>2024-01-02</td>\n",
       "      <td>NaN</td>\n",
       "      <td>NaN</td>\n",
       "      <td>NaN</td>\n",
       "      <td>Company_67d87cec</td>\n",
       "      <td>NaN</td>\n",
       "      <td>2024-01-29</td>\n",
       "      <td>NaN</td>\n",
       "      <td>Company_67d87cec</td>\n",
       "      <td>NaN</td>\n",
       "      <td>2193923207</td>\n",
       "      <td>1004:48:10</td>\n",
       "      <td>Deal_67d87cec</td>\n",
       "      <td>No</td>\n",
       "      <td>NaN</td>\n",
       "      <td>NaN</td>\n",
       "      <td>NaN</td>\n",
       "      <td>Coaching</td>\n",
       "      <td>NaN</td>\n",
       "      <td>2025-02-14 13:39</td>\n",
       "      <td>NaN</td>\n",
       "      <td>NaN</td>\n",
       "      <td>NaN</td>\n",
       "      <td>2024-02-06</td>\n",
       "      <td>NaN</td>\n",
       "      <td>Ticket_4baf7886</td>\n",
       "      <td>NaN</td>\n",
       "      <td>NaN</td>\n",
       "      <td>NaN</td>\n",
       "      <td>NaN</td>\n",
       "      <td>NaN</td>\n",
       "      <td>2023-12-27</td>\n",
       "      <td>NaN</td>\n",
       "      <td>NaN</td>\n",
       "    </tr>\n",
       "    <tr>\n",
       "      <th>1</th>\n",
       "      <td>2024-10-30 12:31</td>\n",
       "      <td>NaN</td>\n",
       "      <td>NaN</td>\n",
       "      <td>Contact_aa84b2e1</td>\n",
       "      <td>NaN</td>\n",
       "      <td>NaN</td>\n",
       "      <td>NaN</td>\n",
       "      <td>2025-02-10 11:18</td>\n",
       "      <td>Project Success Plan</td>\n",
       "      <td>NaN</td>\n",
       "      <td>NaN</td>\n",
       "      <td>Lost</td>\n",
       "      <td>NaN</td>\n",
       "      <td>49:24:00</td>\n",
       "      <td>NaN</td>\n",
       "      <td>NaN</td>\n",
       "      <td>Company_7588d0d5</td>\n",
       "      <td>NaN</td>\n",
       "      <td>NaN</td>\n",
       "      <td>NaN</td>\n",
       "      <td>Company_67d87cec</td>\n",
       "      <td>49:24:00</td>\n",
       "      <td>15899166073</td>\n",
       "      <td>2471:47:33</td>\n",
       "      <td>NaN</td>\n",
       "      <td>NaN</td>\n",
       "      <td>NaN</td>\n",
       "      <td>NaN</td>\n",
       "      <td>NaN</td>\n",
       "      <td>NaN</td>\n",
       "      <td>NaN</td>\n",
       "      <td>2025-02-14 13:39</td>\n",
       "      <td>NaN</td>\n",
       "      <td>2024-11-07</td>\n",
       "      <td>NaN</td>\n",
       "      <td>NaN</td>\n",
       "      <td>NaN</td>\n",
       "      <td>Ticket_88dda9e1</td>\n",
       "      <td>NaN</td>\n",
       "      <td>2024-11-05</td>\n",
       "      <td>NaN</td>\n",
       "      <td>NaN</td>\n",
       "      <td>NaN</td>\n",
       "      <td>NaN</td>\n",
       "      <td>NaN</td>\n",
       "      <td>NaN</td>\n",
       "    </tr>\n",
       "  </tbody>\n",
       "</table>\n",
       "</div>"
      ],
      "text/plain": [
       "        Create date  Ticket Tags Stage Date - Project Launch  \\\n",
       "0  2023-12-18 15:02          NaN                         NaN   \n",
       "1  2024-10-30 12:31          NaN                         NaN   \n",
       "\n",
       "  Associated Contact  Category Target Launch Date Kickoff Call  \\\n",
       "0   Contact_b6d930b5       NaN                NaN   2023-12-27   \n",
       "1   Contact_aa84b2e1       NaN                NaN          NaN   \n",
       "\n",
       "         Close date              Pipeline Stage Date - Project Initiation  \\\n",
       "0  2024-01-29 11:50  Project Success Plan                      2023-12-18   \n",
       "1  2025-02-10 11:18  Project Success Plan                             NaN   \n",
       "\n",
       "   Stage Date - Planning Phase  Ticket status Stage Date - Execution  \\\n",
       "0                          NaN  Converted-Won             2024-01-02   \n",
       "1                          NaN           Lost                    NaN   \n",
       "\n",
       "  Time to first agent email reply (HH:mm:ss)  Last CES survey rating Priority  \\\n",
       "0                                        NaN                     NaN      NaN   \n",
       "1                                   49:24:00                     NaN      NaN   \n",
       "\n",
       "  Associated Company Who will be creating the Syms?  \\\n",
       "0   Company_67d87cec                            NaN   \n",
       "1   Company_7588d0d5                            NaN   \n",
       "\n",
       "  Stage Date - Closure Phase  Stage Date - Monitoring and Control Phase  \\\n",
       "0                 2024-01-29                                        NaN   \n",
       "1                        NaN                                        NaN   \n",
       "\n",
       "  Associated Company (Primary) Response time (HH:mm:ss)    Ticket ID  \\\n",
       "0             Company_67d87cec                      NaN   2193923207   \n",
       "1             Company_67d87cec                 49:24:00  15899166073   \n",
       "\n",
       "  Time to close (HH:mm:ss) Associated Deal Library index approved  \\\n",
       "0               1004:48:10   Deal_67d87cec                     No   \n",
       "1               2471:47:33             NaN                    NaN   \n",
       "\n",
       "  Training: General Overview Latest Milestone  \\\n",
       "0                        NaN              NaN   \n",
       "1                        NaN              NaN   \n",
       "\n",
       "  Training: Deployment/User Management Training Requirements for the Trial  \\\n",
       "0                                           NaN                   Coaching   \n",
       "1                                           NaN                        NaN   \n",
       "\n",
       "  Training: Sym Building 101 Last modified date Type Trial End Date  \\\n",
       "0                        NaN   2025-02-14 13:39  NaN            NaN   \n",
       "1                        NaN   2025-02-14 13:39  NaN     2024-11-07   \n",
       "\n",
       "  Training: Sym Building 201 Stage Date - Converted Won  \\\n",
       "0                        NaN                 2024-02-06   \n",
       "1                        NaN                        NaN   \n",
       "\n",
       "  Latest Milestone Update Date      Ticket name Trial Overview  \\\n",
       "0                          NaN  Ticket_4baf7886            NaN   \n",
       "1                          NaN  Ticket_88dda9e1            NaN   \n",
       "\n",
       "  Trial Start Date 1st Syms presented for review Project Launch Day  \\\n",
       "0              NaN                           NaN                NaN   \n",
       "1       2024-11-05                           NaN                NaN   \n",
       "\n",
       "  Training: Reporting Construction of 1st Sym begun Trial Required  \\\n",
       "0                 NaN                    2023-12-27            NaN   \n",
       "1                 NaN                           NaN            NaN   \n",
       "\n",
       "   Was the sym QAed?  \n",
       "0                NaN  \n",
       "1                NaN  "
      ]
     },
     "execution_count": 60,
     "metadata": {},
     "output_type": "execute_result"
    }
   ],
   "source": [
    "pd.set_option('display.max_columns', None)\n",
    "tickets.head(n = 2)"
   ]
  },
  {
   "cell_type": "code",
   "execution_count": 61,
   "id": "07b892a6-121b-4fbe-929f-85f8576f554d",
   "metadata": {},
   "outputs": [],
   "source": [
    "# EDA for deals"
   ]
  },
  {
   "cell_type": "code",
   "execution_count": 62,
   "id": "8a75abd8-acb4-4f76-b8d6-11aac9119baa",
   "metadata": {},
   "outputs": [
    {
     "name": "stdout",
     "output_type": "stream",
     "text": [
      "Columns to drop (over 90% missing):\n",
      "['Cumulative time in \"Closed Lost (Sales Pipeline)\" (HH:mm:ss)', 'Annual contract value', 'Annual recurring revenue', 'Monthly recurring revenue', 'Forecast probability', 'Cumulative time in \"Closed Trial (Sales Pipeline)\" (HH:mm:ss)', 'Total contract value', 'Cumulative time in \"Closed Won (Sales Pipeline)\" (HH:mm:ss)']\n"
     ]
    }
   ],
   "source": [
    "# 1. Drop Columns with >95% Missing Values\n",
    "# Identify columns with >95% missing values\n",
    "high_missing_cols = deals.columns[deals.isnull().mean() > 0.95]\n",
    "print(\"Columns to drop (over 90% missing):\")\n",
    "print(high_missing_cols.tolist())\n",
    "\n",
    "# Drop them\n",
    "deals_cleaned = deals.drop(columns=high_missing_cols)"
   ]
  },
  {
   "cell_type": "code",
   "execution_count": 63,
   "id": "8b8b7263-0088-4096-9d13-bf9fc7d87d3c",
   "metadata": {},
   "outputs": [
    {
     "name": "stdout",
     "output_type": "stream",
     "text": [
      "Missing in 'Amount': 0.03372681281618887\n",
      "count        573.000000\n",
      "mean       40013.277487\n",
      "std        77441.027305\n",
      "min            0.000000\n",
      "25%         4800.000000\n",
      "50%        24000.000000\n",
      "75%        50000.000000\n",
      "max      1000000.000000\n",
      "Name: Amount, dtype: float64\n"
     ]
    },
    {
     "data": {
      "image/png": "[encoded data removed]",
      "text/plain": [
       "<Figure size 640x480 with 1 Axes>"
      ]
     },
     "metadata": {},
     "output_type": "display_data"
    }
   ],
   "source": [
    "#2. Check and Visualize Amount Field\n",
    "import matplotlib.pyplot as plt\n",
    "import seaborn as sns\n",
    "\n",
    "# Check missing % and basic stats\n",
    "print(\"Missing in 'Amount':\", deals_cleaned['Amount'].isnull().mean())\n",
    "print(deals_cleaned['Amount'].describe())\n",
    "\n",
    "# Distribution plot\n",
    "sns.histplot(deals_cleaned['Amount'].dropna(), kde=True)\n",
    "plt.title(\"Distribution of Deal Amounts\")\n",
    "plt.xlabel(\"Amount\")\n",
    "plt.ylabel(\"Frequency\")\n",
    "plt.show()\n"
   ]
  },
  {
   "cell_type": "code",
   "execution_count": 64,
   "id": "0f313640-f9d8-4d72-b82c-09dd17555c9a",
   "metadata": {},
   "outputs": [
    {
     "name": "stdout",
     "output_type": "stream",
     "text": [
      "count     593.000000\n",
      "mean      153.819562\n",
      "std       134.044086\n",
      "min         0.000000\n",
      "25%        89.000000\n",
      "50%       128.000000\n",
      "75%       167.000000\n",
      "max      1045.000000\n",
      "Name: Days to close, dtype: float64\n"
     ]
    },
    {
     "data": {
      "image/png": "[encoded data removed]",
      "text/plain": [
       "<Figure size 640x480 with 1 Axes>"
      ]
     },
     "metadata": {},
     "output_type": "display_data"
    }
   ],
   "source": [
    "# 3. Check for Outliers in Days to Close\n",
    "# Basic stats\n",
    "print(deals_cleaned['Days to close'].describe())\n",
    "\n",
    "# Boxplot to check for outliers\n",
    "sns.boxplot(x=deals_cleaned['Days to close'])\n",
    "plt.title(\"Outliers in Days to Close\")\n",
    "plt.show()\n"
   ]
  },
  {
   "cell_type": "code",
   "execution_count": 65,
   "id": "45b12143-b11f-4369-b202-fa0cde8b7261",
   "metadata": {},
   "outputs": [
    {
     "data": {
      "image/png": "[encoded data removed]",
      "text/plain": [
       "<Figure size 640x480 with 1 Axes>"
      ]
     },
     "metadata": {},
     "output_type": "display_data"
    }
   ],
   "source": [
    "# 4. Explore Deal Probability vs. Outcome\n",
    "# Boxplot of probability by deal outcome\n",
    "sns.boxplot(x=deals_cleaned['Is Closed Won'], y=deals_cleaned['Deal probability'])\n",
    "plt.title(\"Deal Probability vs Closed Won\")\n",
    "plt.xlabel(\"Is Closed Won\")\n",
    "plt.ylabel(\"Deal Probability\")\n",
    "plt.show()\n"
   ]
  },
  {
   "cell_type": "code",
   "execution_count": 66,
   "id": "527044c4-2ba0-4391-b9ab-a1d42fb1e75e",
   "metadata": {},
   "outputs": [],
   "source": [
    "# EDA for tickets"
   ]
  },
  {
   "cell_type": "code",
   "execution_count": 67,
   "id": "ce629f20-72a0-4fc8-9681-e7aa3b89ebbb",
   "metadata": {},
   "outputs": [
    {
     "name": "stdout",
     "output_type": "stream",
     "text": [
      "Dropped columns: ['Ticket Tags', 'Category', 'Stage Date - Planning Phase', 'Last CES survey rating', 'Priority', 'Who will be creating the Syms?', 'Stage Date - Monitoring and Control Phase', 'Type', 'Trial Required', 'Was the sym QAed?']\n",
      "  Time to close (HH:mm:ss) Response time (HH:mm:ss)  \\\n",
      "0               1004:48:10                      NaN   \n",
      "1               2471:47:33                 49:24:00   \n",
      "2                      NaN               1516:30:41   \n",
      "3               2853:51:33                 26:25:51   \n",
      "4                      NaN                 13:32:11   \n",
      "\n",
      "  Time to first agent email reply (HH:mm:ss)  \n",
      "0                                        NaN  \n",
      "1                                   49:24:00  \n",
      "2                                 1516:30:41  \n",
      "3                                   26:25:51  \n",
      "4                                   13:32:11  \n",
      "Tickets with associated deal: 58\n",
      "Tickets without associated deal: 21\n",
      "Training: Sym Building 201                       75.949367\n",
      "Training: Reporting                              69.620253\n",
      "Training: Sym Building 101                       68.354430\n",
      "Training: Deployment/User Management Training    67.088608\n",
      "Training: General Overview                       64.556962\n",
      "dtype: float64\n"
     ]
    }
   ],
   "source": [
    "# 1. Drop columns with >95% missing\n",
    "high_missing = tickets.columns[tickets.isnull().mean() > 0.95]\n",
    "tickets_cleaned = tickets.drop(columns=high_missing)\n",
    "print(\"Dropped columns:\", list(high_missing))\n",
    "\n",
    "# 2. Check time-related fields\n",
    "time_fields = ['Time to close (HH:mm:ss)', 'Response time (HH:mm:ss)', 'Time to first agent email reply (HH:mm:ss)']\n",
    "print(tickets_cleaned[time_fields].head())\n",
    "\n",
    "# 3. Associated Deal analysis\n",
    "print(\"Tickets with associated deal:\", tickets_cleaned['Associated Deal'].notnull().sum())\n",
    "print(\"Tickets without associated deal:\", tickets_cleaned['Associated Deal'].isnull().sum())\n",
    "\n",
    "# 4. Training completion overview\n",
    "training_cols = [col for col in tickets.columns if \"Training\" in col]\n",
    "training_missing = tickets[training_cols].isnull().mean() * 100\n",
    "print(training_missing.sort_values(ascending=False))\n"
   ]
  },
  {
   "cell_type": "code",
   "execution_count": 68,
   "id": "cefd0163-65e7-4e54-ad12-43c9b3aaa015",
   "metadata": {},
   "outputs": [],
   "source": [
    "# EDA for companies"
   ]
  },
  {
   "cell_type": "code",
   "execution_count": 69,
   "id": "9f654a43-d82f-42a1-aa09-ab9ab03bd0fc",
   "metadata": {},
   "outputs": [
    {
     "name": "stdout",
     "output_type": "stream",
     "text": [
      "Dropped columns: ['Parent Company', 'Target Account', 'Total Agents', 'Close Date', '# of Agents Total', 'Revenue range', '# of Agents Contracted', 'Primary Company', 'Industry group', 'LMS System', 'SymTrain Use Cases', 'Associated Company', 'BPO', 'SSO Application', 'SymTrain Product', 'Contract End Date', 'SSO Implemented?', 'BPO Program', 'WFM', 'BPO Program Tier']\n"
     ]
    }
   ],
   "source": [
    "# 1. Drop High-Missing Columns\n",
    "high_missing_cols = companies.columns[companies.isnull().mean() > 0.95]\n",
    "companies_cleaned = companies.drop(columns=high_missing_cols)\n",
    "print(\"Dropped columns:\", list(high_missing_cols))"
   ]
  },
  {
   "cell_type": "code",
   "execution_count": 70,
   "id": "34a620ab-95ae-4d1a-9d70-dcb4c445b434",
   "metadata": {},
   "outputs": [
    {
     "name": "stdout",
     "output_type": "stream",
     "text": [
      "Industry\n",
      "Computer Software                   1216\n",
      "Hospital & Health Care              1197\n",
      "Insurance                           1024\n",
      "Banking                              901\n",
      "NaN                                  774\n",
      "Financial Services                   712\n",
      "Professional Training & Coaching     669\n",
      "Higher Education                     645\n",
      "Technology                           594\n",
      "Construction                         505\n",
      "Name: count, dtype: int64\n"
     ]
    },
    {
     "data": {
      "image/png": "[encoded data removed]",
      "text/plain": [
       "<Figure size 640x480 with 1 Axes>"
      ]
     },
     "metadata": {},
     "output_type": "display_data"
    }
   ],
   "source": [
    "# 2. Explore Industry and Size\n",
    "# Industry distribution\n",
    "print(companies['Industry'].value_counts(dropna=False).head(10))\n",
    "\n",
    "# Number of employees distribution\n",
    "import seaborn as sns\n",
    "import matplotlib.pyplot as plt\n",
    "\n",
    "sns.histplot(companies['Number of Employees'].dropna(), bins=30)\n",
    "plt.title(\"Distribution of Company Size\")\n",
    "plt.xlabel(\"Number of Employees\")\n",
    "plt.show()\n"
   ]
  },
  {
   "cell_type": "code",
   "execution_count": 71,
   "id": "8407555d-8c3b-4cbe-b277-77e2f660744c",
   "metadata": {},
   "outputs": [
    {
     "name": "stdout",
     "output_type": "stream",
     "text": [
      "Country/Region\n",
      "united states     14670\n",
      "canada              927\n",
      "united kingdom      470\n",
      "india               382\n",
      "australia           226\n",
      "germany             208\n",
      "france              190\n",
      "japan               162\n",
      "switzerland         127\n",
      "singapore            87\n",
      "Name: count, dtype: int64\n"
     ]
    }
   ],
   "source": [
    "# 3. Standardize Country/Region\n",
    "# Check unique values and casing\n",
    "print(companies['Country/Region'].str.strip().str.lower().value_counts().head(10))"
   ]
  },
  {
   "cell_type": "code",
   "execution_count": 72,
   "id": "8f8068b8-527f-4a09-aeeb-17dbaef50f41",
   "metadata": {},
   "outputs": [
    {
     "name": "stdout",
     "output_type": "stream",
     "text": [
      "0                                             Route 53\n",
      "2    Youtube; App Nexus; Google Tag Manager; Facebo...\n",
      "3    Postmark; Facebook Advertiser; Salesforce; Goo...\n",
      "4    Microsoft Office 365; Google Tag Manager; Reca...\n",
      "6    Youtube; Apache; Google Maps; Wordpress; Tawk;...\n",
      "Name: Web Technologies, dtype: object\n"
     ]
    }
   ],
   "source": [
    "# 4. Parse Web Technologies (example split by comma)\n",
    "# View how web technologies look\n",
    "print(companies['Web Technologies'].dropna().head())\n",
    "\n",
    "# Convert to lists\n",
    "companies['Web_Tech_List'] = companies['Web Technologies'].dropna().apply(lambda x: [tech.strip() for tech in str(x).split(',')])"
   ]
  },
  {
   "cell_type": "code",
   "execution_count": 73,
   "id": "b69bad08-da7e-43f1-b0d7-a4dc4f69235c",
   "metadata": {},
   "outputs": [
    {
     "name": "stdout",
     "output_type": "stream",
     "text": [
      "BPO\n",
      "NaN                                                                         19770\n",
      "Etech                                                                          38\n",
      "Startek                                                                        11\n",
      "Redial                                                                          7\n",
      "Arise                                                                           3\n",
      "Alorica                                                                         3\n",
      "Everise                                                                         3\n",
      "Lean                                                                            2\n",
      "DialAmerica                                                                     2\n",
      "TTEC                                                                            2\n",
      "ERC                                                                             2\n",
      "Other                                                                           2\n",
      "Startek; Etech                                                                  1\n",
      "Continuum; TTEC                                                                 1\n",
      "Concentrix; Qualfon                                                             1\n",
      "Alorica; Concentrix; Continuum; Etech; Qualfon; Televista; Startek; TTEC        1\n",
      "Startek; ERC; Other                                                             1\n",
      "PDC                                                                             1\n",
      "Name: count, dtype: int64\n",
      "BPO Program\n",
      "NaN    19837\n",
      "Yes       14\n",
      "Name: count, dtype: int64\n"
     ]
    }
   ],
   "source": [
    "# 5. Explore BPO Flag Inconsistencies\n",
    "print(companies['BPO'].value_counts(dropna=False))\n",
    "print(companies['BPO Program'].value_counts(dropna=False))\n"
   ]
  },
  {
   "cell_type": "code",
   "execution_count": 74,
   "id": "9f67bbbd-8dc9-4952-a848-d7946d79d923",
   "metadata": {},
   "outputs": [
    {
     "name": "stdout",
     "output_type": "stream",
     "text": [
      "Total tickets with non-null 'Associated Deal': 79\n",
      "Matching deals found in deals_cleaned dataset: 38\n"
     ]
    }
   ],
   "source": [
    "# Ensure deal identifier fields are strings\n",
    "tickets_cleaned['Associated Deal'] = tickets_cleaned['Associated Deal'].astype(str)\n",
    "deals_cleaned['Deal Name'] = deals_cleaned['Deal Name'].astype(str)\n",
    "\n",
    "# Find tickets whose 'Associated Deal' matches a 'Deal Name'\n",
    "overlapping_deals = tickets_cleaned[tickets_cleaned['Associated Deal'].isin(deals_cleaned['Deal Name'])]\n",
    "\n",
    "# Summary stats\n",
    "overlap_count = overlapping_deals['Associated Deal'].nunique()\n",
    "total_tickets_with_deals = tickets_cleaned['Associated Deal'].notnull().sum()\n",
    "\n",
    "print(\"Total tickets with non-null 'Associated Deal':\", total_tickets_with_deals)\n",
    "print(\"Matching deals found in deals_cleaned dataset:\", overlap_count)\n"
   ]
  },
  {
   "cell_type": "code",
   "execution_count": 75,
   "id": "a1bfd8bb-e243-4b2f-b4fd-f6e2c7ab84dd",
   "metadata": {},
   "outputs": [],
   "source": [
    "# Merge tickets and deals"
   ]
  },
  {
   "cell_type": "code",
   "execution_count": 78,
   "id": "d9333e7b-f3d8-4663-be49-7bb550a835b2",
   "metadata": {},
   "outputs": [
    {
     "name": "stdout",
     "output_type": "stream",
     "text": [
      "✅ Merge Summary:\n",
      "Tickets with mapped deal: 58\n",
      "Merged Rows: 57\n",
      "Unique Ticket IDs in Merge: 56\n",
      "Unique Deal Names in Merge: 38\n"
     ]
    }
   ],
   "source": [
    "import json\n",
    "\n",
    "# Step 1: Load mapping file (CompanyToTickets)\n",
    "with open('mappings.json', 'r') as f:\n",
    "    mappings = json.load(f)\n",
    "\n",
    "# Load mappings.json\n",
    "with open(\"mappings.json\", \"r\") as f:\n",
    "    mappings = json.load(f)\n",
    "\n",
    "# Extract TicketToDeal mapping\n",
    "ticket_to_deal = mappings[\"TicketToDeal\"]\n",
    "\n",
    "# Map ticket IDs to Deal Names\n",
    "tickets_cleaned[\"Ticket ID\"] = tickets_cleaned[\"Ticket ID\"].astype(str)\n",
    "deals_cleaned[\"Deal Name\"] = deals_cleaned[\"Deal Name\"].astype(str)\n",
    "tickets_cleaned[\"Mapped Deal Name\"] = tickets_cleaned[\"Ticket ID\"].map(ticket_to_deal)\n",
    "\n",
    "# Merge using Deal Name (not Record ID!)\n",
    "merged_tickets_deals = pd.merge(\n",
    "    tickets_cleaned,\n",
    "    deals_cleaned,\n",
    "    left_on=\"Mapped Deal Name\",\n",
    "    right_on=\"Deal Name\",\n",
    "    how=\"inner\",\n",
    "    suffixes=(\"_ticket\", \"_deal\")\n",
    ")\n",
    "\n",
    "# Optional: Summary of the merge\n",
    "merge_report = {\n",
    "    \"Tickets with mapped deal\": tickets_cleaned[\"Mapped Deal Name\"].notnull().sum(),\n",
    "    \"Merged Rows\": merged_tickets_deals.shape[0],\n",
    "    \"Unique Ticket IDs in Merge\": merged_tickets_deals[\"Ticket ID\"].nunique(),\n",
    "    \"Unique Deal Names in Merge\": merged_tickets_deals[\"Deal Name\"].nunique()\n",
    "}\n",
    "\n",
    "print(\"✅ Merge Summary:\")\n",
    "for k, v in merge_report.items():\n",
    "    print(f\"{k}: {v}\")"
   ]
  },
  {
   "cell_type": "code",
   "execution_count": 79,
   "id": "93e5bc37-5b86-4969-a95d-2c9b5388d46f",
   "metadata": {},
   "outputs": [
    {
     "name": "stdout",
     "output_type": "stream",
     "text": [
      "📊 Merge Quality Report\n",
      "Tickets with mapped deals: 58\n",
      "Merged rows: 57\n",
      "Unique ticket IDs in merged data: 56\n",
      "Unique deal names in merged data: 38\n",
      "Duplicate ticket IDs in merged data: 1\n",
      "Deals linked to multiple tickets: 10\n",
      "Closed Won deals (if available): 31\n"
     ]
    }
   ],
   "source": [
    "# Check the merge quality\n",
    "# Check total number of tickets that had a mapping\n",
    "total_mapped_tickets = tickets_cleaned[\"Mapped Deal Name\"].notnull().sum()\n",
    "\n",
    "# Check how many tickets successfully merged\n",
    "total_merged_rows = merged_tickets_deals.shape[0]\n",
    "unique_ticket_ids = merged_tickets_deals[\"Ticket ID\"].nunique()\n",
    "unique_deal_names = merged_tickets_deals[\"Deal Name\"].nunique()\n",
    "\n",
    "# Check for duplicates (1 ticket → multiple deal rows)\n",
    "duplicate_ticket_ids = merged_tickets_deals[\"Ticket ID\"].duplicated().sum()\n",
    "\n",
    "# Check for deals associated with multiple tickets\n",
    "deal_to_ticket_counts = merged_tickets_deals[\"Mapped Deal Name\"].value_counts()\n",
    "deals_with_multiple_tickets = (deal_to_ticket_counts > 1).sum()\n",
    "\n",
    "# Optional: Check how many merged deals are Closed Won\n",
    "if \"Is Closed Won\" in merged_tickets_deals.columns:\n",
    "    closed_won_count = merged_tickets_deals[\"Is Closed Won\"].sum()\n",
    "else:\n",
    "    closed_won_count = \"Not Available\"\n",
    "\n",
    "# Compile report\n",
    "merge_quality_report = {\n",
    "    \"Tickets with mapped deals\": total_mapped_tickets,\n",
    "    \"Merged rows\": total_merged_rows,\n",
    "    \"Unique ticket IDs in merged data\": unique_ticket_ids,\n",
    "    \"Unique deal names in merged data\": unique_deal_names,\n",
    "    \"Duplicate ticket IDs in merged data\": duplicate_ticket_ids,\n",
    "    \"Deals linked to multiple tickets\": deals_with_multiple_tickets,\n",
    "    \"Closed Won deals (if available)\": closed_won_count\n",
    "}\n",
    "\n",
    "# Display report\n",
    "print(\"📊 Merge Quality Report\")\n",
    "for key, value in merge_quality_report.items():\n",
    "    print(f\"{key}: {value}\")\n"
   ]
  },
  {
   "cell_type": "markdown",
   "id": "65fa4243-5477-41b7-ac42-85cb0a8b8b08",
   "metadata": {},
   "source": [
    "# Problems to solve in the Final Report and Posisble Solutions:\n",
    "\n"
   ]
  },
  {
   "cell_type": "code",
   "execution_count": 248,
   "id": "d0295cc3-6a99-4bbc-8f91-b10a5c5466b9",
   "metadata": {},
   "outputs": [],
   "source": [
    "import pandas as pd\n",
    "\n",
    "# Define the left column (objectives) and right column (model suggestions)\n",
    "objectives = [\n",
    "    \"Segment prospective customers based on company characteristics and provide tailored outreach strategies\",\n",
    "    \"Guide sales progression through pipeline stages with specific actions for each stage\",\n",
    "    \"Predict deal outcomes based on company profile and deal characteristics\",\n",
    "    \"Optimize implementation handoffs between sales and customer success\",\n",
    "    \"Recommend resource allocation based on customer segment and complexity\",\n",
    "    \"Present insights through an interactive dashboard for sales team usage\",\n",
    "    \"Process data through an ETL pipeline to keep recommendations current\",\n",
    "    \"Deploy as a containerized application for consistent environment setup\"\n",
    "]\n",
    "\n",
    "model_suggestions = [\n",
    "    \"Clustering (KMeans, DBSCAN), EDA\",\n",
    "    'Look into the ticket data and the deals data, is all steps always needed for a successful deal? Is training always needed for upsell and new customers? ',\n",
    "    \"Classification models (Logistic Regression, Random Forest, XGBoost, Neural Network for Binary classification)\",\n",
    "    \" \",\n",
    "    \"complexity can be measured by total tickets needed for each deal, average resolution time needed, etc, does different segments of customers have the same implementation complexity?  Does different segments of customers requires same actions?\",\n",
    "    \"Streamlit\",\n",
    "    \"ETL frameworks (Pandas pipelines), data cleaning scripts\",\n",
    "    \"Docker, Docker Compose, Kubernetes for containerization and deployment\"\n",
    "]\n",
    "\n",
    "# Create the dataframe\n",
    "df = pd.DataFrame({\n",
    "    \"Project Objective\": objectives,\n",
    "    \"Suggested Models / Tools\": model_suggestions\n",
    "})\n",
    "\n",
    "\n"
   ]
  },
  {
   "cell_type": "code",
   "execution_count": 250,
   "id": "8e892ba3-18e3-4eae-9816-e2b915b772b8",
   "metadata": {},
   "outputs": [
    {
     "data": {
      "text/html": [
       "<div>\n",
       "<style scoped>\n",
       "    .dataframe tbody tr th:only-of-type {\n",
       "        vertical-align: middle;\n",
       "    }\n",
       "\n",
       "    .dataframe tbody tr th {\n",
       "        vertical-align: top;\n",
       "    }\n",
       "\n",
       "    .dataframe thead th {\n",
       "        text-align: right;\n",
       "    }\n",
       "</style>\n",
       "<table border=\"1\" class=\"dataframe\">\n",
       "  <thead>\n",
       "    <tr style=\"text-align: right;\">\n",
       "      <th></th>\n",
       "      <th>Project Objective</th>\n",
       "      <th>Suggested Models / Tools</th>\n",
       "    </tr>\n",
       "  </thead>\n",
       "  <tbody>\n",
       "    <tr>\n",
       "      <th>0</th>\n",
       "      <td>Segment prospective customers based on company...</td>\n",
       "      <td>Clustering (KMeans, DBSCAN), EDA</td>\n",
       "    </tr>\n",
       "    <tr>\n",
       "      <th>1</th>\n",
       "      <td>Guide sales progression through pipeline stage...</td>\n",
       "      <td>Look into the ticket data and the deals data, ...</td>\n",
       "    </tr>\n",
       "    <tr>\n",
       "      <th>2</th>\n",
       "      <td>Predict deal outcomes based on company profile...</td>\n",
       "      <td>Classification models (Logistic Regression, Ra...</td>\n",
       "    </tr>\n",
       "    <tr>\n",
       "      <th>3</th>\n",
       "      <td>Optimize implementation handoffs between sales...</td>\n",
       "      <td></td>\n",
       "    </tr>\n",
       "    <tr>\n",
       "      <th>4</th>\n",
       "      <td>Recommend resource allocation based on custome...</td>\n",
       "      <td>complexity can be measured by total tickets ne...</td>\n",
       "    </tr>\n",
       "    <tr>\n",
       "      <th>5</th>\n",
       "      <td>Present insights through an interactive dashbo...</td>\n",
       "      <td>Streamlit</td>\n",
       "    </tr>\n",
       "    <tr>\n",
       "      <th>6</th>\n",
       "      <td>Process data through an ETL pipeline to keep r...</td>\n",
       "      <td>ETL frameworks (Pandas pipelines), data cleani...</td>\n",
       "    </tr>\n",
       "    <tr>\n",
       "      <th>7</th>\n",
       "      <td>Deploy as a containerized application for cons...</td>\n",
       "      <td>Docker, Docker Compose, Kubernetes for contain...</td>\n",
       "    </tr>\n",
       "  </tbody>\n",
       "</table>\n",
       "</div>"
      ],
      "text/plain": [
       "                                   Project Objective  \\\n",
       "0  Segment prospective customers based on company...   \n",
       "1  Guide sales progression through pipeline stage...   \n",
       "2  Predict deal outcomes based on company profile...   \n",
       "3  Optimize implementation handoffs between sales...   \n",
       "4  Recommend resource allocation based on custome...   \n",
       "5  Present insights through an interactive dashbo...   \n",
       "6  Process data through an ETL pipeline to keep r...   \n",
       "7  Deploy as a containerized application for cons...   \n",
       "\n",
       "                            Suggested Models / Tools  \n",
       "0                   Clustering (KMeans, DBSCAN), EDA  \n",
       "1  Look into the ticket data and the deals data, ...  \n",
       "2  Classification models (Logistic Regression, Ra...  \n",
       "3                                                     \n",
       "4  complexity can be measured by total tickets ne...  \n",
       "5                                          Streamlit  \n",
       "6  ETL frameworks (Pandas pipelines), data cleani...  \n",
       "7  Docker, Docker Compose, Kubernetes for contain...  "
      ]
     },
     "execution_count": 250,
     "metadata": {},
     "output_type": "execute_result"
    }
   ],
   "source": [
    "df"
   ]
  },
  {
   "cell_type": "markdown",
   "id": "f2766b89-31a5-4a1b-9ca1-ce9acd3f8873",
   "metadata": {},
   "source": [
    "### Possible Q&A\n",
    "\n",
    "\n",
    "\n",
    "### Q1: What does it mean by ‘customer segment and complexity’ in the requirement *“Recommend resource allocation based on customer segment and complexity”*? Also, what are the actions to take at each stage — aren’t those actions fixed?\n",
    "\n",
    "**A1:**  \n",
    "Customer segment and implementation complexity can be evaluated primarily through the **ticket data**. Some useful indicators include:\n",
    "\n",
    "- Number of support tickets generated per implementation (more tickets may indicate higher complexity)\n",
    "- Average resolution time for implementation-related issues\n",
    "- Whether SSO (Single Sign-On) was required and whether it accelerated or delayed implementation\n",
    "\n",
    "You can quantify **implementation complexity** by engineering a feature that aggregates these signals.\n",
    "\n",
    "\n",
    "### Q2: What are the actions to take at each stage — aren’t those actions fixed?\n",
    "\n",
    "**A:**  \n",
    "Yes, the standard actions for each stage are typically fixed. However, the ticket and deal data may reveal valuable insights that can help **adapt or skip certain stages** under specific conditions. For example:\n",
    "\n",
    "- If the deal is an **upsell** to an existing customer, the **training stage** may not be necessary, as the customer is already familiar with the product.\n",
    "- What does historical data show? Have some successful deals **skipped onboarding or negotiation** and still closed faster or more successfully?\n",
    "\n",
    "\n",
    "\n",
    "\n"
   ]
  },
  {
   "attachments": {},
   "cell_type": "markdown",
   "id": "a38b6078-8967-436d-b740-062691731942",
   "metadata": {},
   "source": [
    "# Final Report Format\n",
    "\n",
    "1. Title Page (project title, course name, group member name and VUID)\n",
    "2. Introduction\n",
    "3. Data Overview & Exploration\n",
    "4. Data Processing\n",
    "5. Model Deployment\n",
    "6. Dashboard & Visualization\n",
    "7. Deployment & Technical Implementation\n",
    "8. Business Insights & Recommendations\n",
    "9. Conclusion & Future Work\n",
    "10. References (if applicable) \n"
   ]
  },
  {
   "cell_type": "code",
   "execution_count": null,
   "id": "af137bfb-a91f-4157-b9b0-7a2d4fdec827",
   "metadata": {},
   "outputs": [],
   "source": []
  }
 ],
 "metadata": {
  "kernelspec": {
   "display_name": "Python 3 (ipykernel)",
   "language": "python",
   "name": "python3"
  },
  "language_info": {
   "codemirror_mode": {
    "name": "ipython",
    "version": 3
   },
   "file_extension": ".py",
   "mimetype": "text/x-python",
   "name": "python",
   "nbconvert_exporter": "python",
   "pygments_lexer": "ipython3",
   "version": "3.12.4"
  }
 },
 "nbformat": 4,
 "nbformat_minor": 5
}
